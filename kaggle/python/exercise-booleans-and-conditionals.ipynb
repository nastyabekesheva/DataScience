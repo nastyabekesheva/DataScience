{
 "cells": [
  {
   "cell_type": "markdown",
   "id": "228bfa5f",
   "metadata": {
    "papermill": {
     "duration": 0.010817,
     "end_time": "2022-09-19T14:11:54.928512",
     "exception": false,
     "start_time": "2022-09-19T14:11:54.917695",
     "status": "completed"
    },
    "tags": []
   },
   "source": [
    "**This notebook is an exercise in the [Python](https://www.kaggle.com/learn/python) course.  You can reference the tutorial at [this link](https://www.kaggle.com/colinmorris/booleans-and-conditionals).**\n",
    "\n",
    "---\n"
   ]
  },
  {
   "cell_type": "markdown",
   "id": "5b6d0bae",
   "metadata": {
    "papermill": {
     "duration": 0.009447,
     "end_time": "2022-09-19T14:11:54.948310",
     "exception": false,
     "start_time": "2022-09-19T14:11:54.938863",
     "status": "completed"
    },
    "tags": []
   },
   "source": [
    "In this exercise, you'll put to work what you have learned about booleans and conditionals.\n",
    "\n",
    "To get started, **run the setup code below** before writing your own code (and if you leave this notebook and come back later, don't forget to run the setup code again)."
   ]
  },
  {
   "cell_type": "code",
   "execution_count": 1,
   "id": "feda9156",
   "metadata": {
    "execution": {
     "iopub.execute_input": "2022-09-19T14:11:54.969593Z",
     "iopub.status.busy": "2022-09-19T14:11:54.968927Z",
     "iopub.status.idle": "2022-09-19T14:11:55.038138Z",
     "shell.execute_reply": "2022-09-19T14:11:55.036342Z"
    },
    "papermill": {
     "duration": 0.084137,
     "end_time": "2022-09-19T14:11:55.041716",
     "exception": false,
     "start_time": "2022-09-19T14:11:54.957579",
     "status": "completed"
    },
    "tags": []
   },
   "outputs": [
    {
     "name": "stdout",
     "output_type": "stream",
     "text": [
      "Setup complete.\n"
     ]
    }
   ],
   "source": [
    "from learntools.core import binder; binder.bind(globals())\n",
    "from learntools.python.ex3 import *\n",
    "print('Setup complete.')"
   ]
  },
  {
   "cell_type": "markdown",
   "id": "42e1034f",
   "metadata": {
    "papermill": {
     "duration": 0.008795,
     "end_time": "2022-09-19T14:11:55.060015",
     "exception": false,
     "start_time": "2022-09-19T14:11:55.051220",
     "status": "completed"
    },
    "tags": []
   },
   "source": [
    "# 1.\n",
    "\n",
    "Many programming languages have [`sign`](https://en.wikipedia.org/wiki/Sign_function) available as a built-in function. Python doesn't, but we can define our own!\n",
    "\n",
    "In the cell below, define a function called `sign` which takes a numerical argument and returns -1 if it's negative, 1 if it's positive, and 0 if it's 0."
   ]
  },
  {
   "cell_type": "code",
   "execution_count": 2,
   "id": "204de818",
   "metadata": {
    "execution": {
     "iopub.execute_input": "2022-09-19T14:11:55.081550Z",
     "iopub.status.busy": "2022-09-19T14:11:55.080348Z",
     "iopub.status.idle": "2022-09-19T14:11:55.093091Z",
     "shell.execute_reply": "2022-09-19T14:11:55.092110Z"
    },
    "papermill": {
     "duration": 0.025929,
     "end_time": "2022-09-19T14:11:55.095221",
     "exception": false,
     "start_time": "2022-09-19T14:11:55.069292",
     "status": "completed"
    },
    "tags": []
   },
   "outputs": [
    {
     "data": {
      "application/javascript": [
       "parent.postMessage({\"jupyterEvent\": \"custom.exercise_interaction\", \"data\": {\"outcomeType\": 1, \"valueTowardsCompletion\": 0.2, \"interactionType\": 1, \"questionType\": 2, \"questionId\": \"1_SignFunctionProblem\", \"learnToolsVersion\": \"0.3.4\", \"failureMessage\": \"\", \"exceptionClass\": \"\", \"trace\": \"\"}}, \"*\")"
      ],
      "text/plain": [
       "<IPython.core.display.Javascript object>"
      ]
     },
     "metadata": {},
     "output_type": "display_data"
    },
    {
     "data": {
      "text/markdown": [
       "<span style=\"color:#33cc33\">Correct</span>"
      ],
      "text/plain": [
       "Correct"
      ]
     },
     "metadata": {},
     "output_type": "display_data"
    }
   ],
   "source": [
    "# Your code goes here. Define a function called 'sign'\n",
    "\n",
    "# Check your answer\n",
    "def sign(num):\n",
    "    ans = 0\n",
    "    if num < 0:\n",
    "        ans = -1\n",
    "    elif num > 0:\n",
    "        ans = 1\n",
    "    return ans\n",
    "q1.check()"
   ]
  },
  {
   "cell_type": "code",
   "execution_count": 3,
   "id": "d2332f58",
   "metadata": {
    "execution": {
     "iopub.execute_input": "2022-09-19T14:11:55.117819Z",
     "iopub.status.busy": "2022-09-19T14:11:55.117178Z",
     "iopub.status.idle": "2022-09-19T14:11:55.121396Z",
     "shell.execute_reply": "2022-09-19T14:11:55.120443Z"
    },
    "papermill": {
     "duration": 0.01739,
     "end_time": "2022-09-19T14:11:55.123613",
     "exception": false,
     "start_time": "2022-09-19T14:11:55.106223",
     "status": "completed"
    },
    "tags": []
   },
   "outputs": [],
   "source": [
    "#q1.solution()"
   ]
  },
  {
   "cell_type": "markdown",
   "id": "28835060",
   "metadata": {
    "papermill": {
     "duration": 0.009561,
     "end_time": "2022-09-19T14:11:55.142783",
     "exception": false,
     "start_time": "2022-09-19T14:11:55.133222",
     "status": "completed"
    },
    "tags": []
   },
   "source": [
    "# 2.\n",
    "\n",
    "We've decided to add \"logging\" to our `to_smash` function from the previous exercise."
   ]
  },
  {
   "cell_type": "code",
   "execution_count": 4,
   "id": "a5d2319a",
   "metadata": {
    "execution": {
     "iopub.execute_input": "2022-09-19T14:11:55.164963Z",
     "iopub.status.busy": "2022-09-19T14:11:55.164311Z",
     "iopub.status.idle": "2022-09-19T14:11:55.173801Z",
     "shell.execute_reply": "2022-09-19T14:11:55.172159Z"
    },
    "papermill": {
     "duration": 0.024108,
     "end_time": "2022-09-19T14:11:55.176738",
     "exception": false,
     "start_time": "2022-09-19T14:11:55.152630",
     "status": "completed"
    },
    "tags": []
   },
   "outputs": [
    {
     "name": "stdout",
     "output_type": "stream",
     "text": [
      "Splitting 91 candies\n"
     ]
    },
    {
     "data": {
      "text/plain": [
       "1"
      ]
     },
     "execution_count": 4,
     "metadata": {},
     "output_type": "execute_result"
    }
   ],
   "source": [
    "def to_smash(total_candies):\n",
    "    \"\"\"Return the number of leftover candies that must be smashed after distributing\n",
    "    the given number of candies evenly between 3 friends.\n",
    "    \n",
    "    >>> to_smash(91)\n",
    "    1\n",
    "    \"\"\"\n",
    "    print(\"Splitting\", total_candies, \"candies\")\n",
    "    return total_candies % 3\n",
    "\n",
    "to_smash(91)"
   ]
  },
  {
   "cell_type": "markdown",
   "id": "9ec6b7af",
   "metadata": {
    "papermill": {
     "duration": 0.010531,
     "end_time": "2022-09-19T14:11:55.198164",
     "exception": false,
     "start_time": "2022-09-19T14:11:55.187633",
     "status": "completed"
    },
    "tags": []
   },
   "source": [
    "What happens if we call it with `total_candies = 1`?"
   ]
  },
  {
   "cell_type": "code",
   "execution_count": 5,
   "id": "ddc1d028",
   "metadata": {
    "execution": {
     "iopub.execute_input": "2022-09-19T14:11:55.219765Z",
     "iopub.status.busy": "2022-09-19T14:11:55.219357Z",
     "iopub.status.idle": "2022-09-19T14:11:55.227767Z",
     "shell.execute_reply": "2022-09-19T14:11:55.226113Z"
    },
    "papermill": {
     "duration": 0.021942,
     "end_time": "2022-09-19T14:11:55.230280",
     "exception": false,
     "start_time": "2022-09-19T14:11:55.208338",
     "status": "completed"
    },
    "tags": []
   },
   "outputs": [
    {
     "name": "stdout",
     "output_type": "stream",
     "text": [
      "Splitting 1 candies\n"
     ]
    },
    {
     "data": {
      "text/plain": [
       "1"
      ]
     },
     "execution_count": 5,
     "metadata": {},
     "output_type": "execute_result"
    }
   ],
   "source": [
    "to_smash(1)"
   ]
  },
  {
   "cell_type": "markdown",
   "id": "7f8d1e78",
   "metadata": {
    "papermill": {
     "duration": 0.009443,
     "end_time": "2022-09-19T14:11:55.249893",
     "exception": false,
     "start_time": "2022-09-19T14:11:55.240450",
     "status": "completed"
    },
    "tags": []
   },
   "source": [
    "That isn't great grammar!\n",
    "\n",
    "Modify the definition in the cell below to correct the grammar of our print statement. (If there's only one candy, we should use the singular \"candy\" instead of the plural \"candies\")"
   ]
  },
  {
   "cell_type": "code",
   "execution_count": 6,
   "id": "f7272c7d",
   "metadata": {
    "execution": {
     "iopub.execute_input": "2022-09-19T14:11:55.271471Z",
     "iopub.status.busy": "2022-09-19T14:11:55.270727Z",
     "iopub.status.idle": "2022-09-19T14:11:55.280430Z",
     "shell.execute_reply": "2022-09-19T14:11:55.278756Z"
    },
    "papermill": {
     "duration": 0.024124,
     "end_time": "2022-09-19T14:11:55.283832",
     "exception": false,
     "start_time": "2022-09-19T14:11:55.259708",
     "status": "completed"
    },
    "tags": []
   },
   "outputs": [
    {
     "name": "stdout",
     "output_type": "stream",
     "text": [
      "Splitting 91 candies\n",
      "Splitting 1 candy\n"
     ]
    },
    {
     "data": {
      "text/plain": [
       "1"
      ]
     },
     "execution_count": 6,
     "metadata": {},
     "output_type": "execute_result"
    }
   ],
   "source": [
    "def to_smash(total_candies):\n",
    "    \"\"\"Return the number of leftover candies that must be smashed after distributing\n",
    "    the given number of candies evenly between 3 friends.\n",
    "    \n",
    "    >>> to_smash(91)\n",
    "    1\n",
    "    \"\"\"\n",
    "    candies = 'candies'\n",
    "    if total_candies == 1:\n",
    "        candies = 'candy'\n",
    "    print(\"Splitting\", total_candies, candies)\n",
    "    return total_candies % 3\n",
    "\n",
    "to_smash(91)\n",
    "to_smash(1)"
   ]
  },
  {
   "cell_type": "markdown",
   "id": "6502b5c5",
   "metadata": {
    "papermill": {
     "duration": 0.009528,
     "end_time": "2022-09-19T14:11:55.303758",
     "exception": false,
     "start_time": "2022-09-19T14:11:55.294230",
     "status": "completed"
    },
    "tags": []
   },
   "source": [
    "To get credit for completing this problem, and to see the official answer, run the code cell below."
   ]
  },
  {
   "cell_type": "code",
   "execution_count": 7,
   "id": "237bdf34",
   "metadata": {
    "execution": {
     "iopub.execute_input": "2022-09-19T14:11:55.326290Z",
     "iopub.status.busy": "2022-09-19T14:11:55.325873Z",
     "iopub.status.idle": "2022-09-19T14:11:55.335145Z",
     "shell.execute_reply": "2022-09-19T14:11:55.333809Z"
    },
    "papermill": {
     "duration": 0.023214,
     "end_time": "2022-09-19T14:11:55.337583",
     "exception": false,
     "start_time": "2022-09-19T14:11:55.314369",
     "status": "completed"
    },
    "tags": []
   },
   "outputs": [
    {
     "data": {
      "application/javascript": [
       "parent.postMessage({\"jupyterEvent\": \"custom.exercise_interaction\", \"data\": {\"interactionType\": 3, \"questionType\": 4, \"questionId\": \"2_PluralizationProblem\", \"learnToolsVersion\": \"0.3.4\", \"valueTowardsCompletion\": 0.0, \"failureMessage\": \"\", \"exceptionClass\": \"\", \"trace\": \"\", \"outcomeType\": 4}}, \"*\")"
      ],
      "text/plain": [
       "<IPython.core.display.Javascript object>"
      ]
     },
     "metadata": {},
     "output_type": "display_data"
    },
    {
     "data": {
      "text/markdown": [
       "<span style=\"color:#33cc99\">Solution:</span> A straightforward (and totally fine) solution is to replace the original `print` call with:\n",
       "\n",
       "```python\n",
       "if total_candies == 1:\n",
       "    print(\"Splitting 1 candy\")\n",
       "else:\n",
       "    print(\"Splitting\", total_candies, \"candies\")\n",
       "```\n",
       "\n",
       "Here's a slightly more succinct solution using a conditional expression:\n",
       "\n",
       "```python\n",
       "print(\"Splitting\", total_candies, \"candy\" if total_candies == 1 else \"candies\")\n",
       "```"
      ],
      "text/plain": [
       "Solution: A straightforward (and totally fine) solution is to replace the original `print` call with:\n",
       "\n",
       "```python\n",
       "if total_candies == 1:\n",
       "    print(\"Splitting 1 candy\")\n",
       "else:\n",
       "    print(\"Splitting\", total_candies, \"candies\")\n",
       "```\n",
       "\n",
       "Here's a slightly more succinct solution using a conditional expression:\n",
       "\n",
       "```python\n",
       "print(\"Splitting\", total_candies, \"candy\" if total_candies == 1 else \"candies\")\n",
       "```"
      ]
     },
     "metadata": {},
     "output_type": "display_data"
    }
   ],
   "source": [
    "# Check your answer (Run this code cell to receive credit!)\n",
    "q2.solution()"
   ]
  },
  {
   "cell_type": "markdown",
   "id": "48089a7f",
   "metadata": {
    "papermill": {
     "duration": 0.010147,
     "end_time": "2022-09-19T14:11:55.358151",
     "exception": false,
     "start_time": "2022-09-19T14:11:55.348004",
     "status": "completed"
    },
    "tags": []
   },
   "source": [
    "# 3. <span title=\"A bit spicy\" style=\"color: darkgreen \">🌶️</span>\n",
    "\n",
    "In the tutorial, we talked about deciding whether we're prepared for the weather. I said that I'm safe from today's weather if...\n",
    "- I have an umbrella...\n",
    "- or if the rain isn't too heavy and I have a hood...\n",
    "- otherwise, I'm still fine unless it's raining *and* it's a workday\n",
    "\n",
    "The function below uses our first attempt at turning this logic into a Python expression. I claimed that there was a bug in that code. Can you find it?\n",
    "\n",
    "To prove that `prepared_for_weather` is buggy, come up with a set of inputs where either:\n",
    "- the function returns `False` (but should have returned `True`), or\n",
    "- the function returned `True` (but should have returned `False`).\n",
    "\n",
    "To get credit for completing this question, your code should return a <font color='#33cc33'>Correct</font> result."
   ]
  },
  {
   "cell_type": "code",
   "execution_count": 8,
   "id": "2925f937",
   "metadata": {
    "execution": {
     "iopub.execute_input": "2022-09-19T14:11:55.380898Z",
     "iopub.status.busy": "2022-09-19T14:11:55.380226Z",
     "iopub.status.idle": "2022-09-19T14:11:55.393247Z",
     "shell.execute_reply": "2022-09-19T14:11:55.391964Z"
    },
    "papermill": {
     "duration": 0.027318,
     "end_time": "2022-09-19T14:11:55.395892",
     "exception": false,
     "start_time": "2022-09-19T14:11:55.368574",
     "status": "completed"
    },
    "tags": []
   },
   "outputs": [
    {
     "name": "stdout",
     "output_type": "stream",
     "text": [
      "False\n"
     ]
    },
    {
     "data": {
      "application/javascript": [
       "parent.postMessage({\"jupyterEvent\": \"custom.exercise_interaction\", \"data\": {\"outcomeType\": 1, \"valueTowardsCompletion\": 0.2, \"interactionType\": 1, \"questionType\": 1, \"questionId\": \"3_WeatherDebug\", \"learnToolsVersion\": \"0.3.4\", \"failureMessage\": \"\", \"exceptionClass\": \"\", \"trace\": \"\"}}, \"*\")"
      ],
      "text/plain": [
       "<IPython.core.display.Javascript object>"
      ]
     },
     "metadata": {},
     "output_type": "display_data"
    },
    {
     "data": {
      "text/markdown": [
       "<span style=\"color:#33cc33\">Correct:</span> \n",
       "\n",
       "One example of a failing test case is:\n",
       "\n",
       "```python\n",
       "have_umbrella = False\n",
       "rain_level = 0.0\n",
       "have_hood = False\n",
       "is_workday = False\n",
       "```\n",
       "\n",
       "Clearly we're prepared for the weather in this case. It's not raining. Not only that, it's not a workday, so we don't even need to leave the house! But our function will return False on these inputs.\n",
       "\n",
       "The key problem is that Python implictly parenthesizes the last part as:\n",
       "\n",
       "```python\n",
       "(not (rain_level > 0)) and is_workday\n",
       "```\n",
       "\n",
       "Whereas what we were trying to express would look more like:\n",
       "\n",
       "```python\n",
       "not (rain_level > 0 and is_workday)\n",
       "```\n"
      ],
      "text/plain": [
       "Correct: \n",
       "\n",
       "One example of a failing test case is:\n",
       "\n",
       "```python\n",
       "have_umbrella = False\n",
       "rain_level = 0.0\n",
       "have_hood = False\n",
       "is_workday = False\n",
       "```\n",
       "\n",
       "Clearly we're prepared for the weather in this case. It's not raining. Not only that, it's not a workday, so we don't even need to leave the house! But our function will return False on these inputs.\n",
       "\n",
       "The key problem is that Python implictly parenthesizes the last part as:\n",
       "\n",
       "```python\n",
       "(not (rain_level > 0)) and is_workday\n",
       "```\n",
       "\n",
       "Whereas what we were trying to express would look more like:\n",
       "\n",
       "```python\n",
       "not (rain_level > 0 and is_workday)\n",
       "```"
      ]
     },
     "metadata": {},
     "output_type": "display_data"
    }
   ],
   "source": [
    "def prepared_for_weather(have_umbrella, rain_level, have_hood, is_workday):\n",
    "    # Don't change this code. Our goal is just to find the bug, not fix it!\n",
    "    return have_umbrella or rain_level < 5 and have_hood or not rain_level > 0 and is_workday\n",
    "\n",
    "# Change the values of these inputs so they represent a case where prepared_for_weather\n",
    "# returns the wrong answer.\n",
    "have_umbrella = False\n",
    "rain_level = 6.0\n",
    "have_hood = True\n",
    "is_workday = False\n",
    "\n",
    "# Check what the function returns given the current values of the variables above\n",
    "actual = prepared_for_weather(have_umbrella, rain_level, have_hood, is_workday)\n",
    "print(actual)\n",
    "\n",
    "# Check your answer\n",
    "q3.check()"
   ]
  },
  {
   "cell_type": "code",
   "execution_count": 9,
   "id": "b2d0f311",
   "metadata": {
    "execution": {
     "iopub.execute_input": "2022-09-19T14:11:55.420422Z",
     "iopub.status.busy": "2022-09-19T14:11:55.419986Z",
     "iopub.status.idle": "2022-09-19T14:11:55.424605Z",
     "shell.execute_reply": "2022-09-19T14:11:55.423695Z"
    },
    "papermill": {
     "duration": 0.019339,
     "end_time": "2022-09-19T14:11:55.426879",
     "exception": false,
     "start_time": "2022-09-19T14:11:55.407540",
     "status": "completed"
    },
    "tags": []
   },
   "outputs": [],
   "source": [
    "#q3.hint()\n",
    "#q3.solution()"
   ]
  },
  {
   "cell_type": "markdown",
   "id": "f698680a",
   "metadata": {
    "papermill": {
     "duration": 0.010354,
     "end_time": "2022-09-19T14:11:55.448079",
     "exception": false,
     "start_time": "2022-09-19T14:11:55.437725",
     "status": "completed"
    },
    "tags": []
   },
   "source": [
    "# 4.\n",
    "\n",
    "The function `is_negative` below is implemented correctly - it returns True if the given number is negative and False otherwise.\n",
    "\n",
    "However, it's more verbose than it needs to be. We can actually reduce the number of lines of code in this function by *75%* while keeping the same behaviour. \n",
    "\n",
    "See if you can come up with an equivalent body that uses just **one line** of code, and put it in the function `concise_is_negative`. (HINT: you don't even need Python's ternary syntax)"
   ]
  },
  {
   "cell_type": "code",
   "execution_count": 10,
   "id": "6787089e",
   "metadata": {
    "execution": {
     "iopub.execute_input": "2022-09-19T14:11:55.471093Z",
     "iopub.status.busy": "2022-09-19T14:11:55.470668Z",
     "iopub.status.idle": "2022-09-19T14:11:55.480533Z",
     "shell.execute_reply": "2022-09-19T14:11:55.479059Z"
    },
    "papermill": {
     "duration": 0.024406,
     "end_time": "2022-09-19T14:11:55.483039",
     "exception": false,
     "start_time": "2022-09-19T14:11:55.458633",
     "status": "completed"
    },
    "tags": []
   },
   "outputs": [
    {
     "data": {
      "application/javascript": [
       "parent.postMessage({\"jupyterEvent\": \"custom.exercise_interaction\", \"data\": {\"outcomeType\": 1, \"valueTowardsCompletion\": 0.2, \"interactionType\": 1, \"questionType\": 2, \"questionId\": \"4_ConciseIsNegative\", \"learnToolsVersion\": \"0.3.4\", \"failureMessage\": \"\", \"exceptionClass\": \"\", \"trace\": \"\"}}, \"*\")"
      ],
      "text/plain": [
       "<IPython.core.display.Javascript object>"
      ]
     },
     "metadata": {},
     "output_type": "display_data"
    },
    {
     "data": {
      "text/markdown": [
       "<span style=\"color:#33cc33\">Correct</span>"
      ],
      "text/plain": [
       "Correct"
      ]
     },
     "metadata": {},
     "output_type": "display_data"
    }
   ],
   "source": [
    "def is_negative(number):\n",
    "    return number < 0\n",
    "\n",
    "def concise_is_negative(number):\n",
    "    return number < 0 # Your code goes here (try to keep it to one line!)\n",
    "\n",
    "# Check your answer\n",
    "q4.check()"
   ]
  },
  {
   "cell_type": "code",
   "execution_count": 11,
   "id": "8f11bd9d",
   "metadata": {
    "execution": {
     "iopub.execute_input": "2022-09-19T14:11:55.506778Z",
     "iopub.status.busy": "2022-09-19T14:11:55.506338Z",
     "iopub.status.idle": "2022-09-19T14:11:55.511408Z",
     "shell.execute_reply": "2022-09-19T14:11:55.510167Z"
    },
    "papermill": {
     "duration": 0.019674,
     "end_time": "2022-09-19T14:11:55.513796",
     "exception": false,
     "start_time": "2022-09-19T14:11:55.494122",
     "status": "completed"
    },
    "tags": []
   },
   "outputs": [],
   "source": [
    "#q4.hint()\n",
    "#q4.solution()"
   ]
  },
  {
   "cell_type": "markdown",
   "id": "df37cf2f",
   "metadata": {
    "papermill": {
     "duration": 0.010606,
     "end_time": "2022-09-19T14:11:55.536542",
     "exception": false,
     "start_time": "2022-09-19T14:11:55.525936",
     "status": "completed"
    },
    "tags": []
   },
   "source": [
    "# 5a.\n",
    "\n",
    "The boolean variables `ketchup`, `mustard` and `onion` represent whether a customer wants a particular topping on their hot dog. We want to implement a number of boolean functions that correspond to some yes-or-no questions about the customer's order. For example:"
   ]
  },
  {
   "cell_type": "code",
   "execution_count": 12,
   "id": "20d63e11",
   "metadata": {
    "execution": {
     "iopub.execute_input": "2022-09-19T14:11:55.560193Z",
     "iopub.status.busy": "2022-09-19T14:11:55.559720Z",
     "iopub.status.idle": "2022-09-19T14:11:55.565287Z",
     "shell.execute_reply": "2022-09-19T14:11:55.564054Z"
    },
    "papermill": {
     "duration": 0.020135,
     "end_time": "2022-09-19T14:11:55.567597",
     "exception": false,
     "start_time": "2022-09-19T14:11:55.547462",
     "status": "completed"
    },
    "tags": []
   },
   "outputs": [],
   "source": [
    "def onionless(ketchup, mustard, onion):\n",
    "    \"\"\"Return whether the customer doesn't want onions.\n",
    "    \"\"\"\n",
    "    return not onion"
   ]
  },
  {
   "cell_type": "code",
   "execution_count": 13,
   "id": "db981254",
   "metadata": {
    "execution": {
     "iopub.execute_input": "2022-09-19T14:11:55.591126Z",
     "iopub.status.busy": "2022-09-19T14:11:55.590674Z",
     "iopub.status.idle": "2022-09-19T14:11:55.599071Z",
     "shell.execute_reply": "2022-09-19T14:11:55.598283Z"
    },
    "papermill": {
     "duration": 0.022515,
     "end_time": "2022-09-19T14:11:55.601122",
     "exception": false,
     "start_time": "2022-09-19T14:11:55.578607",
     "status": "completed"
    },
    "tags": []
   },
   "outputs": [
    {
     "data": {
      "application/javascript": [
       "parent.postMessage({\"jupyterEvent\": \"custom.exercise_interaction\", \"data\": {\"outcomeType\": 1, \"valueTowardsCompletion\": 0.2, \"interactionType\": 1, \"questionType\": 2, \"questionId\": \"5.1_AllToppings\", \"learnToolsVersion\": \"0.3.4\", \"failureMessage\": \"\", \"exceptionClass\": \"\", \"trace\": \"\"}}, \"*\")"
      ],
      "text/plain": [
       "<IPython.core.display.Javascript object>"
      ]
     },
     "metadata": {},
     "output_type": "display_data"
    },
    {
     "data": {
      "text/markdown": [
       "<span style=\"color:#33cc33\">Correct</span>"
      ],
      "text/plain": [
       "Correct"
      ]
     },
     "metadata": {},
     "output_type": "display_data"
    }
   ],
   "source": [
    "def wants_all_toppings(ketchup, mustard, onion):\n",
    "    \"\"\"Return whether the customer wants \"the works\" (all 3 toppings)\n",
    "    \"\"\"\n",
    "    return ketchup and mustard and onion\n",
    "\n",
    "# Check your answer\n",
    "q5.a.check()"
   ]
  },
  {
   "cell_type": "code",
   "execution_count": 14,
   "id": "461945b1",
   "metadata": {
    "execution": {
     "iopub.execute_input": "2022-09-19T14:11:55.625937Z",
     "iopub.status.busy": "2022-09-19T14:11:55.625533Z",
     "iopub.status.idle": "2022-09-19T14:11:55.629926Z",
     "shell.execute_reply": "2022-09-19T14:11:55.628820Z"
    },
    "papermill": {
     "duration": 0.019539,
     "end_time": "2022-09-19T14:11:55.632355",
     "exception": false,
     "start_time": "2022-09-19T14:11:55.612816",
     "status": "completed"
    },
    "tags": []
   },
   "outputs": [],
   "source": [
    "#q5.a.hint()\n",
    "#q5.a.solution()"
   ]
  },
  {
   "cell_type": "markdown",
   "id": "4c2166bf",
   "metadata": {
    "papermill": {
     "duration": 0.010679,
     "end_time": "2022-09-19T14:11:55.654249",
     "exception": false,
     "start_time": "2022-09-19T14:11:55.643570",
     "status": "completed"
    },
    "tags": []
   },
   "source": [
    "# 5b.\n",
    "\n",
    "For the next function, fill in the body to match the English description in the docstring. "
   ]
  },
  {
   "cell_type": "code",
   "execution_count": 15,
   "id": "74641038",
   "metadata": {
    "execution": {
     "iopub.execute_input": "2022-09-19T14:11:55.678385Z",
     "iopub.status.busy": "2022-09-19T14:11:55.677950Z",
     "iopub.status.idle": "2022-09-19T14:11:55.687820Z",
     "shell.execute_reply": "2022-09-19T14:11:55.686690Z"
    },
    "papermill": {
     "duration": 0.024907,
     "end_time": "2022-09-19T14:11:55.690230",
     "exception": false,
     "start_time": "2022-09-19T14:11:55.665323",
     "status": "completed"
    },
    "tags": []
   },
   "outputs": [
    {
     "data": {
      "application/javascript": [
       "parent.postMessage({\"jupyterEvent\": \"custom.exercise_interaction\", \"data\": {\"outcomeType\": 1, \"valueTowardsCompletion\": 0.2, \"interactionType\": 1, \"questionType\": 2, \"questionId\": \"5.2_PlainDog\", \"learnToolsVersion\": \"0.3.4\", \"failureMessage\": \"\", \"exceptionClass\": \"\", \"trace\": \"\"}}, \"*\")"
      ],
      "text/plain": [
       "<IPython.core.display.Javascript object>"
      ]
     },
     "metadata": {},
     "output_type": "display_data"
    },
    {
     "data": {
      "text/markdown": [
       "<span style=\"color:#33cc33\">Correct:</span> \n",
       "\n",
       "One solution looks like:\n",
       "```python\n",
       "return not ketchup and not mustard and not onion\n",
       "```\n",
       "\n",
       "We can also [\"factor out\" the nots](https://en.wikipedia.org/wiki/De_Morgan%27s_laws) to get:\n",
       "\n",
       "```python\n",
       "return not (ketchup or mustard or onion)\n",
       "```"
      ],
      "text/plain": [
       "Correct: \n",
       "\n",
       "One solution looks like:\n",
       "```python\n",
       "return not ketchup and not mustard and not onion\n",
       "```\n",
       "\n",
       "We can also [\"factor out\" the nots](https://en.wikipedia.org/wiki/De_Morgan%27s_laws) to get:\n",
       "\n",
       "```python\n",
       "return not (ketchup or mustard or onion)\n",
       "```"
      ]
     },
     "metadata": {},
     "output_type": "display_data"
    }
   ],
   "source": [
    "def wants_plain_hotdog(ketchup, mustard, onion):\n",
    "    \"\"\"Return whether the customer wants a plain hot dog with no toppings.\n",
    "    \"\"\"\n",
    "    return not (ketchup or mustard or onion)\n",
    "\n",
    "# Check your answer\n",
    "q5.b.check()"
   ]
  },
  {
   "cell_type": "code",
   "execution_count": 16,
   "id": "bed787be",
   "metadata": {
    "execution": {
     "iopub.execute_input": "2022-09-19T14:11:55.714913Z",
     "iopub.status.busy": "2022-09-19T14:11:55.714476Z",
     "iopub.status.idle": "2022-09-19T14:11:55.718989Z",
     "shell.execute_reply": "2022-09-19T14:11:55.717884Z"
    },
    "papermill": {
     "duration": 0.019667,
     "end_time": "2022-09-19T14:11:55.721253",
     "exception": false,
     "start_time": "2022-09-19T14:11:55.701586",
     "status": "completed"
    },
    "tags": []
   },
   "outputs": [],
   "source": [
    "#q5.b.hint()\n",
    "#q5.b.solution()"
   ]
  },
  {
   "cell_type": "markdown",
   "id": "7e117807",
   "metadata": {
    "papermill": {
     "duration": 0.011381,
     "end_time": "2022-09-19T14:11:55.744028",
     "exception": false,
     "start_time": "2022-09-19T14:11:55.732647",
     "status": "completed"
    },
    "tags": []
   },
   "source": [
    "# 5c.\n",
    "\n",
    "You know what to do: for the next function, fill in the body to match the English description in the docstring."
   ]
  },
  {
   "cell_type": "code",
   "execution_count": 17,
   "id": "bcbf311c",
   "metadata": {
    "execution": {
     "iopub.execute_input": "2022-09-19T14:11:55.769209Z",
     "iopub.status.busy": "2022-09-19T14:11:55.768782Z",
     "iopub.status.idle": "2022-09-19T14:11:55.777749Z",
     "shell.execute_reply": "2022-09-19T14:11:55.776759Z"
    },
    "papermill": {
     "duration": 0.024786,
     "end_time": "2022-09-19T14:11:55.780396",
     "exception": false,
     "start_time": "2022-09-19T14:11:55.755610",
     "status": "completed"
    },
    "tags": []
   },
   "outputs": [
    {
     "data": {
      "application/javascript": [
       "parent.postMessage({\"jupyterEvent\": \"custom.exercise_interaction\", \"data\": {\"outcomeType\": 1, \"valueTowardsCompletion\": 0.2, \"interactionType\": 1, \"questionType\": 2, \"questionId\": \"5.3_OneSauce\", \"learnToolsVersion\": \"0.3.4\", \"failureMessage\": \"\", \"exceptionClass\": \"\", \"trace\": \"\"}}, \"*\")"
      ],
      "text/plain": [
       "<IPython.core.display.Javascript object>"
      ]
     },
     "metadata": {},
     "output_type": "display_data"
    },
    {
     "data": {
      "text/markdown": [
       "<span style=\"color:#33cc33\">Correct</span>"
      ],
      "text/plain": [
       "Correct"
      ]
     },
     "metadata": {},
     "output_type": "display_data"
    }
   ],
   "source": [
    "def exactly_one_sauce(ketchup, mustard, onion):\n",
    "    \"\"\"Return whether the customer wants either ketchup or mustard, but not both.\n",
    "    (You may be familiar with this operation under the name \"exclusive or\")\n",
    "    \"\"\"\n",
    "    return (ketchup and not mustard) or (mustard and not ketchup)\n",
    "\n",
    "# Check your answer\n",
    "q5.c.check()"
   ]
  },
  {
   "cell_type": "code",
   "execution_count": 18,
   "id": "6a38ff42",
   "metadata": {
    "execution": {
     "iopub.execute_input": "2022-09-19T14:11:55.805832Z",
     "iopub.status.busy": "2022-09-19T14:11:55.805394Z",
     "iopub.status.idle": "2022-09-19T14:11:55.810207Z",
     "shell.execute_reply": "2022-09-19T14:11:55.808783Z"
    },
    "papermill": {
     "duration": 0.020478,
     "end_time": "2022-09-19T14:11:55.812658",
     "exception": false,
     "start_time": "2022-09-19T14:11:55.792180",
     "status": "completed"
    },
    "tags": []
   },
   "outputs": [],
   "source": [
    "#q5.c.hint()\n",
    "#q5.c.solution()"
   ]
  },
  {
   "cell_type": "markdown",
   "id": "11a54915",
   "metadata": {
    "papermill": {
     "duration": 0.011223,
     "end_time": "2022-09-19T14:11:55.835510",
     "exception": false,
     "start_time": "2022-09-19T14:11:55.824287",
     "status": "completed"
    },
    "tags": []
   },
   "source": [
    "# 6. <span title=\"A bit spicy\" style=\"color: darkgreen \">🌶️</span>\n",
    "\n",
    "We’ve seen that calling `bool()` on an integer returns `False` if it’s equal to 0 and `True` otherwise. What happens if we call `int()` on a bool? Try it out in the notebook cell below.\n",
    "\n",
    "Can you take advantage of this to write a succinct function that corresponds to the English sentence \"does the customer want exactly one topping?\"?"
   ]
  },
  {
   "cell_type": "code",
   "execution_count": 19,
   "id": "aec2acea",
   "metadata": {
    "execution": {
     "iopub.execute_input": "2022-09-19T14:11:55.860660Z",
     "iopub.status.busy": "2022-09-19T14:11:55.860228Z",
     "iopub.status.idle": "2022-09-19T14:11:55.871347Z",
     "shell.execute_reply": "2022-09-19T14:11:55.869908Z"
    },
    "papermill": {
     "duration": 0.027161,
     "end_time": "2022-09-19T14:11:55.874227",
     "exception": false,
     "start_time": "2022-09-19T14:11:55.847066",
     "status": "completed"
    },
    "tags": []
   },
   "outputs": [
    {
     "data": {
      "application/javascript": [
       "parent.postMessage({\"jupyterEvent\": \"custom.exercise_interaction\", \"data\": {\"outcomeType\": 1, \"valueTowardsCompletion\": 0.2, \"interactionType\": 1, \"questionType\": 2, \"questionId\": \"6_OneTopping\", \"learnToolsVersion\": \"0.3.4\", \"failureMessage\": \"\", \"exceptionClass\": \"\", \"trace\": \"\"}}, \"*\")"
      ],
      "text/plain": [
       "<IPython.core.display.Javascript object>"
      ]
     },
     "metadata": {},
     "output_type": "display_data"
    },
    {
     "data": {
      "text/markdown": [
       "<span style=\"color:#33cc33\">Correct:</span> \n",
       "\n",
       "This condition would be pretty complicated to express using just `and`, `or` and `not`, but using boolean-to-integer conversion gives us this short solution:\n",
       "```python\n",
       "return (int(ketchup) + int(mustard) + int(onion)) == 1\n",
       "```\n",
       "\n",
       "Fun fact: we don't technically need to call `int` on the arguments. Just by doing addition with booleans, Python implicitly does the integer conversion. So we could also write...\n",
       "\n",
       "```python\n",
       "return (ketchup + mustard + onion) == 1\n",
       "```"
      ],
      "text/plain": [
       "Correct: \n",
       "\n",
       "This condition would be pretty complicated to express using just `and`, `or` and `not`, but using boolean-to-integer conversion gives us this short solution:\n",
       "```python\n",
       "return (int(ketchup) + int(mustard) + int(onion)) == 1\n",
       "```\n",
       "\n",
       "Fun fact: we don't technically need to call `int` on the arguments. Just by doing addition with booleans, Python implicitly does the integer conversion. So we could also write...\n",
       "\n",
       "```python\n",
       "return (ketchup + mustard + onion) == 1\n",
       "```"
      ]
     },
     "metadata": {},
     "output_type": "display_data"
    }
   ],
   "source": [
    "def exactly_one_topping(ketchup, mustard, onion):\n",
    "    \"\"\"Return whether the customer wants exactly one of the three available toppings\n",
    "    on their hot dog.\n",
    "    \"\"\"\n",
    "    return (ketchup and not mustard and not onion) or (not ketchup and mustard and not onion) or (not ketchup and not mustard and onion)\n",
    "\n",
    "# Check your answer\n",
    "q6.check()"
   ]
  },
  {
   "cell_type": "code",
   "execution_count": 20,
   "id": "a9b1e4c0",
   "metadata": {
    "execution": {
     "iopub.execute_input": "2022-09-19T14:11:55.901150Z",
     "iopub.status.busy": "2022-09-19T14:11:55.900723Z",
     "iopub.status.idle": "2022-09-19T14:11:55.905725Z",
     "shell.execute_reply": "2022-09-19T14:11:55.904541Z"
    },
    "papermill": {
     "duration": 0.020632,
     "end_time": "2022-09-19T14:11:55.908178",
     "exception": false,
     "start_time": "2022-09-19T14:11:55.887546",
     "status": "completed"
    },
    "tags": []
   },
   "outputs": [],
   "source": [
    "#q6.hint()\n",
    "#q6.solution()"
   ]
  },
  {
   "cell_type": "markdown",
   "id": "fbf8c64e",
   "metadata": {
    "papermill": {
     "duration": 0.011658,
     "end_time": "2022-09-19T14:11:55.931776",
     "exception": false,
     "start_time": "2022-09-19T14:11:55.920118",
     "status": "completed"
    },
    "tags": []
   },
   "source": [
    "# 7. <span title=\"A bit spicy\" style=\"color: darkgreen \">🌶️</span> (Optional)\n",
    "\n",
    "In this problem we'll be working with a simplified version of [blackjack](https://en.wikipedia.org/wiki/Blackjack) (aka twenty-one). In this version there is one player (who you'll control) and a dealer. Play proceeds as follows:\n",
    "\n",
    "- The player is dealt two face-up cards. The dealer is dealt one face-up card.\n",
    "- The player may ask to be dealt another card ('hit') as many times as they wish. If the sum of their cards exceeds 21, they lose the round immediately.\n",
    "- The dealer then deals additional cards to himself until either:\n",
    "    - the sum of the dealer's cards exceeds 21, in which case the player wins the round\n",
    "    - the sum of the dealer's cards is greater than or equal to 17. If the player's total is greater than the dealer's, the player wins. Otherwise, the dealer wins (even in case of a tie).\n",
    "    \n",
    "When calculating the sum of cards, Jack, Queen, and King count for 10. Aces can count as 1 or 11 (when referring to a player's \"total\" above, we mean the largest total that can be made without exceeding 21. So e.g. A+8 = 19, A+8+8 = 17)\n",
    "\n",
    "For this problem, you'll write a function representing the player's decision-making strategy in this game. We've provided a very unintelligent implementation below:"
   ]
  },
  {
   "cell_type": "code",
   "execution_count": 21,
   "id": "95df5a29",
   "metadata": {
    "execution": {
     "iopub.execute_input": "2022-09-19T14:11:55.957038Z",
     "iopub.status.busy": "2022-09-19T14:11:55.956645Z",
     "iopub.status.idle": "2022-09-19T14:11:55.962644Z",
     "shell.execute_reply": "2022-09-19T14:11:55.961255Z"
    },
    "papermill": {
     "duration": 0.021414,
     "end_time": "2022-09-19T14:11:55.964978",
     "exception": false,
     "start_time": "2022-09-19T14:11:55.943564",
     "status": "completed"
    },
    "tags": []
   },
   "outputs": [],
   "source": [
    "def should_hit(dealer_total, player_total, player_low_aces, player_high_aces):\n",
    "    \"\"\"Return True if the player should hit (request another card) given the current game\n",
    "    state, or False if the player should stay.\n",
    "    When calculating a hand's total value, we count aces as \"high\" (with value 11) if doing so\n",
    "    doesn't bring the total above 21, otherwise we count them as low (with value 1). \n",
    "    For example, if the player's hand is {A, A, A, 7}, we will count it as 11 + 1 + 1 + 7,\n",
    "    and therefore set player_total=20, player_low_aces=2, player_high_aces=1.\n",
    "    \"\"\"\n",
    "    return False"
   ]
  },
  {
   "cell_type": "markdown",
   "id": "25a8cbea",
   "metadata": {
    "papermill": {
     "duration": 0.012199,
     "end_time": "2022-09-19T14:11:55.989220",
     "exception": false,
     "start_time": "2022-09-19T14:11:55.977021",
     "status": "completed"
    },
    "tags": []
   },
   "source": [
    "This very conservative agent *always* sticks with the hand of two cards that they're dealt.\n",
    "\n",
    "We'll be simulating games between your player agent and our own dealer agent by calling your function.\n",
    "\n",
    "Try running the function below to see an example of a simulated game:"
   ]
  },
  {
   "cell_type": "code",
   "execution_count": 22,
   "id": "663c8902",
   "metadata": {
    "execution": {
     "iopub.execute_input": "2022-09-19T14:11:56.015628Z",
     "iopub.status.busy": "2022-09-19T14:11:56.015219Z",
     "iopub.status.idle": "2022-09-19T14:11:56.020958Z",
     "shell.execute_reply": "2022-09-19T14:11:56.019848Z"
    },
    "papermill": {
     "duration": 0.022845,
     "end_time": "2022-09-19T14:11:56.024678",
     "exception": false,
     "start_time": "2022-09-19T14:11:56.001833",
     "status": "completed"
    },
    "tags": []
   },
   "outputs": [
    {
     "name": "stdout",
     "output_type": "stream",
     "text": [
      "Player starts with 4 and 8 (total = 12)\n",
      "Dealer starts with 7\n",
      "\n",
      "__Player's turn__\n",
      "Player stays\n",
      "\n",
      "__Dealer's turn__\n",
      "Dealer hits and receives K. (total = 17)\n",
      "Dealer stands.\n",
      "Dealer wins. 17 >= 12\n"
     ]
    }
   ],
   "source": [
    "q7.simulate_one_game()"
   ]
  },
  {
   "cell_type": "markdown",
   "id": "a2fd0972",
   "metadata": {
    "papermill": {
     "duration": 0.011721,
     "end_time": "2022-09-19T14:11:56.049601",
     "exception": false,
     "start_time": "2022-09-19T14:11:56.037880",
     "status": "completed"
    },
    "tags": []
   },
   "source": [
    "The real test of your agent's mettle is their average win rate over many games. Try calling the function below to simulate 50000 games of blackjack (it may take a couple seconds):"
   ]
  },
  {
   "cell_type": "code",
   "execution_count": 23,
   "id": "93af3c39",
   "metadata": {
    "execution": {
     "iopub.execute_input": "2022-09-19T14:11:56.075210Z",
     "iopub.status.busy": "2022-09-19T14:11:56.074767Z",
     "iopub.status.idle": "2022-09-19T14:11:57.808724Z",
     "shell.execute_reply": "2022-09-19T14:11:57.806944Z"
    },
    "papermill": {
     "duration": 1.750549,
     "end_time": "2022-09-19T14:11:57.812104",
     "exception": false,
     "start_time": "2022-09-19T14:11:56.061555",
     "status": "completed"
    },
    "tags": []
   },
   "outputs": [
    {
     "name": "stdout",
     "output_type": "stream",
     "text": [
      "Player won 19032 out of 50000 games (win rate = 38.1%)\n"
     ]
    }
   ],
   "source": [
    "q7.simulate(n_games=50000)"
   ]
  },
  {
   "cell_type": "markdown",
   "id": "0b2c035d",
   "metadata": {
    "papermill": {
     "duration": 0.01227,
     "end_time": "2022-09-19T14:11:57.837668",
     "exception": false,
     "start_time": "2022-09-19T14:11:57.825398",
     "status": "completed"
    },
    "tags": []
   },
   "source": [
    "Our dumb agent that completely ignores the game state still manages to win shockingly often!\n",
    "\n",
    "Try adding some more smarts to the `should_hit` function and see how it affects the results."
   ]
  },
  {
   "cell_type": "code",
   "execution_count": 24,
   "id": "066ef492",
   "metadata": {
    "execution": {
     "iopub.execute_input": "2022-09-19T14:11:57.866377Z",
     "iopub.status.busy": "2022-09-19T14:11:57.865353Z",
     "iopub.status.idle": "2022-09-19T14:11:59.517352Z",
     "shell.execute_reply": "2022-09-19T14:11:59.516107Z"
    },
    "papermill": {
     "duration": 1.669506,
     "end_time": "2022-09-19T14:11:59.519875",
     "exception": false,
     "start_time": "2022-09-19T14:11:57.850369",
     "status": "completed"
    },
    "tags": []
   },
   "outputs": [
    {
     "name": "stdout",
     "output_type": "stream",
     "text": [
      "Player won 18872 out of 50000 games (win rate = 37.7%)\n"
     ]
    }
   ],
   "source": [
    "def should_hit(dealer_total, player_total, player_low_aces, player_high_aces):\n",
    "    \"\"\"Return True if the player should hit (request another card) given the current game\n",
    "    state, or False if the player should stay.\n",
    "    When calculating a hand's total value, we count aces as \"high\" (with value 11) if doing so\n",
    "    doesn't bring the total above 21, otherwise we count them as low (with value 1). \n",
    "    For example, if the player's hand is {A, A, A, 7}, we will count it as 11 + 1 + 1 + 7,\n",
    "    and therefore set player_total=20, player_low_aces=2, player_high_aces=1.\n",
    "    \"\"\"\n",
    "    return False\n",
    "\n",
    "q7.simulate(n_games=50000)"
   ]
  },
  {
   "cell_type": "markdown",
   "id": "684c4022",
   "metadata": {
    "papermill": {
     "duration": 0.012001,
     "end_time": "2022-09-19T14:11:59.545927",
     "exception": false,
     "start_time": "2022-09-19T14:11:59.533926",
     "status": "completed"
    },
    "tags": []
   },
   "source": [
    "# Keep Going\n",
    "\n",
    "Learn about **[lists and tuples](https://www.kaggle.com/colinmorris/lists)** to handle multiple items of data in a systematic way."
   ]
  },
  {
   "cell_type": "markdown",
   "id": "0c4a16e3",
   "metadata": {
    "papermill": {
     "duration": 0.011662,
     "end_time": "2022-09-19T14:11:59.570297",
     "exception": false,
     "start_time": "2022-09-19T14:11:59.558635",
     "status": "completed"
    },
    "tags": []
   },
   "source": [
    "---\n",
    "\n",
    "\n",
    "\n",
    "\n",
    "*Have questions or comments? Visit the [course discussion forum](https://www.kaggle.com/learn/python/discussion) to chat with other learners.*"
   ]
  }
 ],
 "metadata": {
  "kernelspec": {
   "display_name": "Python 3",
   "language": "python",
   "name": "python3"
  },
  "language_info": {
   "codemirror_mode": {
    "name": "ipython",
    "version": 3
   },
   "file_extension": ".py",
   "mimetype": "text/x-python",
   "name": "python",
   "nbconvert_exporter": "python",
   "pygments_lexer": "ipython3",
   "version": "3.7.12"
  },
  "papermill": {
   "default_parameters": {},
   "duration": 16.149477,
   "end_time": "2022-09-19T14:12:00.305484",
   "environment_variables": {},
   "exception": null,
   "input_path": "__notebook__.ipynb",
   "output_path": "__notebook__.ipynb",
   "parameters": {},
   "start_time": "2022-09-19T14:11:44.156007",
   "version": "2.3.4"
  }
 },
 "nbformat": 4,
 "nbformat_minor": 5
}
