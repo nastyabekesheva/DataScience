{
  "nbformat": 4,
  "nbformat_minor": 0,
  "metadata": {
    "colab": {
      "provenance": [],
      "collapsed_sections": [],
      "mount_file_id": "1YjDAF2qSV3AV2SgTXY3mK4aXCc-Z6EF0",
      "authorship_tag": "ABX9TyO4GAqSpL2E2iM5lWaENDoq",
      "include_colab_link": true
    },
    "kernelspec": {
      "name": "python3",
      "display_name": "Python 3"
    },
    "language_info": {
      "name": "python"
    }
  },
  "cells": [
    {
      "cell_type": "markdown",
      "metadata": {
        "id": "view-in-github",
        "colab_type": "text"
      },
      "source": [
        "<a href=\"https://colab.research.google.com/github/nastyabekesheva/courseworks/blob/main/courseworkDS.ipynb\" target=\"_parent\"><img src=\"https://colab.research.google.com/assets/colab-badge.svg\" alt=\"Open In Colab\"/></a>"
      ]
    },
    {
      "cell_type": "markdown",
      "source": [
        ">>**НАЦІОНАЛЬНИЙ ТЕХНІЧНИЙ УНІВЕРСИТЕТ УКРАЇНИ**<br>\n",
        "**«КИЇВСЬКИЙ ПОЛІТЕХНІЧНИЙ ІНСТИТУТ імені ІГОРЯ СІКОРСЬКОГО»**<br>\n",
        "**НАВЧАЛЬНО-НАУКОВИЙ ФІЗИКО-ТЕХНІЧНИЙ ІНСТИТУТ**<br>\n",
        "Кафедра математичного моделювання та аналізу даних\n",
        "\n",
        "<br>\n",
        "<br>\n",
        "<br>\n",
        "\n",
        "\n",
        ">>>>>КУРСОВА РОБОТА \n",
        "<br>\n",
        "\n",
        ">з дисципліни «Спеціальні розділи програмування»<br>\n",
        "На тему «Знайомство з можливостями Anaconda/IPython Notebook.<br>\n",
        "Аналіз та візуалізація даних датасету »\n",
        "\n",
        "<br>\n",
        "<br>\n",
        "<br>\n",
        "\n",
        ">>>>>>>Студента  2 курсу ФІ-12 групи \n",
        "спеціальності 113 Прикладна математика \\\n",
        "Бекешевої А. О.       \n",
        "Перевірила: Яйлимова Г. О.\n",
        "\n",
        "<br>\n",
        "<br>\n",
        "<br>\n",
        "<br>\n",
        "\n",
        ">>>>>Київ – 2022\n",
        "\n",
        "\n",
        "\n",
        "---\n",
        "\n",
        "\n"
      ],
      "metadata": {
        "id": "58cqIQHT52Dw"
      }
    },
    {
      "cell_type": "markdown",
      "source": [
        ">[Розділ 1. Знайомство з можливостями Google Colab/IPython Notebook](#scrollTo=1IkuEqeopl2r)\n",
        "\n",
        ">>[Colab vs Jupyter](#scrollTo=1IkuEqeopl2r)\n",
        "\n",
        ">>[Початок роботи з Colab](#scrollTo=1IkuEqeopl2r)\n",
        "\n",
        ">>[Що можна робити у створеному Notebook?](#scrollTo=1IkuEqeopl2r)\n",
        "\n",
        ">>>[Essentials](#scrollTo=1IkuEqeopl2r)\n",
        "\n",
        ">>>[Source Control](#scrollTo=1IkuEqeopl2r)\n",
        "\n",
        ">>>[Tutorials](#scrollTo=1IkuEqeopl2r)\n",
        "\n",
        ">[Розділ 2. Аналіз та візуалізація даних у середовищі IPython Notebook на модельних наборах даних.](#scrollTo=gPdQUk5ZxOom)\n",
        "\n"
      ],
      "metadata": {
        "colab_type": "toc",
        "id": "mwfm8gXT59NQ"
      }
    },
    {
      "cell_type": "markdown",
      "source": [
        "# Розділ 1. Знайомство з можливостями Google Colab/IPython Notebook\n",
        "\n",
        "Colab — це безкоштовне середовище для записників Jupyter, яке повністю працює в хмарі. Найважливіше те, що для цього не потрібно налаштування, а створені вами блокноти можуть одночасно редагуватися членами вашої команди – так само, як ви редагуєте документи в Google Docs. Colab підтримує багато популярних бібліотек машинного навчання, які можна легко завантажити у свій блокнот.\n",
        "\n",
        "\n",
        "## Colab vs Jupyter\n",
        "\n",
        "Jupyter Lab\t|Google Colab\n",
        "---|--\n",
        "Працює на локальному обладнанні\t|Працює на сервері Google\n",
        "Використовує системний процесор і немає доступу до зовнішніх GPU і TPU|\tБезкоштовні GPU і TPU надаються, ви також можете використовуйте свою локальну машину для запуску коду\n",
        "Ви повинні встановлювати бібліотеки вручну\t|Більшість необхідних бібліотек попередньо встановлено\n",
        "Не можна поділитися з іншими без завантаження файлів|\tМожна поділитися з іншими без завантаження\n",
        "Обмеження часу виконання залежать від системної пам’яті|\t12/24 години роботи та може бути перервано Google\n",
        "Необхідно встановити на комп’ютер через anaconda або python|\tНе потрібно нічого встановлювати, можна використовувати через браузер\n",
        "Неможливо отримати доступ до файлів ноутбука без жорсткого диска|\tДоступ до нього можна отримати будь-де без жорсткого диска, оскільки він зберігається на вашому диску Google\n",
        "Це абсолютно безкоштовно|\tЦе частково безкоштовно, ви можете взяти підписку за $9,99/місяць\n",
        "\n",
        "## Початок роботи з Colab\n",
        "\n",
        "На сайті https://colab.research.google.com натиснемо 'Sign in'. Для реєстрації потрібно мати Google акаунт.\n",
        "\n",
        "<img src=\"https://lh3.googleusercontent.com/d/1TegmL8O0WMzWOgdN7BbwhqiAvfGLXwYs\">\n",
        "\n",
        "Далі потрібно створити новий Notebook за допомогою кнопки 'New Notebook'.\n",
        "\n",
        "<img src=\"https://lh3.googleusercontent.com/d/1aocByh44cegdMQFPkyTrH0LlrRwT7FX9\">\n",
        "\n",
        "## Що можна робити у створеному Notebook?\n",
        "\n",
        "<img src=\"https://lh3.googleusercontent.com/d/1nmHaUHDRiLh-3B3Uiu9pJeRSOHV5Z1eZ\">\n",
        "\n",
        "### Essentials\n",
        "\n",
        "\n",
        "\n",
        "1.   Перейменувати файл\n",
        "2.   Додати code cell, в якому пишется сам python код\n",
        "3.   Додати text cell, в якому пишется markdown текст. Можна використовувати: \n",
        "\n",
        ">*   Заголовки\n",
        "*   Стилізований текст\n",
        "*   Посилання\n",
        "*   Картинки\n",
        "*   Таблиці\n",
        "*   Списки\n",
        "*   $\\LaTeX$ формули\n",
        "\n",
        "4.   Поділитися файлом з різним можливим наданням доступу\n",
        "5.   Налаштувати Notebook\n",
        "\n",
        "### Source Control\n",
        "\n",
        "Невеличка довідка:\n",
        "\n",
        "Контроль джерела (або контроль версій) — це практика відстеження та керування змінами коду. Системи керування джерелом (SCM) забезпечують поточну історію розробки коду та допомагають вирішувати конфлікти під час об’єднання внесків із кількох джерел.\n",
        "\n",
        "GitHub — це інтернет-сервіс для розробки програмного забезпечення та контролю джерела за допомогою Git. Він забезпечує розподілене керування вихідним кодом Git плюс контроль доступу, відстеження помилок, запити функцій програмного забезпечення, керування завданнями, безперервну інтеграцію.\n",
        "\n",
        "Прив'яжемо свій Notebook до GitHub аккаунт:\n",
        "\n",
        "1.   Заходимо в 'Settings'\n",
        "2.   'GiHub'\n",
        "3.   Прив'язуємо свій акаунт\n",
        "4.   'Files'\n",
        "5.   'Save a copy on GitHub'\n",
        "6.   Вибираємо потрібний 'repository' та 'branch'. Створюємо 'commit message'\n",
        "\n",
        "<img src=\"https://lh3.googleusercontent.com/d/1RjiVs6sy1tE6cqBwkF63F4X8YIvMZxWb\">\n",
        "\n",
        "<img src=\"https://lh3.googleusercontent.com/d/1nlmsSw6Tgq-XZkDRg6suHcZKuihS8l6Y\">\n",
        "\n",
        "<img src=\"https://lh3.googleusercontent.com/d/1pniIkX0A4VUdrlqfOriTxpJVAxz5wPtu\">\n",
        "\n",
        "Після усіх вищеперерахованих кроків можно зайти на свій GitHub та перевірити наявність Notebook: \n",
        "\n",
        "<img src=\"https://lh3.googleusercontent.com/d/1GRGoc5w6zPz3LMhloD1r9dfmkbZWqs_I\">\n",
        "\n",
        "### Tutorials\n",
        "\n",
        "На стартовій сторінці 'Welcome to Colab!' можно побачити декілька туторіалів по роботі з Colab, Data Science. Також є посилання на корисні ресурси та приелади деяких проектів.\n",
        "  \n",
        "  <tr>\n",
        "    <td><img src='https://lh3.googleusercontent.com/d/1knAP8wHOGam8iNEvnyPw5yeEj4i6-CC-', width='500px'><td>\n",
        "    <td><img src='https://lh3.googleusercontent.com/d/17LVGkVeCpIccVi19kxAS5ZWadurcbxMa', width='500px'><td>\n",
        "    <td><img src='https://lh3.googleusercontent.com/d/1wRPaKH3Ne-7So_MAYh5fkKPXdGwc1e9w', width='500px'><td>\n",
        "    <td><img src='https://lh3.googleusercontent.com/d/1Hg7UDGZm1je6-HHZXqSkroSCS6W9ZC-N', width='500px'><td>\n",
        "    <td><img src='https://lh3.googleusercontent.com/d/1L3hzEdO6DZjuF2s_aeY6Cqx9bTWjBlv1', width='500px'><td>\n",
        "    <td><img src='https://lh3.googleusercontent.com/d/1RvDOm_ePCpNlfRlnCqyncLS1D1QxlViA', width='500px'><td>\n",
        "  </tr>\n",
        "\n",
        "\n",
        "\n",
        "---\n",
        "\n"
      ],
      "metadata": {
        "id": "1IkuEqeopl2r"
      }
    },
    {
      "cell_type": "markdown",
      "source": [
        "# Розділ 2. Аналіз та візуалізація даних у середовищі IPython Notebook на модельних наборах даних."
      ],
      "metadata": {
        "id": "gPdQUk5ZxOom"
      }
    },
    {
      "cell_type": "markdown",
      "source": [
        "## Встановлюємо Датасет. "
      ],
      "metadata": {
        "id": "DH61AnID-wt7"
      }
    },
    {
      "cell_type": "code",
      "source": [
        "from google.colab import drive\n",
        "drive.mount('/content/gdrive')\n",
        "import os\n",
        "os.environ['KAGGLE_CONFIG_DIR'] = \"/content/gdrive/MyDrive/coursework\"\n",
        "\n",
        "%cd /content/gdrive/MyDrive/coursework\n",
        "\n",
        "!kaggle datasets download -d krystianadammolenda/refugees-from-ukraine-poland\n",
        "\n",
        "!unzip \\*.zip  && rm *.zip\n",
        "\n"
      ],
      "metadata": {
        "colab": {
          "base_uri": "https://localhost:8080/",
          "height": 375
        },
        "id": "5whi6arNTbSo",
        "outputId": "34d6b0b5-9943-4d89-a44d-fc25d64956fc"
      },
      "execution_count": 40,
      "outputs": [
        {
          "output_type": "error",
          "ename": "KeyboardInterrupt",
          "evalue": "ignored",
          "traceback": [
            "\u001b[0;31m---------------------------------------------------------------------------\u001b[0m",
            "\u001b[0;31mKeyboardInterrupt\u001b[0m                         Traceback (most recent call last)",
            "\u001b[0;32m<ipython-input-40-a748fe50e5c4>\u001b[0m in \u001b[0;36m<module>\u001b[0;34m\u001b[0m\n\u001b[1;32m      3\u001b[0m \u001b[0;34m\u001b[0m\u001b[0m\n\u001b[1;32m      4\u001b[0m \u001b[0;32mfrom\u001b[0m \u001b[0mgoogle\u001b[0m\u001b[0;34m.\u001b[0m\u001b[0mcolab\u001b[0m \u001b[0;32mimport\u001b[0m \u001b[0mdrive\u001b[0m\u001b[0;34m\u001b[0m\u001b[0;34m\u001b[0m\u001b[0m\n\u001b[0;32m----> 5\u001b[0;31m \u001b[0mdrive\u001b[0m\u001b[0;34m.\u001b[0m\u001b[0mmount\u001b[0m\u001b[0;34m(\u001b[0m\u001b[0;34m'/content/gdrive'\u001b[0m\u001b[0;34m)\u001b[0m\u001b[0;34m\u001b[0m\u001b[0;34m\u001b[0m\u001b[0m\n\u001b[0m\u001b[1;32m      6\u001b[0m \u001b[0;32mimport\u001b[0m \u001b[0mos\u001b[0m\u001b[0;34m\u001b[0m\u001b[0;34m\u001b[0m\u001b[0m\n\u001b[1;32m      7\u001b[0m \u001b[0mos\u001b[0m\u001b[0;34m.\u001b[0m\u001b[0menviron\u001b[0m\u001b[0;34m[\u001b[0m\u001b[0;34m'KAGGLE_CONFIG_DIR'\u001b[0m\u001b[0;34m]\u001b[0m \u001b[0;34m=\u001b[0m \u001b[0;34m\"/content/gdrive/MyDrive/coursework\"\u001b[0m\u001b[0;34m\u001b[0m\u001b[0;34m\u001b[0m\u001b[0m\n",
            "\u001b[0;32m/usr/local/lib/python3.7/dist-packages/google/colab/drive.py\u001b[0m in \u001b[0;36mmount\u001b[0;34m(mountpoint, force_remount, timeout_ms)\u001b[0m\n\u001b[1;32m    103\u001b[0m       \u001b[0mforce_remount\u001b[0m\u001b[0;34m=\u001b[0m\u001b[0mforce_remount\u001b[0m\u001b[0;34m,\u001b[0m\u001b[0;34m\u001b[0m\u001b[0;34m\u001b[0m\u001b[0m\n\u001b[1;32m    104\u001b[0m       \u001b[0mtimeout_ms\u001b[0m\u001b[0;34m=\u001b[0m\u001b[0mtimeout_ms\u001b[0m\u001b[0;34m,\u001b[0m\u001b[0;34m\u001b[0m\u001b[0;34m\u001b[0m\u001b[0m\n\u001b[0;32m--> 105\u001b[0;31m       ephemeral=True)\n\u001b[0m\u001b[1;32m    106\u001b[0m \u001b[0;34m\u001b[0m\u001b[0m\n\u001b[1;32m    107\u001b[0m \u001b[0;34m\u001b[0m\u001b[0m\n",
            "\u001b[0;32m/usr/local/lib/python3.7/dist-packages/google/colab/drive.py\u001b[0m in \u001b[0;36m_mount\u001b[0;34m(mountpoint, force_remount, timeout_ms, ephemeral)\u001b[0m\n\u001b[1;32m    118\u001b[0m   \u001b[0;32mif\u001b[0m \u001b[0mephemeral\u001b[0m\u001b[0;34m:\u001b[0m\u001b[0;34m\u001b[0m\u001b[0;34m\u001b[0m\u001b[0m\n\u001b[1;32m    119\u001b[0m     _message.blocking_request(\n\u001b[0;32m--> 120\u001b[0;31m         'request_auth', request={'authType': 'dfs_ephemeral'}, timeout_sec=None)\n\u001b[0m\u001b[1;32m    121\u001b[0m \u001b[0;34m\u001b[0m\u001b[0m\n\u001b[1;32m    122\u001b[0m   \u001b[0mmountpoint\u001b[0m \u001b[0;34m=\u001b[0m \u001b[0m_os\u001b[0m\u001b[0;34m.\u001b[0m\u001b[0mpath\u001b[0m\u001b[0;34m.\u001b[0m\u001b[0mexpanduser\u001b[0m\u001b[0;34m(\u001b[0m\u001b[0mmountpoint\u001b[0m\u001b[0;34m)\u001b[0m\u001b[0;34m\u001b[0m\u001b[0;34m\u001b[0m\u001b[0m\n",
            "\u001b[0;32m/usr/local/lib/python3.7/dist-packages/google/colab/_message.py\u001b[0m in \u001b[0;36mblocking_request\u001b[0;34m(request_type, request, timeout_sec, parent)\u001b[0m\n\u001b[1;32m    169\u001b[0m   request_id = send_request(\n\u001b[1;32m    170\u001b[0m       request_type, request, parent=parent, expect_reply=True)\n\u001b[0;32m--> 171\u001b[0;31m   \u001b[0;32mreturn\u001b[0m \u001b[0mread_reply_from_input\u001b[0m\u001b[0;34m(\u001b[0m\u001b[0mrequest_id\u001b[0m\u001b[0;34m,\u001b[0m \u001b[0mtimeout_sec\u001b[0m\u001b[0;34m)\u001b[0m\u001b[0;34m\u001b[0m\u001b[0;34m\u001b[0m\u001b[0m\n\u001b[0m",
            "\u001b[0;32m/usr/local/lib/python3.7/dist-packages/google/colab/_message.py\u001b[0m in \u001b[0;36mread_reply_from_input\u001b[0;34m(message_id, timeout_sec)\u001b[0m\n\u001b[1;32m     95\u001b[0m     \u001b[0mreply\u001b[0m \u001b[0;34m=\u001b[0m \u001b[0m_read_next_input_message\u001b[0m\u001b[0;34m(\u001b[0m\u001b[0;34m)\u001b[0m\u001b[0;34m\u001b[0m\u001b[0;34m\u001b[0m\u001b[0m\n\u001b[1;32m     96\u001b[0m     \u001b[0;32mif\u001b[0m \u001b[0mreply\u001b[0m \u001b[0;34m==\u001b[0m \u001b[0m_NOT_READY\u001b[0m \u001b[0;32mor\u001b[0m \u001b[0;32mnot\u001b[0m \u001b[0misinstance\u001b[0m\u001b[0;34m(\u001b[0m\u001b[0mreply\u001b[0m\u001b[0;34m,\u001b[0m \u001b[0mdict\u001b[0m\u001b[0;34m)\u001b[0m\u001b[0;34m:\u001b[0m\u001b[0;34m\u001b[0m\u001b[0;34m\u001b[0m\u001b[0m\n\u001b[0;32m---> 97\u001b[0;31m       \u001b[0mtime\u001b[0m\u001b[0;34m.\u001b[0m\u001b[0msleep\u001b[0m\u001b[0;34m(\u001b[0m\u001b[0;36m0.025\u001b[0m\u001b[0;34m)\u001b[0m\u001b[0;34m\u001b[0m\u001b[0;34m\u001b[0m\u001b[0m\n\u001b[0m\u001b[1;32m     98\u001b[0m       \u001b[0;32mcontinue\u001b[0m\u001b[0;34m\u001b[0m\u001b[0;34m\u001b[0m\u001b[0m\n\u001b[1;32m     99\u001b[0m     if (reply.get('type') == 'colab_reply' and\n",
            "\u001b[0;31mKeyboardInterrupt\u001b[0m: "
          ]
        }
      ]
    },
    {
      "cell_type": "code",
      "source": [
        "import pandas as pd\n",
        "import numpy as np\n",
        "import datetime"
      ],
      "metadata": {
        "id": "OhZs9gl4DQSK"
      },
      "execution_count": 41,
      "outputs": []
    },
    {
      "cell_type": "markdown",
      "source": [
        "## Аналіз набору даних на наявність пропущених значень та NaN."
      ],
      "metadata": {
        "id": "9R0AYtOy-k46"
      }
    },
    {
      "cell_type": "code",
      "source": [
        "path = '/content/gdrive/MyDrive/coursework/border_traffic_UA_PL_01_03.csv'\n",
        "df = pd.read_csv(path)\n",
        "  \n",
        "df.head()"
      ],
      "metadata": {
        "colab": {
          "base_uri": "https://localhost:8080/",
          "height": 350
        },
        "id": "8vsgL3N25kQK",
        "outputId": "eebf9428-19d4-4ed9-a61f-46c1bbda57f5"
      },
      "execution_count": 35,
      "outputs": [
        {
          "output_type": "execute_result",
          "data": {
            "text/plain": [
              "  Border Guard Post    Border crossing Type of border crossing  \\\n",
              "0          Dorohusk  Dorohusk-Jagodzin                    road   \n",
              "1          Dorohusk  Dorohusk-Jagodzin                    road   \n",
              "2          Dorohusk  Dorohusk-Jagodzin                    road   \n",
              "3          Dorohusk  Dorohusk-Jagodzin                    road   \n",
              "4          Dorohusk  Dorohusk-Jagodzin                    road   \n",
              "\n",
              "  Border Guard Unit        Date Direction to / from Poland Citizenship (code)  \\\n",
              "0       Nadbuzanski  2022-01-01          arrival in Poland                 BY   \n",
              "1       Nadbuzanski  2022-01-01          arrival in Poland                 DE   \n",
              "2       Nadbuzanski  2022-01-01          arrival in Poland                 TR   \n",
              "3       Nadbuzanski  2022-01-01          arrival in Poland                 UA   \n",
              "4       Nadbuzanski  2022-01-01          arrival in Poland                 LV   \n",
              "\n",
              "  UE / Schengen  Number of persons (checked-in)  Number of people (evacuated)  \n",
              "0             0                               7                             0  \n",
              "1            UE                              29                             0  \n",
              "2             0                               2                             0  \n",
              "3             0                             389                             0  \n",
              "4            UE                               3                             0  "
            ],
            "text/html": [
              "\n",
              "  <div id=\"df-79defd76-ba6a-4a29-91c6-f4f755a8ccf7\">\n",
              "    <div class=\"colab-df-container\">\n",
              "      <div>\n",
              "<style scoped>\n",
              "    .dataframe tbody tr th:only-of-type {\n",
              "        vertical-align: middle;\n",
              "    }\n",
              "\n",
              "    .dataframe tbody tr th {\n",
              "        vertical-align: top;\n",
              "    }\n",
              "\n",
              "    .dataframe thead th {\n",
              "        text-align: right;\n",
              "    }\n",
              "</style>\n",
              "<table border=\"1\" class=\"dataframe\">\n",
              "  <thead>\n",
              "    <tr style=\"text-align: right;\">\n",
              "      <th></th>\n",
              "      <th>Border Guard Post</th>\n",
              "      <th>Border crossing</th>\n",
              "      <th>Type of border crossing</th>\n",
              "      <th>Border Guard Unit</th>\n",
              "      <th>Date</th>\n",
              "      <th>Direction to / from Poland</th>\n",
              "      <th>Citizenship (code)</th>\n",
              "      <th>UE / Schengen</th>\n",
              "      <th>Number of persons (checked-in)</th>\n",
              "      <th>Number of people (evacuated)</th>\n",
              "    </tr>\n",
              "  </thead>\n",
              "  <tbody>\n",
              "    <tr>\n",
              "      <th>0</th>\n",
              "      <td>Dorohusk</td>\n",
              "      <td>Dorohusk-Jagodzin</td>\n",
              "      <td>road</td>\n",
              "      <td>Nadbuzanski</td>\n",
              "      <td>2022-01-01</td>\n",
              "      <td>arrival in Poland</td>\n",
              "      <td>BY</td>\n",
              "      <td>0</td>\n",
              "      <td>7</td>\n",
              "      <td>0</td>\n",
              "    </tr>\n",
              "    <tr>\n",
              "      <th>1</th>\n",
              "      <td>Dorohusk</td>\n",
              "      <td>Dorohusk-Jagodzin</td>\n",
              "      <td>road</td>\n",
              "      <td>Nadbuzanski</td>\n",
              "      <td>2022-01-01</td>\n",
              "      <td>arrival in Poland</td>\n",
              "      <td>DE</td>\n",
              "      <td>UE</td>\n",
              "      <td>29</td>\n",
              "      <td>0</td>\n",
              "    </tr>\n",
              "    <tr>\n",
              "      <th>2</th>\n",
              "      <td>Dorohusk</td>\n",
              "      <td>Dorohusk-Jagodzin</td>\n",
              "      <td>road</td>\n",
              "      <td>Nadbuzanski</td>\n",
              "      <td>2022-01-01</td>\n",
              "      <td>arrival in Poland</td>\n",
              "      <td>TR</td>\n",
              "      <td>0</td>\n",
              "      <td>2</td>\n",
              "      <td>0</td>\n",
              "    </tr>\n",
              "    <tr>\n",
              "      <th>3</th>\n",
              "      <td>Dorohusk</td>\n",
              "      <td>Dorohusk-Jagodzin</td>\n",
              "      <td>road</td>\n",
              "      <td>Nadbuzanski</td>\n",
              "      <td>2022-01-01</td>\n",
              "      <td>arrival in Poland</td>\n",
              "      <td>UA</td>\n",
              "      <td>0</td>\n",
              "      <td>389</td>\n",
              "      <td>0</td>\n",
              "    </tr>\n",
              "    <tr>\n",
              "      <th>4</th>\n",
              "      <td>Dorohusk</td>\n",
              "      <td>Dorohusk-Jagodzin</td>\n",
              "      <td>road</td>\n",
              "      <td>Nadbuzanski</td>\n",
              "      <td>2022-01-01</td>\n",
              "      <td>arrival in Poland</td>\n",
              "      <td>LV</td>\n",
              "      <td>UE</td>\n",
              "      <td>3</td>\n",
              "      <td>0</td>\n",
              "    </tr>\n",
              "  </tbody>\n",
              "</table>\n",
              "</div>\n",
              "      <button class=\"colab-df-convert\" onclick=\"convertToInteractive('df-79defd76-ba6a-4a29-91c6-f4f755a8ccf7')\"\n",
              "              title=\"Convert this dataframe to an interactive table.\"\n",
              "              style=\"display:none;\">\n",
              "        \n",
              "  <svg xmlns=\"http://www.w3.org/2000/svg\" height=\"24px\"viewBox=\"0 0 24 24\"\n",
              "       width=\"24px\">\n",
              "    <path d=\"M0 0h24v24H0V0z\" fill=\"none\"/>\n",
              "    <path d=\"M18.56 5.44l.94 2.06.94-2.06 2.06-.94-2.06-.94-.94-2.06-.94 2.06-2.06.94zm-11 1L8.5 8.5l.94-2.06 2.06-.94-2.06-.94L8.5 2.5l-.94 2.06-2.06.94zm10 10l.94 2.06.94-2.06 2.06-.94-2.06-.94-.94-2.06-.94 2.06-2.06.94z\"/><path d=\"M17.41 7.96l-1.37-1.37c-.4-.4-.92-.59-1.43-.59-.52 0-1.04.2-1.43.59L10.3 9.45l-7.72 7.72c-.78.78-.78 2.05 0 2.83L4 21.41c.39.39.9.59 1.41.59.51 0 1.02-.2 1.41-.59l7.78-7.78 2.81-2.81c.8-.78.8-2.07 0-2.86zM5.41 20L4 18.59l7.72-7.72 1.47 1.35L5.41 20z\"/>\n",
              "  </svg>\n",
              "      </button>\n",
              "      \n",
              "  <style>\n",
              "    .colab-df-container {\n",
              "      display:flex;\n",
              "      flex-wrap:wrap;\n",
              "      gap: 12px;\n",
              "    }\n",
              "\n",
              "    .colab-df-convert {\n",
              "      background-color: #E8F0FE;\n",
              "      border: none;\n",
              "      border-radius: 50%;\n",
              "      cursor: pointer;\n",
              "      display: none;\n",
              "      fill: #1967D2;\n",
              "      height: 32px;\n",
              "      padding: 0 0 0 0;\n",
              "      width: 32px;\n",
              "    }\n",
              "\n",
              "    .colab-df-convert:hover {\n",
              "      background-color: #E2EBFA;\n",
              "      box-shadow: 0px 1px 2px rgba(60, 64, 67, 0.3), 0px 1px 3px 1px rgba(60, 64, 67, 0.15);\n",
              "      fill: #174EA6;\n",
              "    }\n",
              "\n",
              "    [theme=dark] .colab-df-convert {\n",
              "      background-color: #3B4455;\n",
              "      fill: #D2E3FC;\n",
              "    }\n",
              "\n",
              "    [theme=dark] .colab-df-convert:hover {\n",
              "      background-color: #434B5C;\n",
              "      box-shadow: 0px 1px 3px 1px rgba(0, 0, 0, 0.15);\n",
              "      filter: drop-shadow(0px 1px 2px rgba(0, 0, 0, 0.3));\n",
              "      fill: #FFFFFF;\n",
              "    }\n",
              "  </style>\n",
              "\n",
              "      <script>\n",
              "        const buttonEl =\n",
              "          document.querySelector('#df-79defd76-ba6a-4a29-91c6-f4f755a8ccf7 button.colab-df-convert');\n",
              "        buttonEl.style.display =\n",
              "          google.colab.kernel.accessAllowed ? 'block' : 'none';\n",
              "\n",
              "        async function convertToInteractive(key) {\n",
              "          const element = document.querySelector('#df-79defd76-ba6a-4a29-91c6-f4f755a8ccf7');\n",
              "          const dataTable =\n",
              "            await google.colab.kernel.invokeFunction('convertToInteractive',\n",
              "                                                     [key], {});\n",
              "          if (!dataTable) return;\n",
              "\n",
              "          const docLinkHtml = 'Like what you see? Visit the ' +\n",
              "            '<a target=\"_blank\" href=https://colab.research.google.com/notebooks/data_table.ipynb>data table notebook</a>'\n",
              "            + ' to learn more about interactive tables.';\n",
              "          element.innerHTML = '';\n",
              "          dataTable['output_type'] = 'display_data';\n",
              "          await google.colab.output.renderOutput(dataTable, element);\n",
              "          const docLink = document.createElement('div');\n",
              "          docLink.innerHTML = docLinkHtml;\n",
              "          element.appendChild(docLink);\n",
              "        }\n",
              "      </script>\n",
              "    </div>\n",
              "  </div>\n",
              "  "
            ]
          },
          "metadata": {},
          "execution_count": 35
        }
      ]
    },
    {
      "cell_type": "code",
      "source": [
        "df.isnull().values.any() # шукаємо пропущені значення"
      ],
      "metadata": {
        "colab": {
          "base_uri": "https://localhost:8080/"
        },
        "id": "FASs1lUv6QZM",
        "outputId": "b086a00b-294f-41ba-d542-e2a7be8dcafa"
      },
      "execution_count": 17,
      "outputs": [
        {
          "output_type": "execute_result",
          "data": {
            "text/plain": [
              "True"
            ]
          },
          "metadata": {},
          "execution_count": 17
        }
      ]
    },
    {
      "cell_type": "markdown",
      "source": [
        "В датасеті є прропущенні значення. Потрібно їх порахувати і замінити"
      ],
      "metadata": {
        "id": "eW1MfOse6xyn"
      }
    },
    {
      "cell_type": "code",
      "source": [
        "missing_values_count = df.isnull().sum() # рахуємо пропущені значення\n",
        "total_missing = missing_values_count.sum() \n",
        "\n",
        "print(f'Пропущено : {total_missing}')"
      ],
      "metadata": {
        "colab": {
          "base_uri": "https://localhost:8080/"
        },
        "id": "SBbNQtv669Sz",
        "outputId": "316f6b76-e3ef-4bb8-ba8a-cad843bd622c"
      },
      "execution_count": 18,
      "outputs": [
        {
          "output_type": "stream",
          "name": "stdout",
          "text": [
            "Пропущено : 107\n"
          ]
        }
      ]
    },
    {
      "cell_type": "code",
      "source": [
        "df = df.fillna(method='bfill') # заміняємо\n",
        "df.isnull().values.any()"
      ],
      "metadata": {
        "colab": {
          "base_uri": "https://localhost:8080/"
        },
        "id": "GRvv-v3o7j2P",
        "outputId": "feea433f-e488-4a9e-90c5-d47395bd46c5"
      },
      "execution_count": 29,
      "outputs": [
        {
          "output_type": "execute_result",
          "data": {
            "text/plain": [
              "False"
            ]
          },
          "metadata": {},
          "execution_count": 29
        }
      ]
    },
    {
      "cell_type": "code",
      "source": [
        "df['Date'] = pd.to_datetime(df['Date'], format=\"%Y-%m-%d\")"
      ],
      "metadata": {
        "id": "8kmJD-ATDamz"
      },
      "execution_count": 52,
      "outputs": []
    },
    {
      "cell_type": "markdown",
      "source": [
        "## Представлення даних у матричному вигляді."
      ],
      "metadata": {
        "id": "WKpkgla0-QSK"
      }
    },
    {
      "cell_type": "code",
      "source": [
        "df_cut = df[:10][['Date', 'UE / Schengen', 'Number of persons (checked-in)', 'Number of people (evacuated)']]\n",
        "df_cut.style.highlight_max(color='green').highlight_min(color='red')"
      ],
      "metadata": {
        "colab": {
          "base_uri": "https://localhost:8080/",
          "height": 359
        },
        "id": "I2oiD5Kq-hhA",
        "outputId": "ac69d926-ce72-4928-9c36-97f8b53ee3dd"
      },
      "execution_count": 54,
      "outputs": [
        {
          "output_type": "execute_result",
          "data": {
            "text/plain": [
              "<pandas.io.formats.style.Styler at 0x7f0dddf2b410>"
            ],
            "text/html": [
              "<style type=\"text/css\">\n",
              "#T_59a1c_row0_col0, #T_59a1c_row0_col3, #T_59a1c_row1_col0, #T_59a1c_row1_col3, #T_59a1c_row2_col0, #T_59a1c_row2_col3, #T_59a1c_row3_col0, #T_59a1c_row3_col3, #T_59a1c_row4_col0, #T_59a1c_row4_col3, #T_59a1c_row5_col0, #T_59a1c_row5_col3, #T_59a1c_row6_col0, #T_59a1c_row6_col3, #T_59a1c_row7_col0, #T_59a1c_row7_col3, #T_59a1c_row8_col0, #T_59a1c_row8_col3, #T_59a1c_row9_col0, #T_59a1c_row9_col3 {\n",
              "  background-color: green;\n",
              "  background-color: red;\n",
              "}\n",
              "#T_59a1c_row0_col1, #T_59a1c_row2_col1, #T_59a1c_row2_col2, #T_59a1c_row3_col1, #T_59a1c_row6_col1, #T_59a1c_row7_col2, #T_59a1c_row9_col2 {\n",
              "  background-color: red;\n",
              "}\n",
              "#T_59a1c_row1_col1, #T_59a1c_row3_col2, #T_59a1c_row4_col1, #T_59a1c_row5_col1, #T_59a1c_row7_col1, #T_59a1c_row9_col1 {\n",
              "  background-color: green;\n",
              "}\n",
              "</style>\n",
              "<table id=\"T_59a1c_\" class=\"dataframe\">\n",
              "  <thead>\n",
              "    <tr>\n",
              "      <th class=\"blank level0\" >&nbsp;</th>\n",
              "      <th class=\"col_heading level0 col0\" >Date</th>\n",
              "      <th class=\"col_heading level0 col1\" >UE / Schengen</th>\n",
              "      <th class=\"col_heading level0 col2\" >Number of persons (checked-in)</th>\n",
              "      <th class=\"col_heading level0 col3\" >Number of people (evacuated)</th>\n",
              "    </tr>\n",
              "  </thead>\n",
              "  <tbody>\n",
              "    <tr>\n",
              "      <th id=\"T_59a1c_level0_row0\" class=\"row_heading level0 row0\" >0</th>\n",
              "      <td id=\"T_59a1c_row0_col0\" class=\"data row0 col0\" >2022-01-01 00:00:00</td>\n",
              "      <td id=\"T_59a1c_row0_col1\" class=\"data row0 col1\" >0</td>\n",
              "      <td id=\"T_59a1c_row0_col2\" class=\"data row0 col2\" >7</td>\n",
              "      <td id=\"T_59a1c_row0_col3\" class=\"data row0 col3\" >0</td>\n",
              "    </tr>\n",
              "    <tr>\n",
              "      <th id=\"T_59a1c_level0_row1\" class=\"row_heading level0 row1\" >1</th>\n",
              "      <td id=\"T_59a1c_row1_col0\" class=\"data row1 col0\" >2022-01-01 00:00:00</td>\n",
              "      <td id=\"T_59a1c_row1_col1\" class=\"data row1 col1\" >UE</td>\n",
              "      <td id=\"T_59a1c_row1_col2\" class=\"data row1 col2\" >29</td>\n",
              "      <td id=\"T_59a1c_row1_col3\" class=\"data row1 col3\" >0</td>\n",
              "    </tr>\n",
              "    <tr>\n",
              "      <th id=\"T_59a1c_level0_row2\" class=\"row_heading level0 row2\" >2</th>\n",
              "      <td id=\"T_59a1c_row2_col0\" class=\"data row2 col0\" >2022-01-01 00:00:00</td>\n",
              "      <td id=\"T_59a1c_row2_col1\" class=\"data row2 col1\" >0</td>\n",
              "      <td id=\"T_59a1c_row2_col2\" class=\"data row2 col2\" >2</td>\n",
              "      <td id=\"T_59a1c_row2_col3\" class=\"data row2 col3\" >0</td>\n",
              "    </tr>\n",
              "    <tr>\n",
              "      <th id=\"T_59a1c_level0_row3\" class=\"row_heading level0 row3\" >3</th>\n",
              "      <td id=\"T_59a1c_row3_col0\" class=\"data row3 col0\" >2022-01-01 00:00:00</td>\n",
              "      <td id=\"T_59a1c_row3_col1\" class=\"data row3 col1\" >0</td>\n",
              "      <td id=\"T_59a1c_row3_col2\" class=\"data row3 col2\" >389</td>\n",
              "      <td id=\"T_59a1c_row3_col3\" class=\"data row3 col3\" >0</td>\n",
              "    </tr>\n",
              "    <tr>\n",
              "      <th id=\"T_59a1c_level0_row4\" class=\"row_heading level0 row4\" >4</th>\n",
              "      <td id=\"T_59a1c_row4_col0\" class=\"data row4 col0\" >2022-01-01 00:00:00</td>\n",
              "      <td id=\"T_59a1c_row4_col1\" class=\"data row4 col1\" >UE</td>\n",
              "      <td id=\"T_59a1c_row4_col2\" class=\"data row4 col2\" >3</td>\n",
              "      <td id=\"T_59a1c_row4_col3\" class=\"data row4 col3\" >0</td>\n",
              "    </tr>\n",
              "    <tr>\n",
              "      <th id=\"T_59a1c_level0_row5\" class=\"row_heading level0 row5\" >5</th>\n",
              "      <td id=\"T_59a1c_row5_col0\" class=\"data row5 col0\" >2022-01-01 00:00:00</td>\n",
              "      <td id=\"T_59a1c_row5_col1\" class=\"data row5 col1\" >UE</td>\n",
              "      <td id=\"T_59a1c_row5_col2\" class=\"data row5 col2\" >3</td>\n",
              "      <td id=\"T_59a1c_row5_col3\" class=\"data row5 col3\" >0</td>\n",
              "    </tr>\n",
              "    <tr>\n",
              "      <th id=\"T_59a1c_level0_row6\" class=\"row_heading level0 row6\" >6</th>\n",
              "      <td id=\"T_59a1c_row6_col0\" class=\"data row6 col0\" >2022-01-01 00:00:00</td>\n",
              "      <td id=\"T_59a1c_row6_col1\" class=\"data row6 col1\" >0</td>\n",
              "      <td id=\"T_59a1c_row6_col2\" class=\"data row6 col2\" >4</td>\n",
              "      <td id=\"T_59a1c_row6_col3\" class=\"data row6 col3\" >0</td>\n",
              "    </tr>\n",
              "    <tr>\n",
              "      <th id=\"T_59a1c_level0_row7\" class=\"row_heading level0 row7\" >7</th>\n",
              "      <td id=\"T_59a1c_row7_col0\" class=\"data row7 col0\" >2022-01-01 00:00:00</td>\n",
              "      <td id=\"T_59a1c_row7_col1\" class=\"data row7 col1\" >UE</td>\n",
              "      <td id=\"T_59a1c_row7_col2\" class=\"data row7 col2\" >2</td>\n",
              "      <td id=\"T_59a1c_row7_col3\" class=\"data row7 col3\" >0</td>\n",
              "    </tr>\n",
              "    <tr>\n",
              "      <th id=\"T_59a1c_level0_row8\" class=\"row_heading level0 row8\" >8</th>\n",
              "      <td id=\"T_59a1c_row8_col0\" class=\"data row8 col0\" >2022-01-01 00:00:00</td>\n",
              "      <td id=\"T_59a1c_row8_col1\" class=\"data row8 col1\" >Schengen</td>\n",
              "      <td id=\"T_59a1c_row8_col2\" class=\"data row8 col2\" >4</td>\n",
              "      <td id=\"T_59a1c_row8_col3\" class=\"data row8 col3\" >0</td>\n",
              "    </tr>\n",
              "    <tr>\n",
              "      <th id=\"T_59a1c_level0_row9\" class=\"row_heading level0 row9\" >9</th>\n",
              "      <td id=\"T_59a1c_row9_col0\" class=\"data row9 col0\" >2022-01-01 00:00:00</td>\n",
              "      <td id=\"T_59a1c_row9_col1\" class=\"data row9 col1\" >UE</td>\n",
              "      <td id=\"T_59a1c_row9_col2\" class=\"data row9 col2\" >2</td>\n",
              "      <td id=\"T_59a1c_row9_col3\" class=\"data row9 col3\" >0</td>\n",
              "    </tr>\n",
              "  </tbody>\n",
              "</table>\n"
            ]
          },
          "metadata": {},
          "execution_count": 54
        }
      ]
    },
    {
      "cell_type": "code",
      "source": [
        "df.mean()"
      ],
      "metadata": {
        "colab": {
          "base_uri": "https://localhost:8080/"
        },
        "id": "x0aMx9OSFufT",
        "outputId": "f20157e6-c369-4464-d38a-9e424564ef65"
      },
      "execution_count": 55,
      "outputs": [
        {
          "output_type": "stream",
          "name": "stderr",
          "text": [
            "/usr/local/lib/python3.7/dist-packages/ipykernel_launcher.py:1: FutureWarning: DataFrame.mean and DataFrame.median with numeric_only=None will include datetime64 and datetime64tz columns in a future version.\n",
            "  \"\"\"Entry point for launching an IPython kernel.\n",
            "/usr/local/lib/python3.7/dist-packages/ipykernel_launcher.py:1: FutureWarning: Dropping of nuisance columns in DataFrame reductions (with 'numeric_only=None') is deprecated; in a future version this will raise TypeError.  Select only valid columns before calling the reduction.\n",
            "  \"\"\"Entry point for launching an IPython kernel.\n"
          ]
        },
        {
          "output_type": "execute_result",
          "data": {
            "text/plain": [
              "Number of persons (checked-in)    78.063485\n",
              "Number of people (evacuated)      33.785555\n",
              "dtype: float64"
            ]
          },
          "metadata": {},
          "execution_count": 55
        }
      ]
    },
    {
      "cell_type": "code",
      "source": [
        "df.var()"
      ],
      "metadata": {
        "colab": {
          "base_uri": "https://localhost:8080/"
        },
        "id": "keCiGbvZGBwM",
        "outputId": "594d83c0-0c1d-422c-de25-f199deca1fe8"
      },
      "execution_count": 57,
      "outputs": [
        {
          "output_type": "execute_result",
          "data": {
            "text/plain": [
              "Number of persons (checked-in)    464594.134873\n",
              "Number of people (evacuated)       97917.292300\n",
              "dtype: float64"
            ]
          },
          "metadata": {},
          "execution_count": 57
        }
      ]
    },
    {
      "cell_type": "code",
      "source": [],
      "metadata": {
        "colab": {
          "base_uri": "https://localhost:8080/"
        },
        "id": "yBDeGflJGRBS",
        "outputId": "d19f783c-329a-4395-c008-595b20a3dbe5"
      },
      "execution_count": 59,
      "outputs": [
        {
          "output_type": "stream",
          "name": "stdout",
          "text": [
            "False\n"
          ]
        }
      ]
    }
  ]
}