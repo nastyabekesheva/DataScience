{
  "nbformat": 4,
  "nbformat_minor": 0,
  "metadata": {
    "colab": {
      "provenance": [],
      "collapsed_sections": [],
      "authorship_tag": "ABX9TyOSdOM5z7kf5/0fUA6MsWnn",
      "include_colab_link": true
    },
    "kernelspec": {
      "name": "python3",
      "display_name": "Python 3"
    },
    "language_info": {
      "name": "python"
    }
  },
  "cells": [
    {
      "cell_type": "markdown",
      "metadata": {
        "id": "view-in-github",
        "colab_type": "text"
      },
      "source": [
        "<a href=\"https://colab.research.google.com/github/nastyabekesheva/courseworks/blob/main/courseworkDS.ipynb\" target=\"_parent\"><img src=\"https://colab.research.google.com/assets/colab-badge.svg\" alt=\"Open In Colab\"/></a>"
      ]
    },
    {
      "cell_type": "markdown",
      "source": [
        ">>**НАЦІОНАЛЬНИЙ ТЕХНІЧНИЙ УНІВЕРСИТЕТ УКРАЇНИ**\\\n",
        "**«КИЇВСЬКИЙ ПОЛІТЕХНІЧНИЙ ІНСТИТУТ імені ІГОРЯ СІКОРСЬКОГО»**\\\n",
        "**НАВЧАЛЬНО-НАУКОВИЙ ФІЗИКО-ТЕХНІЧНИЙ ІНСТИТУТ**\\\n",
        "Кафедра математичного моделювання та аналізу даних\n",
        "\n",
        "<br>\n",
        "<br>\n",
        "<br>\n",
        "\n",
        "\n",
        ">>>>>КУРСОВА РОБОТА \n",
        "<br>\n",
        "\n",
        ">з дисципліни «Спеціальні розділи програмування»\\\n",
        "На тему «Знайомство з можливостями Anaconda/IPython Notebook. Аналіз та візуалізація даних датасету »\n",
        "\n",
        "<br>\n",
        "<br>\n",
        "<br>\n",
        "\n",
        ">>>>>>>Студента  2 курсу ФІ-12 групи \n",
        "спеціальності 113 Прикладна математика \\\n",
        "Бекешевої А. О.       \n",
        "Перевірила: Яйлимова Г. О.\n",
        "\n",
        "<br>\n",
        "<br>\n",
        "<br>\n",
        "<br>\n",
        "\n",
        ">>>>>Київ – 2022\n"
      ],
      "metadata": {
        "id": "58cqIQHT52Dw"
      }
    },
    {
      "cell_type": "markdown",
      "source": [
        ">[Розділ 1. Знайомство з можливостями Google Colab/IPython Notebook](#scrollTo=zA1YfNN6a3tk)\n",
        "\n",
        ">>[Colab vs Jupyter](#scrollTo=zA1YfNN6a3tk)\n",
        "\n"
      ],
      "metadata": {
        "colab_type": "toc",
        "id": "mwfm8gXT59NQ"
      }
    },
    {
      "cell_type": "markdown",
      "source": [
        "# Розділ 1. Знайомство з можливостями Google Colab/IPython Notebook\n",
        "\n",
        "Colab — це безкоштовне середовище для записників Jupyter, яке повністю працює в хмарі. Найважливіше те, що для цього не потрібно налаштування, а створені вами блокноти можуть одночасно редагуватися членами вашої команди – так само, як ви редагуєте документи в Google Docs. Colab підтримує багато популярних бібліотек машинного навчання, які можна легко завантажити у свій блокнот.\n",
        "\n",
        "\n",
        "---\n",
        "\n",
        "## Colab vs Jupyter\n",
        "\n",
        " Jupyter Lab | Google Colab\n",
        " --- | ---\n",
        "Працює на локальному обладнанні  | Працює на сервері Google\n",
        "Використовує системний процесор і немає доступу до зовнішніх GPU і TPU| Безкоштовні GPU і TPU надаються, ви також можете використовуйте свою локальну машину для запуску коду\n",
        "Ви повинні встановлювати бібліотеки вручну | Більшість необхідних бібліотек попередньо встановлено\n",
        "Не можна поділитися з іншими без завантаження файлів| Можна поділитися з іншими без завантаження\n",
        "Обмеження часу виконання залежать від системної пам’яті | 12/24 години роботи та може бути перервано Google\n",
        "Необхідно встановити на комп’ютер через anaconda або python | Не потрібно нічого встановлювати, можна використовувати через браузер\n",
        "Неможливо отримати доступ до файлів ноутбука без жорсткого диска | Доступ до нього можна отримати будь-де без жорсткого диска, оскільки він зберігається на вашому диску Google\n",
        "Це абсолютно безкоштовно | Це частково безкоштовно, ви можете взяти підписку за $9,99/місяць \n",
        "\n",
        "\n",
        "![alt text](https://drive.google.com/file/d/1TegmL8O0WMzWOgdN7BbwhqiAvfGLXwYs/view?usp=sharing)\n",
        "\n",
        "\n"
      ],
      "metadata": {
        "id": "zA1YfNN6a3tk"
      }
    },
    {
      "cell_type": "code",
      "execution_count": null,
      "metadata": {
        "id": "x_8T5YhH5n6O"
      },
      "outputs": [],
      "source": []
    }
  ]
}