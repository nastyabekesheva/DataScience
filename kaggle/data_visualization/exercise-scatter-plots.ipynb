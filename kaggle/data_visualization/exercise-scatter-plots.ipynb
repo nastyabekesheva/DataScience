{
 "cells": [
  {
   "cell_type": "markdown",
   "id": "69c8ccdb",
   "metadata": {
    "papermill": {
     "duration": 0.009516,
     "end_time": "2022-09-19T14:27:45.612881",
     "exception": false,
     "start_time": "2022-09-19T14:27:45.603365",
     "status": "completed"
    },
    "tags": []
   },
   "source": [
    "**This notebook is an exercise in the [Data Visualization](https://www.kaggle.com/learn/data-visualization) course.  You can reference the tutorial at [this link](https://www.kaggle.com/alexisbcook/scatter-plots).**\n",
    "\n",
    "---\n"
   ]
  },
  {
   "cell_type": "markdown",
   "id": "8ef56cdd",
   "metadata": {
    "papermill": {
     "duration": 0.00773,
     "end_time": "2022-09-19T14:27:45.628896",
     "exception": false,
     "start_time": "2022-09-19T14:27:45.621166",
     "status": "completed"
    },
    "tags": []
   },
   "source": [
    "In this exercise, you will use your new knowledge to propose a solution to a real-world scenario.  To succeed, you will need to import data into Python, answer questions using the data, and generate **scatter plots** to understand patterns in the data.\n",
    "\n",
    "## Scenario\n",
    "\n",
    "You work for a major candy producer, and your goal is to write a report that your company can use to guide the design of its next product.  Soon after starting your research, you stumble across this [very interesting dataset](https://fivethirtyeight.com/features/the-ultimate-halloween-candy-power-ranking/) containing results from a fun survey to crowdsource favorite candies.\n",
    "\n",
    "## Setup\n",
    "\n",
    "Run the next cell to import and configure the Python libraries that you need to complete the exercise."
   ]
  },
  {
   "cell_type": "code",
   "execution_count": 1,
   "id": "aa569951",
   "metadata": {
    "execution": {
     "iopub.execute_input": "2022-09-19T14:27:45.647798Z",
     "iopub.status.busy": "2022-09-19T14:27:45.646774Z",
     "iopub.status.idle": "2022-09-19T14:27:46.624536Z",
     "shell.execute_reply": "2022-09-19T14:27:46.623448Z"
    },
    "papermill": {
     "duration": 0.99035,
     "end_time": "2022-09-19T14:27:46.627226",
     "exception": false,
     "start_time": "2022-09-19T14:27:45.636876",
     "status": "completed"
    },
    "tags": []
   },
   "outputs": [
    {
     "name": "stdout",
     "output_type": "stream",
     "text": [
      "Setup Complete\n"
     ]
    }
   ],
   "source": [
    "import pandas as pd\n",
    "pd.plotting.register_matplotlib_converters()\n",
    "import matplotlib.pyplot as plt\n",
    "%matplotlib inline\n",
    "import seaborn as sns\n",
    "print(\"Setup Complete\")"
   ]
  },
  {
   "cell_type": "markdown",
   "id": "1a48082d",
   "metadata": {
    "papermill": {
     "duration": 0.008119,
     "end_time": "2022-09-19T14:27:46.644163",
     "exception": false,
     "start_time": "2022-09-19T14:27:46.636044",
     "status": "completed"
    },
    "tags": []
   },
   "source": [
    "The questions below will give you feedback on your work. Run the following cell to set up our feedback system."
   ]
  },
  {
   "cell_type": "code",
   "execution_count": 2,
   "id": "c0becae2",
   "metadata": {
    "execution": {
     "iopub.execute_input": "2022-09-19T14:27:46.663028Z",
     "iopub.status.busy": "2022-09-19T14:27:46.661978Z",
     "iopub.status.idle": "2022-09-19T14:27:46.724723Z",
     "shell.execute_reply": "2022-09-19T14:27:46.723564Z"
    },
    "papermill": {
     "duration": 0.074497,
     "end_time": "2022-09-19T14:27:46.727015",
     "exception": false,
     "start_time": "2022-09-19T14:27:46.652518",
     "status": "completed"
    },
    "tags": []
   },
   "outputs": [
    {
     "name": "stdout",
     "output_type": "stream",
     "text": [
      "Setup Complete\n"
     ]
    }
   ],
   "source": [
    "# Set up code checking\n",
    "import os\n",
    "if not os.path.exists(\"../input/candy.csv\"):\n",
    "    os.symlink(\"../input/data-for-datavis/candy.csv\", \"../input/candy.csv\") \n",
    "from learntools.core import binder\n",
    "binder.bind(globals())\n",
    "from learntools.data_viz_to_coder.ex4 import *\n",
    "print(\"Setup Complete\")"
   ]
  },
  {
   "cell_type": "markdown",
   "id": "256c0d77",
   "metadata": {
    "papermill": {
     "duration": 0.007944,
     "end_time": "2022-09-19T14:27:46.744793",
     "exception": false,
     "start_time": "2022-09-19T14:27:46.736849",
     "status": "completed"
    },
    "tags": []
   },
   "source": [
    "## Step 1: Load the Data\n",
    "\n",
    "Read the candy data file into `candy_data`.  Use the `\"id\"` column to label the rows."
   ]
  },
  {
   "cell_type": "code",
   "execution_count": 3,
   "id": "2c2d6032",
   "metadata": {
    "execution": {
     "iopub.execute_input": "2022-09-19T14:27:46.763619Z",
     "iopub.status.busy": "2022-09-19T14:27:46.762711Z",
     "iopub.status.idle": "2022-09-19T14:27:46.779364Z",
     "shell.execute_reply": "2022-09-19T14:27:46.778372Z"
    },
    "papermill": {
     "duration": 0.028208,
     "end_time": "2022-09-19T14:27:46.781374",
     "exception": false,
     "start_time": "2022-09-19T14:27:46.753166",
     "status": "completed"
    },
    "tags": []
   },
   "outputs": [
    {
     "data": {
      "application/javascript": [
       "parent.postMessage({\"jupyterEvent\": \"custom.exercise_interaction\", \"data\": {\"outcomeType\": 1, \"valueTowardsCompletion\": 0.3333333333333333, \"interactionType\": 1, \"questionType\": 1, \"questionId\": \"1_LoadData\", \"learnToolsVersion\": \"0.3.4\", \"failureMessage\": \"\", \"exceptionClass\": \"\", \"trace\": \"\"}}, \"*\")"
      ],
      "text/plain": [
       "<IPython.core.display.Javascript object>"
      ]
     },
     "metadata": {},
     "output_type": "display_data"
    },
    {
     "data": {
      "text/markdown": [
       "<span style=\"color:#33cc33\">Correct</span>"
      ],
      "text/plain": [
       "Correct"
      ]
     },
     "metadata": {},
     "output_type": "display_data"
    }
   ],
   "source": [
    "# Path of the file to read\n",
    "candy_filepath = \"../input/candy.csv\"\n",
    "\n",
    "# Fill in the line below to read the file into a variable candy_data\n",
    "candy_data = pd.read_csv(candy_filepath, index_col=\"id\")\n",
    "\n",
    "# Run the line below with no changes to check that you've loaded the data correctly\n",
    "step_1.check()"
   ]
  },
  {
   "cell_type": "raw",
   "id": "b1c2207c",
   "metadata": {
    "papermill": {
     "duration": 0.008109,
     "end_time": "2022-09-19T14:27:46.797973",
     "exception": false,
     "start_time": "2022-09-19T14:27:46.789864",
     "status": "completed"
    },
    "tags": []
   },
   "source": [
    "# Path of the file to read\n",
    "candy_filepath = \"../input/candy.csv\"\n",
    "\n",
    "# Fill in the line below to read the file into a variable candy_data\n",
    "candy_data = pd.read_csv(candy_filepath)\n",
    "\n",
    "# Run the line below with no changes to check that you've loaded the data correctly\n",
    "step_1.check()"
   ]
  },
  {
   "cell_type": "code",
   "execution_count": 4,
   "id": "39cc1437",
   "metadata": {
    "execution": {
     "iopub.execute_input": "2022-09-19T14:27:46.816545Z",
     "iopub.status.busy": "2022-09-19T14:27:46.815888Z",
     "iopub.status.idle": "2022-09-19T14:27:46.821368Z",
     "shell.execute_reply": "2022-09-19T14:27:46.820348Z"
    },
    "papermill": {
     "duration": 0.016933,
     "end_time": "2022-09-19T14:27:46.823343",
     "exception": false,
     "start_time": "2022-09-19T14:27:46.806410",
     "status": "completed"
    },
    "tags": []
   },
   "outputs": [],
   "source": [
    "# Lines below will give you a hint or solution code\n",
    "#step_1.hint()\n",
    "#step_1.solution()"
   ]
  },
  {
   "cell_type": "markdown",
   "id": "a9cae4f0",
   "metadata": {
    "papermill": {
     "duration": 0.008165,
     "end_time": "2022-09-19T14:27:46.840112",
     "exception": false,
     "start_time": "2022-09-19T14:27:46.831947",
     "status": "completed"
    },
    "tags": []
   },
   "source": [
    "## Step 2: Review the data\n",
    "\n",
    "Use a Python command to print the first five rows of the data."
   ]
  },
  {
   "cell_type": "code",
   "execution_count": 5,
   "id": "585baf8e",
   "metadata": {
    "execution": {
     "iopub.execute_input": "2022-09-19T14:27:46.859149Z",
     "iopub.status.busy": "2022-09-19T14:27:46.858739Z",
     "iopub.status.idle": "2022-09-19T14:27:46.881510Z",
     "shell.execute_reply": "2022-09-19T14:27:46.880390Z"
    },
    "papermill": {
     "duration": 0.035058,
     "end_time": "2022-09-19T14:27:46.883746",
     "exception": false,
     "start_time": "2022-09-19T14:27:46.848688",
     "status": "completed"
    },
    "tags": []
   },
   "outputs": [
    {
     "data": {
      "text/html": [
       "<div>\n",
       "<style scoped>\n",
       "    .dataframe tbody tr th:only-of-type {\n",
       "        vertical-align: middle;\n",
       "    }\n",
       "\n",
       "    .dataframe tbody tr th {\n",
       "        vertical-align: top;\n",
       "    }\n",
       "\n",
       "    .dataframe thead th {\n",
       "        text-align: right;\n",
       "    }\n",
       "</style>\n",
       "<table border=\"1\" class=\"dataframe\">\n",
       "  <thead>\n",
       "    <tr style=\"text-align: right;\">\n",
       "      <th></th>\n",
       "      <th>competitorname</th>\n",
       "      <th>chocolate</th>\n",
       "      <th>fruity</th>\n",
       "      <th>caramel</th>\n",
       "      <th>peanutyalmondy</th>\n",
       "      <th>nougat</th>\n",
       "      <th>crispedricewafer</th>\n",
       "      <th>hard</th>\n",
       "      <th>bar</th>\n",
       "      <th>pluribus</th>\n",
       "      <th>sugarpercent</th>\n",
       "      <th>pricepercent</th>\n",
       "      <th>winpercent</th>\n",
       "    </tr>\n",
       "    <tr>\n",
       "      <th>id</th>\n",
       "      <th></th>\n",
       "      <th></th>\n",
       "      <th></th>\n",
       "      <th></th>\n",
       "      <th></th>\n",
       "      <th></th>\n",
       "      <th></th>\n",
       "      <th></th>\n",
       "      <th></th>\n",
       "      <th></th>\n",
       "      <th></th>\n",
       "      <th></th>\n",
       "      <th></th>\n",
       "    </tr>\n",
       "  </thead>\n",
       "  <tbody>\n",
       "    <tr>\n",
       "      <th>0</th>\n",
       "      <td>100 Grand</td>\n",
       "      <td>Yes</td>\n",
       "      <td>No</td>\n",
       "      <td>Yes</td>\n",
       "      <td>No</td>\n",
       "      <td>No</td>\n",
       "      <td>Yes</td>\n",
       "      <td>No</td>\n",
       "      <td>Yes</td>\n",
       "      <td>No</td>\n",
       "      <td>0.732</td>\n",
       "      <td>0.860</td>\n",
       "      <td>66.971725</td>\n",
       "    </tr>\n",
       "    <tr>\n",
       "      <th>1</th>\n",
       "      <td>3 Musketeers</td>\n",
       "      <td>Yes</td>\n",
       "      <td>No</td>\n",
       "      <td>No</td>\n",
       "      <td>No</td>\n",
       "      <td>Yes</td>\n",
       "      <td>No</td>\n",
       "      <td>No</td>\n",
       "      <td>Yes</td>\n",
       "      <td>No</td>\n",
       "      <td>0.604</td>\n",
       "      <td>0.511</td>\n",
       "      <td>67.602936</td>\n",
       "    </tr>\n",
       "    <tr>\n",
       "      <th>2</th>\n",
       "      <td>Air Heads</td>\n",
       "      <td>No</td>\n",
       "      <td>Yes</td>\n",
       "      <td>No</td>\n",
       "      <td>No</td>\n",
       "      <td>No</td>\n",
       "      <td>No</td>\n",
       "      <td>No</td>\n",
       "      <td>No</td>\n",
       "      <td>No</td>\n",
       "      <td>0.906</td>\n",
       "      <td>0.511</td>\n",
       "      <td>52.341465</td>\n",
       "    </tr>\n",
       "    <tr>\n",
       "      <th>3</th>\n",
       "      <td>Almond Joy</td>\n",
       "      <td>Yes</td>\n",
       "      <td>No</td>\n",
       "      <td>No</td>\n",
       "      <td>Yes</td>\n",
       "      <td>No</td>\n",
       "      <td>No</td>\n",
       "      <td>No</td>\n",
       "      <td>Yes</td>\n",
       "      <td>No</td>\n",
       "      <td>0.465</td>\n",
       "      <td>0.767</td>\n",
       "      <td>50.347546</td>\n",
       "    </tr>\n",
       "    <tr>\n",
       "      <th>4</th>\n",
       "      <td>Baby Ruth</td>\n",
       "      <td>Yes</td>\n",
       "      <td>No</td>\n",
       "      <td>Yes</td>\n",
       "      <td>Yes</td>\n",
       "      <td>Yes</td>\n",
       "      <td>No</td>\n",
       "      <td>No</td>\n",
       "      <td>Yes</td>\n",
       "      <td>No</td>\n",
       "      <td>0.604</td>\n",
       "      <td>0.767</td>\n",
       "      <td>56.914547</td>\n",
       "    </tr>\n",
       "  </tbody>\n",
       "</table>\n",
       "</div>"
      ],
      "text/plain": [
       "   competitorname chocolate fruity caramel peanutyalmondy nougat  \\\n",
       "id                                                                 \n",
       "0       100 Grand       Yes     No     Yes             No     No   \n",
       "1    3 Musketeers       Yes     No      No             No    Yes   \n",
       "2       Air Heads        No    Yes      No             No     No   \n",
       "3      Almond Joy       Yes     No      No            Yes     No   \n",
       "4       Baby Ruth       Yes     No     Yes            Yes    Yes   \n",
       "\n",
       "   crispedricewafer hard  bar pluribus  sugarpercent  pricepercent  winpercent  \n",
       "id                                                                              \n",
       "0               Yes   No  Yes       No         0.732         0.860   66.971725  \n",
       "1                No   No  Yes       No         0.604         0.511   67.602936  \n",
       "2                No   No   No       No         0.906         0.511   52.341465  \n",
       "3                No   No  Yes       No         0.465         0.767   50.347546  \n",
       "4                No   No  Yes       No         0.604         0.767   56.914547  "
      ]
     },
     "execution_count": 5,
     "metadata": {},
     "output_type": "execute_result"
    }
   ],
   "source": [
    "# Print the first five rows of the data\n",
    "candy_data.head() # Your code here"
   ]
  },
  {
   "cell_type": "markdown",
   "id": "6cd4c236",
   "metadata": {
    "papermill": {
     "duration": 0.008622,
     "end_time": "2022-09-19T14:27:46.901544",
     "exception": false,
     "start_time": "2022-09-19T14:27:46.892922",
     "status": "completed"
    },
    "tags": []
   },
   "source": [
    "The dataset contains 83 rows, where each corresponds to a different candy bar.  There are 13 columns:\n",
    "- `'competitorname'` contains the name of the candy bar. \n",
    "- the next **9** columns (from `'chocolate'` to `'pluribus'`) describe the candy.  For instance, rows with chocolate candies have `\"Yes\"` in the `'chocolate'` column (and candies without chocolate have `\"No\"` in the same column).\n",
    "- `'sugarpercent'` provides some indication of the amount of sugar, where higher values signify higher sugar content.\n",
    "- `'pricepercent'` shows the price per unit, relative to the other candies in the dataset.\n",
    "- `'winpercent'` is calculated from the survey results; higher values indicate that the candy was more popular with survey respondents.\n",
    "\n",
    "Use the first five rows of the data to answer the questions below."
   ]
  },
  {
   "cell_type": "code",
   "execution_count": 6,
   "id": "5a09981c",
   "metadata": {
    "execution": {
     "iopub.execute_input": "2022-09-19T14:27:46.921603Z",
     "iopub.status.busy": "2022-09-19T14:27:46.920681Z",
     "iopub.status.idle": "2022-09-19T14:27:46.930080Z",
     "shell.execute_reply": "2022-09-19T14:27:46.929334Z"
    },
    "papermill": {
     "duration": 0.02146,
     "end_time": "2022-09-19T14:27:46.932015",
     "exception": false,
     "start_time": "2022-09-19T14:27:46.910555",
     "status": "completed"
    },
    "tags": []
   },
   "outputs": [
    {
     "data": {
      "application/javascript": [
       "parent.postMessage({\"jupyterEvent\": \"custom.exercise_interaction\", \"data\": {\"outcomeType\": 1, \"valueTowardsCompletion\": 0.3333333333333333, \"interactionType\": 1, \"questionType\": 1, \"questionId\": \"2_ReviewData\", \"learnToolsVersion\": \"0.3.4\", \"failureMessage\": \"\", \"exceptionClass\": \"\", \"trace\": \"\"}}, \"*\")"
      ],
      "text/plain": [
       "<IPython.core.display.Javascript object>"
      ]
     },
     "metadata": {},
     "output_type": "display_data"
    },
    {
     "data": {
      "text/markdown": [
       "<span style=\"color:#33cc33\">Correct</span>"
      ],
      "text/plain": [
       "Correct"
      ]
     },
     "metadata": {},
     "output_type": "display_data"
    }
   ],
   "source": [
    "# Fill in the line below: Which candy was more popular with survey respondents:\n",
    "# '3 Musketeers' or 'Almond Joy'?  (Please enclose your answer in single quotes.)\n",
    "more_popular = '3 Musketeers'\n",
    "\n",
    "# Fill in the line below: Which candy has higher sugar content: 'Air Heads'\n",
    "# or 'Baby Ruth'? (Please enclose your answer in single quotes.)\n",
    "more_sugar = 'Air Heads'\n",
    "\n",
    "# Check your answers\n",
    "step_2.check()"
   ]
  },
  {
   "cell_type": "code",
   "execution_count": 7,
   "id": "f96ee4f9",
   "metadata": {
    "execution": {
     "iopub.execute_input": "2022-09-19T14:27:46.952047Z",
     "iopub.status.busy": "2022-09-19T14:27:46.951659Z",
     "iopub.status.idle": "2022-09-19T14:27:46.956346Z",
     "shell.execute_reply": "2022-09-19T14:27:46.955334Z"
    },
    "papermill": {
     "duration": 0.017377,
     "end_time": "2022-09-19T14:27:46.958536",
     "exception": false,
     "start_time": "2022-09-19T14:27:46.941159",
     "status": "completed"
    },
    "tags": []
   },
   "outputs": [],
   "source": [
    "# Lines below will give you a hint or solution code\n",
    "#step_2.hint()\n",
    "#step_2.solution()"
   ]
  },
  {
   "cell_type": "markdown",
   "id": "f13f22b2",
   "metadata": {
    "papermill": {
     "duration": 0.008872,
     "end_time": "2022-09-19T14:27:46.976699",
     "exception": false,
     "start_time": "2022-09-19T14:27:46.967827",
     "status": "completed"
    },
    "tags": []
   },
   "source": [
    "## Step 3: The role of sugar\n",
    "\n",
    "Do people tend to prefer candies with higher sugar content?  \n",
    "\n",
    "#### Part A\n",
    "\n",
    "Create a scatter plot that shows the relationship between `'sugarpercent'` (on the horizontal x-axis) and `'winpercent'` (on the vertical y-axis).  _Don't add a regression line just yet -- you'll do that in the next step!_"
   ]
  },
  {
   "cell_type": "code",
   "execution_count": 8,
   "id": "4ef820c2",
   "metadata": {
    "execution": {
     "iopub.execute_input": "2022-09-19T14:27:46.997079Z",
     "iopub.status.busy": "2022-09-19T14:27:46.996681Z",
     "iopub.status.idle": "2022-09-19T14:27:47.274328Z",
     "shell.execute_reply": "2022-09-19T14:27:47.273286Z"
    },
    "papermill": {
     "duration": 0.291026,
     "end_time": "2022-09-19T14:27:47.276909",
     "exception": false,
     "start_time": "2022-09-19T14:27:46.985883",
     "status": "completed"
    },
    "tags": []
   },
   "outputs": [
    {
     "data": {
      "application/javascript": [
       "parent.postMessage({\"jupyterEvent\": \"custom.exercise_interaction\", \"data\": {\"outcomeType\": 1, \"valueTowardsCompletion\": 0.3333333333333333, \"interactionType\": 1, \"questionType\": 2, \"questionId\": \"3.1_PlotBlueScatter\", \"learnToolsVersion\": \"0.3.4\", \"failureMessage\": \"\", \"exceptionClass\": \"\", \"trace\": \"\"}}, \"*\")"
      ],
      "text/plain": [
       "<IPython.core.display.Javascript object>"
      ]
     },
     "metadata": {},
     "output_type": "display_data"
    },
    {
     "data": {
      "text/markdown": [
       "<span style=\"color:#33cc33\">Correct</span>"
      ],
      "text/plain": [
       "Correct"
      ]
     },
     "metadata": {},
     "output_type": "display_data"
    },
    {
     "data": {
      "image/png": "[encoded data removed]",
      "text/plain": [
       "<Figure size 432x288 with 1 Axes>"
      ]
     },
     "metadata": {
      "needs_background": "light"
     },
     "output_type": "display_data"
    }
   ],
   "source": [
    "# Scatter plot showing the relationship between 'sugarpercent' and 'winpercent'\n",
    "sns.scatterplot(x=candy_data['sugarpercent'], y=candy_data['winpercent']) # Your code here\n",
    "\n",
    "# Check your answer\n",
    "step_3.a.check()"
   ]
  },
  {
   "cell_type": "code",
   "execution_count": 9,
   "id": "acbf1674",
   "metadata": {
    "execution": {
     "iopub.execute_input": "2022-09-19T14:27:47.298378Z",
     "iopub.status.busy": "2022-09-19T14:27:47.297974Z",
     "iopub.status.idle": "2022-09-19T14:27:47.302376Z",
     "shell.execute_reply": "2022-09-19T14:27:47.301283Z"
    },
    "papermill": {
     "duration": 0.017567,
     "end_time": "2022-09-19T14:27:47.304491",
     "exception": false,
     "start_time": "2022-09-19T14:27:47.286924",
     "status": "completed"
    },
    "tags": []
   },
   "outputs": [],
   "source": [
    "# Lines below will give you a hint or solution code\n",
    "#step_3.a.hint()\n",
    "#step_3.a.solution_plot()"
   ]
  },
  {
   "cell_type": "markdown",
   "id": "7bb85d1d",
   "metadata": {
    "papermill": {
     "duration": 0.009664,
     "end_time": "2022-09-19T14:27:47.324598",
     "exception": false,
     "start_time": "2022-09-19T14:27:47.314934",
     "status": "completed"
    },
    "tags": []
   },
   "source": [
    "#### Part B\n",
    "\n",
    "Does the scatter plot show a **strong** correlation between the two variables?  If so, are candies with more sugar relatively more or less popular with the survey respondents?"
   ]
  },
  {
   "cell_type": "code",
   "execution_count": 10,
   "id": "44fadc7a",
   "metadata": {
    "execution": {
     "iopub.execute_input": "2022-09-19T14:27:47.346280Z",
     "iopub.status.busy": "2022-09-19T14:27:47.345288Z",
     "iopub.status.idle": "2022-09-19T14:27:47.350029Z",
     "shell.execute_reply": "2022-09-19T14:27:47.349283Z"
    },
    "papermill": {
     "duration": 0.017929,
     "end_time": "2022-09-19T14:27:47.352364",
     "exception": false,
     "start_time": "2022-09-19T14:27:47.334435",
     "status": "completed"
    },
    "tags": []
   },
   "outputs": [],
   "source": [
    "#step_3.b.hint()"
   ]
  },
  {
   "cell_type": "code",
   "execution_count": 11,
   "id": "2394bc23",
   "metadata": {
    "execution": {
     "iopub.execute_input": "2022-09-19T14:27:47.374726Z",
     "iopub.status.busy": "2022-09-19T14:27:47.374117Z",
     "iopub.status.idle": "2022-09-19T14:27:47.381127Z",
     "shell.execute_reply": "2022-09-19T14:27:47.380266Z"
    },
    "papermill": {
     "duration": 0.020775,
     "end_time": "2022-09-19T14:27:47.383418",
     "exception": false,
     "start_time": "2022-09-19T14:27:47.362643",
     "status": "completed"
    },
    "tags": []
   },
   "outputs": [
    {
     "data": {
      "application/javascript": [
       "parent.postMessage({\"jupyterEvent\": \"custom.exercise_interaction\", \"data\": {\"interactionType\": 3, \"questionType\": 4, \"questionId\": \"3.2_ThinkBlueScatter\", \"learnToolsVersion\": \"0.3.4\", \"valueTowardsCompletion\": 0.0, \"failureMessage\": \"\", \"exceptionClass\": \"\", \"trace\": \"\", \"outcomeType\": 4}}, \"*\")"
      ],
      "text/plain": [
       "<IPython.core.display.Javascript object>"
      ]
     },
     "metadata": {},
     "output_type": "display_data"
    },
    {
     "data": {
      "text/markdown": [
       "<span style=\"color:#33cc99\">Solution:</span> The scatter plot does not show a strong correlation between the two variables. Since there is no clear relationship between the two variables, this tells us that sugar content does not play a strong role in candy popularity."
      ],
      "text/plain": [
       "Solution: The scatter plot does not show a strong correlation between the two variables. Since there is no clear relationship between the two variables, this tells us that sugar content does not play a strong role in candy popularity."
      ]
     },
     "metadata": {},
     "output_type": "display_data"
    }
   ],
   "source": [
    "# Check your answer (Run this code cell to receive credit!)\n",
    "step_3.b.solution()"
   ]
  },
  {
   "cell_type": "markdown",
   "id": "0a3911f8",
   "metadata": {
    "papermill": {
     "duration": 0.010997,
     "end_time": "2022-09-19T14:27:47.404706",
     "exception": false,
     "start_time": "2022-09-19T14:27:47.393709",
     "status": "completed"
    },
    "tags": []
   },
   "source": [
    "## Step 4: Take a closer look\n",
    "\n",
    "#### Part A\n",
    "\n",
    "Create the same scatter plot you created in **Step 3**, but now with a regression line!"
   ]
  },
  {
   "cell_type": "code",
   "execution_count": 12,
   "id": "c8ff7763",
   "metadata": {
    "execution": {
     "iopub.execute_input": "2022-09-19T14:27:47.431878Z",
     "iopub.status.busy": "2022-09-19T14:27:47.431099Z",
     "iopub.status.idle": "2022-09-19T14:27:47.764189Z",
     "shell.execute_reply": "2022-09-19T14:27:47.763344Z"
    },
    "papermill": {
     "duration": 0.347769,
     "end_time": "2022-09-19T14:27:47.766483",
     "exception": false,
     "start_time": "2022-09-19T14:27:47.418714",
     "status": "completed"
    },
    "tags": []
   },
   "outputs": [
    {
     "data": {
      "application/javascript": [
       "parent.postMessage({\"jupyterEvent\": \"custom.exercise_interaction\", \"data\": {\"outcomeType\": 1, \"valueTowardsCompletion\": 0.3333333333333333, \"interactionType\": 1, \"questionType\": 2, \"questionId\": \"4.1_PlotBlueReg\", \"learnToolsVersion\": \"0.3.4\", \"failureMessage\": \"\", \"exceptionClass\": \"\", \"trace\": \"\"}}, \"*\")"
      ],
      "text/plain": [
       "<IPython.core.display.Javascript object>"
      ]
     },
     "metadata": {},
     "output_type": "display_data"
    },
    {
     "data": {
      "text/markdown": [
       "<span style=\"color:#33cc33\">Correct</span>"
      ],
      "text/plain": [
       "Correct"
      ]
     },
     "metadata": {},
     "output_type": "display_data"
    },
    {
     "data": {
      "image/png": "[encoded data removed]",
      "text/plain": [
       "<Figure size 432x288 with 1 Axes>"
      ]
     },
     "metadata": {
      "needs_background": "light"
     },
     "output_type": "display_data"
    }
   ],
   "source": [
    "# Scatter plot w/ regression line showing the relationship between 'sugarpercent' and 'winpercent'\n",
    "sns.regplot(x=candy_data['sugarpercent'], y=candy_data['winpercent']) # Your code here\n",
    "\n",
    "# Check your answer\n",
    "step_4.a.check()"
   ]
  },
  {
   "cell_type": "code",
   "execution_count": 13,
   "id": "14a2eeae",
   "metadata": {
    "execution": {
     "iopub.execute_input": "2022-09-19T14:27:47.790332Z",
     "iopub.status.busy": "2022-09-19T14:27:47.789280Z",
     "iopub.status.idle": "2022-09-19T14:27:47.793962Z",
     "shell.execute_reply": "2022-09-19T14:27:47.793195Z"
    },
    "papermill": {
     "duration": 0.018476,
     "end_time": "2022-09-19T14:27:47.795987",
     "exception": false,
     "start_time": "2022-09-19T14:27:47.777511",
     "status": "completed"
    },
    "tags": []
   },
   "outputs": [],
   "source": [
    "# Lines below will give you a hint or solution code\n",
    "#step_4.a.hint()\n",
    "#step_4.a.solution_plot()"
   ]
  },
  {
   "cell_type": "markdown",
   "id": "ac8338cd",
   "metadata": {
    "papermill": {
     "duration": 0.011859,
     "end_time": "2022-09-19T14:27:47.818958",
     "exception": false,
     "start_time": "2022-09-19T14:27:47.807099",
     "status": "completed"
    },
    "tags": []
   },
   "source": [
    "#### Part B\n",
    "\n",
    "According to the plot above, is there a **slight** correlation between `'winpercent'` and `'sugarpercent'`?  What does this tell you about the candy that people tend to prefer?"
   ]
  },
  {
   "cell_type": "code",
   "execution_count": 14,
   "id": "bc34ce9c",
   "metadata": {
    "execution": {
     "iopub.execute_input": "2022-09-19T14:27:47.848972Z",
     "iopub.status.busy": "2022-09-19T14:27:47.847793Z",
     "iopub.status.idle": "2022-09-19T14:27:47.854101Z",
     "shell.execute_reply": "2022-09-19T14:27:47.853223Z"
    },
    "papermill": {
     "duration": 0.022006,
     "end_time": "2022-09-19T14:27:47.856696",
     "exception": false,
     "start_time": "2022-09-19T14:27:47.834690",
     "status": "completed"
    },
    "tags": []
   },
   "outputs": [],
   "source": [
    "#step_4.b.hint()"
   ]
  },
  {
   "cell_type": "code",
   "execution_count": 15,
   "id": "18ea1b16",
   "metadata": {
    "execution": {
     "iopub.execute_input": "2022-09-19T14:27:47.881237Z",
     "iopub.status.busy": "2022-09-19T14:27:47.880740Z",
     "iopub.status.idle": "2022-09-19T14:27:47.891067Z",
     "shell.execute_reply": "2022-09-19T14:27:47.889222Z"
    },
    "papermill": {
     "duration": 0.025296,
     "end_time": "2022-09-19T14:27:47.893275",
     "exception": false,
     "start_time": "2022-09-19T14:27:47.867979",
     "status": "completed"
    },
    "tags": []
   },
   "outputs": [
    {
     "data": {
      "application/javascript": [
       "parent.postMessage({\"jupyterEvent\": \"custom.exercise_interaction\", \"data\": {\"interactionType\": 3, \"questionType\": 4, \"questionId\": \"4.2_ThinkBlueReg\", \"learnToolsVersion\": \"0.3.4\", \"valueTowardsCompletion\": 0.0, \"failureMessage\": \"\", \"exceptionClass\": \"\", \"trace\": \"\", \"outcomeType\": 4}}, \"*\")"
      ],
      "text/plain": [
       "<IPython.core.display.Javascript object>"
      ]
     },
     "metadata": {},
     "output_type": "display_data"
    },
    {
     "data": {
      "text/markdown": [
       "<span style=\"color:#33cc99\">Solution:</span> Since the regression line has a slightly positive slope, this tells us that there is a slightly positive correlation between `'winpercent'` and `'sugarpercent'`. Thus, people have a slight preference for candies containing relatively more sugar."
      ],
      "text/plain": [
       "Solution: Since the regression line has a slightly positive slope, this tells us that there is a slightly positive correlation between `'winpercent'` and `'sugarpercent'`. Thus, people have a slight preference for candies containing relatively more sugar."
      ]
     },
     "metadata": {},
     "output_type": "display_data"
    }
   ],
   "source": [
    "# Check your answer (Run this code cell to receive credit!)\n",
    "step_4.b.solution()"
   ]
  },
  {
   "cell_type": "markdown",
   "id": "af859221",
   "metadata": {
    "papermill": {
     "duration": 0.011417,
     "end_time": "2022-09-19T14:27:47.916407",
     "exception": false,
     "start_time": "2022-09-19T14:27:47.904990",
     "status": "completed"
    },
    "tags": []
   },
   "source": [
    "## Step 5: Chocolate!\n",
    "\n",
    "In the code cell below, create a scatter plot to show the relationship between `'pricepercent'` (on the horizontal x-axis) and `'winpercent'` (on the vertical y-axis). Use the `'chocolate'` column to color-code the points.  _Don't add any regression lines just yet -- you'll do that in the next step!_"
   ]
  },
  {
   "cell_type": "code",
   "execution_count": 16,
   "id": "f91469d8",
   "metadata": {
    "execution": {
     "iopub.execute_input": "2022-09-19T14:27:47.944086Z",
     "iopub.status.busy": "2022-09-19T14:27:47.943142Z",
     "iopub.status.idle": "2022-09-19T14:27:48.252928Z",
     "shell.execute_reply": "2022-09-19T14:27:48.252143Z"
    },
    "papermill": {
     "duration": 0.326317,
     "end_time": "2022-09-19T14:27:48.255156",
     "exception": false,
     "start_time": "2022-09-19T14:27:47.928839",
     "status": "completed"
    },
    "tags": []
   },
   "outputs": [
    {
     "data": {
      "application/javascript": [
       "parent.postMessage({\"jupyterEvent\": \"custom.exercise_interaction\", \"data\": {\"outcomeType\": 1, \"valueTowardsCompletion\": 0.3333333333333333, \"interactionType\": 1, \"questionType\": 2, \"questionId\": \"5_ColorScatter\", \"learnToolsVersion\": \"0.3.4\", \"failureMessage\": \"\", \"exceptionClass\": \"\", \"trace\": \"\"}}, \"*\")"
      ],
      "text/plain": [
       "<IPython.core.display.Javascript object>"
      ]
     },
     "metadata": {},
     "output_type": "display_data"
    },
    {
     "data": {
      "text/markdown": [
       "<span style=\"color:#33cc33\">Correct</span>"
      ],
      "text/plain": [
       "Correct"
      ]
     },
     "metadata": {},
     "output_type": "display_data"
    },
    {
     "data": {
      "image/png": "[encoded data removed]",
      "text/plain": [
       "<Figure size 432x288 with 1 Axes>"
      ]
     },
     "metadata": {
      "needs_background": "light"
     },
     "output_type": "display_data"
    }
   ],
   "source": [
    "# Scatter plot showing the relationship between 'pricepercent', 'winpercent', and 'chocolate'\n",
    "sns.scatterplot(x=candy_data['sugarpercent'], y=candy_data['winpercent'], hue=candy_data['chocolate']) # Your code here\n",
    "\n",
    "# Check your answer\n",
    "step_5.check()"
   ]
  },
  {
   "cell_type": "code",
   "execution_count": 17,
   "id": "84b36176",
   "metadata": {
    "execution": {
     "iopub.execute_input": "2022-09-19T14:27:48.281319Z",
     "iopub.status.busy": "2022-09-19T14:27:48.280905Z",
     "iopub.status.idle": "2022-09-19T14:27:48.285175Z",
     "shell.execute_reply": "2022-09-19T14:27:48.284149Z"
    },
    "papermill": {
     "duration": 0.020083,
     "end_time": "2022-09-19T14:27:48.287504",
     "exception": false,
     "start_time": "2022-09-19T14:27:48.267421",
     "status": "completed"
    },
    "tags": []
   },
   "outputs": [],
   "source": [
    "# Lines below will give you a hint or solution code\n",
    "#step_5.hint()\n",
    "#step_5.solution_plot()"
   ]
  },
  {
   "cell_type": "markdown",
   "id": "f509ef10",
   "metadata": {
    "papermill": {
     "duration": 0.015676,
     "end_time": "2022-09-19T14:27:48.317580",
     "exception": false,
     "start_time": "2022-09-19T14:27:48.301904",
     "status": "completed"
    },
    "tags": []
   },
   "source": [
    "Can you see any interesting patterns in the scatter plot?  We'll investigate this plot further  by adding regression lines in the next step!\n",
    "\n",
    "## Step 6: Investigate chocolate\n",
    "\n",
    "#### Part A\n",
    "\n",
    "Create the same scatter plot you created in **Step 5**, but now with two regression lines, corresponding to (1) chocolate candies and (2) candies without chocolate."
   ]
  },
  {
   "cell_type": "code",
   "execution_count": 18,
   "id": "ffae3bc3",
   "metadata": {
    "execution": {
     "iopub.execute_input": "2022-09-19T14:27:48.345572Z",
     "iopub.status.busy": "2022-09-19T14:27:48.345053Z",
     "iopub.status.idle": "2022-09-19T14:27:49.015377Z",
     "shell.execute_reply": "2022-09-19T14:27:49.014067Z"
    },
    "papermill": {
     "duration": 0.687619,
     "end_time": "2022-09-19T14:27:49.018078",
     "exception": false,
     "start_time": "2022-09-19T14:27:48.330459",
     "status": "completed"
    },
    "tags": []
   },
   "outputs": [
    {
     "data": {
      "application/javascript": [
       "parent.postMessage({\"jupyterEvent\": \"custom.exercise_interaction\", \"data\": {\"outcomeType\": 1, \"valueTowardsCompletion\": 0.3333333333333333, \"interactionType\": 1, \"questionType\": 2, \"questionId\": \"6.1_PlotColorReg\", \"learnToolsVersion\": \"0.3.4\", \"failureMessage\": \"\", \"exceptionClass\": \"\", \"trace\": \"\"}}, \"*\")"
      ],
      "text/plain": [
       "<IPython.core.display.Javascript object>"
      ]
     },
     "metadata": {},
     "output_type": "display_data"
    },
    {
     "data": {
      "text/markdown": [
       "<span style=\"color:#33cc33\">Correct</span>"
      ],
      "text/plain": [
       "Correct"
      ]
     },
     "metadata": {},
     "output_type": "display_data"
    },
    {
     "data": {
      "image/png": "[encoded data removed]",
      "text/plain": [
       "<Figure size 416.375x360 with 1 Axes>"
      ]
     },
     "metadata": {
      "needs_background": "light"
     },
     "output_type": "display_data"
    }
   ],
   "source": [
    "# Color-coded scatter plot w/ regression lines\n",
    " # Your code here\n",
    "sns.lmplot(x='sugarpercent', y='winpercent', hue='chocolate', data=candy_data)\n",
    "\n",
    "# Check your answer\n",
    "step_6.a.check()"
   ]
  },
  {
   "cell_type": "code",
   "execution_count": 19,
   "id": "cfc44d68",
   "metadata": {
    "execution": {
     "iopub.execute_input": "2022-09-19T14:27:49.045238Z",
     "iopub.status.busy": "2022-09-19T14:27:49.044158Z",
     "iopub.status.idle": "2022-09-19T14:27:49.049069Z",
     "shell.execute_reply": "2022-09-19T14:27:49.048000Z"
    },
    "papermill": {
     "duration": 0.020601,
     "end_time": "2022-09-19T14:27:49.051202",
     "exception": false,
     "start_time": "2022-09-19T14:27:49.030601",
     "status": "completed"
    },
    "tags": []
   },
   "outputs": [],
   "source": [
    "# Lines below will give you a hint or solution code\n",
    "#step_6.a.hint()\n",
    "#step_6.a.solution_plot()"
   ]
  },
  {
   "cell_type": "markdown",
   "id": "a1fed2d8",
   "metadata": {
    "papermill": {
     "duration": 0.011774,
     "end_time": "2022-09-19T14:27:49.075193",
     "exception": false,
     "start_time": "2022-09-19T14:27:49.063419",
     "status": "completed"
    },
    "tags": []
   },
   "source": [
    "#### Part B\n",
    "\n",
    "Using the regression lines, what conclusions can you draw about the effects of chocolate and price on candy popularity?"
   ]
  },
  {
   "cell_type": "code",
   "execution_count": 20,
   "id": "b9751e75",
   "metadata": {
    "execution": {
     "iopub.execute_input": "2022-09-19T14:27:49.101385Z",
     "iopub.status.busy": "2022-09-19T14:27:49.100961Z",
     "iopub.status.idle": "2022-09-19T14:27:49.105918Z",
     "shell.execute_reply": "2022-09-19T14:27:49.105017Z"
    },
    "papermill": {
     "duration": 0.020589,
     "end_time": "2022-09-19T14:27:49.108101",
     "exception": false,
     "start_time": "2022-09-19T14:27:49.087512",
     "status": "completed"
    },
    "tags": []
   },
   "outputs": [],
   "source": [
    "#step_6.b.hint()"
   ]
  },
  {
   "cell_type": "code",
   "execution_count": 21,
   "id": "0408ab9a",
   "metadata": {
    "execution": {
     "iopub.execute_input": "2022-09-19T14:27:49.135999Z",
     "iopub.status.busy": "2022-09-19T14:27:49.135345Z",
     "iopub.status.idle": "2022-09-19T14:27:49.143912Z",
     "shell.execute_reply": "2022-09-19T14:27:49.142999Z"
    },
    "papermill": {
     "duration": 0.02509,
     "end_time": "2022-09-19T14:27:49.146083",
     "exception": false,
     "start_time": "2022-09-19T14:27:49.120993",
     "status": "completed"
    },
    "tags": []
   },
   "outputs": [
    {
     "data": {
      "application/javascript": [
       "parent.postMessage({\"jupyterEvent\": \"custom.exercise_interaction\", \"data\": {\"interactionType\": 3, \"questionType\": 4, \"questionId\": \"6.2_ThinkColorReg\", \"learnToolsVersion\": \"0.3.4\", \"valueTowardsCompletion\": 0.0, \"failureMessage\": \"\", \"exceptionClass\": \"\", \"trace\": \"\", \"outcomeType\": 4}}, \"*\")"
      ],
      "text/plain": [
       "<IPython.core.display.Javascript object>"
      ]
     },
     "metadata": {},
     "output_type": "display_data"
    },
    {
     "data": {
      "text/markdown": [
       "<span style=\"color:#33cc99\">Solution:</span> We'll begin with the regression line for chocolate candies. Since this line has a slightly positive slope, we can say that more expensive chocolate candies tend to be more popular (than relatively cheaper chocolate candies).  Likewise, since the regression line for candies without chocolate has a negative slope, we can say that if candies don't contain chocolate, they tend to be more popular when they are cheaper.  One important note, however, is that the dataset is quite small -- so we shouldn't invest too much trust in these patterns!  To inspire more confidence in the results, we should add more candies to the dataset."
      ],
      "text/plain": [
       "Solution: We'll begin with the regression line for chocolate candies. Since this line has a slightly positive slope, we can say that more expensive chocolate candies tend to be more popular (than relatively cheaper chocolate candies).  Likewise, since the regression line for candies without chocolate has a negative slope, we can say that if candies don't contain chocolate, they tend to be more popular when they are cheaper.  One important note, however, is that the dataset is quite small -- so we shouldn't invest too much trust in these patterns!  To inspire more confidence in the results, we should add more candies to the dataset."
      ]
     },
     "metadata": {},
     "output_type": "display_data"
    }
   ],
   "source": [
    "# Check your answer (Run this code cell to receive credit!)\n",
    "step_6.b.solution()"
   ]
  },
  {
   "cell_type": "markdown",
   "id": "d18153a1",
   "metadata": {
    "papermill": {
     "duration": 0.01306,
     "end_time": "2022-09-19T14:27:49.172113",
     "exception": false,
     "start_time": "2022-09-19T14:27:49.159053",
     "status": "completed"
    },
    "tags": []
   },
   "source": [
    "## Step 7: Everybody loves chocolate.\n",
    "\n",
    "#### Part A\n",
    "\n",
    "Create a categorical scatter plot to highlight the relationship between `'chocolate'` and `'winpercent'`.  Put `'chocolate'` on the (horizontal) x-axis, and `'winpercent'` on the (vertical) y-axis."
   ]
  },
  {
   "cell_type": "code",
   "execution_count": 22,
   "id": "c890974a",
   "metadata": {
    "execution": {
     "iopub.execute_input": "2022-09-19T14:27:49.200375Z",
     "iopub.status.busy": "2022-09-19T14:27:49.199656Z",
     "iopub.status.idle": "2022-09-19T14:27:49.426551Z",
     "shell.execute_reply": "2022-09-19T14:27:49.424998Z"
    },
    "papermill": {
     "duration": 0.243913,
     "end_time": "2022-09-19T14:27:49.429121",
     "exception": false,
     "start_time": "2022-09-19T14:27:49.185208",
     "status": "completed"
    },
    "tags": []
   },
   "outputs": [
    {
     "data": {
      "application/javascript": [
       "parent.postMessage({\"jupyterEvent\": \"custom.exercise_interaction\", \"data\": {\"outcomeType\": 1, \"valueTowardsCompletion\": 0.3333333333333333, \"interactionType\": 1, \"questionType\": 2, \"questionId\": \"7.1_PlotSwarm\", \"learnToolsVersion\": \"0.3.4\", \"failureMessage\": \"\", \"exceptionClass\": \"\", \"trace\": \"\"}}, \"*\")"
      ],
      "text/plain": [
       "<IPython.core.display.Javascript object>"
      ]
     },
     "metadata": {},
     "output_type": "display_data"
    },
    {
     "data": {
      "text/markdown": [
       "<span style=\"color:#33cc33\">Correct</span>"
      ],
      "text/plain": [
       "Correct"
      ]
     },
     "metadata": {},
     "output_type": "display_data"
    },
    {
     "data": {
      "image/png": "[encoded data removed]",
      "text/plain": [
       "<Figure size 432x288 with 1 Axes>"
      ]
     },
     "metadata": {
      "needs_background": "light"
     },
     "output_type": "display_data"
    }
   ],
   "source": [
    "# Scatter plot showing the relationship between 'chocolate' and 'winpercent'\n",
    "sns.swarmplot(x=candy_data['chocolate'], y=candy_data['winpercent']) # Your code here\n",
    "\n",
    "# Check your answer\n",
    "step_7.a.check()"
   ]
  },
  {
   "cell_type": "code",
   "execution_count": 23,
   "id": "055fefbb",
   "metadata": {
    "execution": {
     "iopub.execute_input": "2022-09-19T14:27:49.463172Z",
     "iopub.status.busy": "2022-09-19T14:27:49.462689Z",
     "iopub.status.idle": "2022-09-19T14:27:49.468285Z",
     "shell.execute_reply": "2022-09-19T14:27:49.467315Z"
    },
    "papermill": {
     "duration": 0.025344,
     "end_time": "2022-09-19T14:27:49.470912",
     "exception": false,
     "start_time": "2022-09-19T14:27:49.445568",
     "status": "completed"
    },
    "tags": []
   },
   "outputs": [],
   "source": [
    "# Lines below will give you a hint or solution code\n",
    "#step_7.a.hint()\n",
    "#step_7.a.solution_plot()"
   ]
  },
  {
   "cell_type": "markdown",
   "id": "9b5fd259",
   "metadata": {
    "papermill": {
     "duration": 0.013633,
     "end_time": "2022-09-19T14:27:49.500312",
     "exception": false,
     "start_time": "2022-09-19T14:27:49.486679",
     "status": "completed"
    },
    "tags": []
   },
   "source": [
    "#### Part B\n",
    "\n",
    "You decide to dedicate a section of your report to the fact that chocolate candies tend to be more popular than candies without chocolate.  Which plot is more appropriate to tell this story: the plot from **Step 6**, or the plot from **Step 7**?"
   ]
  },
  {
   "cell_type": "code",
   "execution_count": 24,
   "id": "2b8b7751",
   "metadata": {
    "execution": {
     "iopub.execute_input": "2022-09-19T14:27:49.528297Z",
     "iopub.status.busy": "2022-09-19T14:27:49.527860Z",
     "iopub.status.idle": "2022-09-19T14:27:49.532948Z",
     "shell.execute_reply": "2022-09-19T14:27:49.531951Z"
    },
    "papermill": {
     "duration": 0.021884,
     "end_time": "2022-09-19T14:27:49.535410",
     "exception": false,
     "start_time": "2022-09-19T14:27:49.513526",
     "status": "completed"
    },
    "tags": []
   },
   "outputs": [],
   "source": [
    "#step_7.b.hint()"
   ]
  },
  {
   "cell_type": "code",
   "execution_count": 25,
   "id": "c197e833",
   "metadata": {
    "execution": {
     "iopub.execute_input": "2022-09-19T14:27:49.564551Z",
     "iopub.status.busy": "2022-09-19T14:27:49.564166Z",
     "iopub.status.idle": "2022-09-19T14:27:49.571989Z",
     "shell.execute_reply": "2022-09-19T14:27:49.570961Z"
    },
    "papermill": {
     "duration": 0.025455,
     "end_time": "2022-09-19T14:27:49.574646",
     "exception": false,
     "start_time": "2022-09-19T14:27:49.549191",
     "status": "completed"
    },
    "tags": []
   },
   "outputs": [
    {
     "data": {
      "application/javascript": [
       "parent.postMessage({\"jupyterEvent\": \"custom.exercise_interaction\", \"data\": {\"interactionType\": 3, \"questionType\": 4, \"questionId\": \"7.2_ThinkSwarm\", \"learnToolsVersion\": \"0.3.4\", \"valueTowardsCompletion\": 0.0, \"failureMessage\": \"\", \"exceptionClass\": \"\", \"trace\": \"\", \"outcomeType\": 4}}, \"*\")"
      ],
      "text/plain": [
       "<IPython.core.display.Javascript object>"
      ]
     },
     "metadata": {},
     "output_type": "display_data"
    },
    {
     "data": {
      "text/markdown": [
       "<span style=\"color:#33cc99\">Solution:</span> In this case, the categorical scatter plot from **Step 7** is the more appropriate plot. While both plots tell the desired story, the plot from **Step 6** conveys far more information that could distract from the main point."
      ],
      "text/plain": [
       "Solution: In this case, the categorical scatter plot from **Step 7** is the more appropriate plot. While both plots tell the desired story, the plot from **Step 6** conveys far more information that could distract from the main point."
      ]
     },
     "metadata": {},
     "output_type": "display_data"
    }
   ],
   "source": [
    "# Check your answer (Run this code cell to receive credit!)\n",
    "step_7.b.solution()"
   ]
  },
  {
   "cell_type": "markdown",
   "id": "6ebe9058",
   "metadata": {
    "papermill": {
     "duration": 0.013411,
     "end_time": "2022-09-19T14:27:49.602146",
     "exception": false,
     "start_time": "2022-09-19T14:27:49.588735",
     "status": "completed"
    },
    "tags": []
   },
   "source": [
    "## Keep going\n",
    "\n",
    "Explore **[histograms and density plots](https://www.kaggle.com/alexisbcook/distributions)**."
   ]
  },
  {
   "cell_type": "markdown",
   "id": "ba73344f",
   "metadata": {
    "papermill": {
     "duration": 0.013306,
     "end_time": "2022-09-19T14:27:49.629300",
     "exception": false,
     "start_time": "2022-09-19T14:27:49.615994",
     "status": "completed"
    },
    "tags": []
   },
   "source": [
    "---\n",
    "\n",
    "\n",
    "\n",
    "\n",
    "*Have questions or comments? Visit the [course discussion forum](https://www.kaggle.com/learn/data-visualization/discussion) to chat with other learners.*"
   ]
  }
 ],
 "metadata": {
  "kernelspec": {
   "display_name": "Python 3",
   "language": "python",
   "name": "python3"
  },
  "language_info": {
   "codemirror_mode": {
    "name": "ipython",
    "version": 3
   },
   "file_extension": ".py",
   "mimetype": "text/x-python",
   "name": "python",
   "nbconvert_exporter": "python",
   "pygments_lexer": "ipython3",
   "version": "3.7.12"
  },
  "papermill": {
   "default_parameters": {},
   "duration": 13.359952,
   "end_time": "2022-09-19T14:27:50.368427",
   "environment_variables": {},
   "exception": null,
   "input_path": "__notebook__.ipynb",
   "output_path": "__notebook__.ipynb",
   "parameters": {},
   "start_time": "2022-09-19T14:27:37.008475",
   "version": "2.3.4"
  }
 },
 "nbformat": 4,
 "nbformat_minor": 5
}
