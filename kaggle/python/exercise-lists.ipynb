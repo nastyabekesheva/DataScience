{
 "cells": [
  {
   "cell_type": "markdown",
   "id": "efc779a7",
   "metadata": {
    "papermill": {
     "duration": 0.006209,
     "end_time": "2022-09-19T14:13:00.120623",
     "exception": false,
     "start_time": "2022-09-19T14:13:00.114414",
     "status": "completed"
    },
    "tags": []
   },
   "source": [
    "**This notebook is an exercise in the [Python](https://www.kaggle.com/learn/python) course.  You can reference the tutorial at [this link](https://www.kaggle.com/colinmorris/lists).**\n",
    "\n",
    "---\n"
   ]
  },
  {
   "cell_type": "markdown",
   "id": "fa58e671",
   "metadata": {
    "papermill": {
     "duration": 0.004698,
     "end_time": "2022-09-19T14:13:00.130503",
     "exception": false,
     "start_time": "2022-09-19T14:13:00.125805",
     "status": "completed"
    },
    "tags": []
   },
   "source": [
    "Things get more interesting with lists. You'll apply your new knowledge to solve the questions below. Remember to run the following cell first."
   ]
  },
  {
   "cell_type": "code",
   "execution_count": 1,
   "id": "5febeb85",
   "metadata": {
    "execution": {
     "iopub.execute_input": "2022-09-19T14:13:00.145268Z",
     "iopub.status.busy": "2022-09-19T14:13:00.144070Z",
     "iopub.status.idle": "2022-09-19T14:13:00.217365Z",
     "shell.execute_reply": "2022-09-19T14:13:00.216058Z"
    },
    "papermill": {
     "duration": 0.085067,
     "end_time": "2022-09-19T14:13:00.220702",
     "exception": false,
     "start_time": "2022-09-19T14:13:00.135635",
     "status": "completed"
    },
    "tags": []
   },
   "outputs": [
    {
     "name": "stdout",
     "output_type": "stream",
     "text": [
      "Setup complete.\n"
     ]
    }
   ],
   "source": [
    "from learntools.core import binder; binder.bind(globals())\n",
    "from learntools.python.ex4 import *\n",
    "print('Setup complete.')"
   ]
  },
  {
   "cell_type": "markdown",
   "id": "68dd878c",
   "metadata": {
    "papermill": {
     "duration": 0.004886,
     "end_time": "2022-09-19T14:13:00.230925",
     "exception": false,
     "start_time": "2022-09-19T14:13:00.226039",
     "status": "completed"
    },
    "tags": []
   },
   "source": [
    "# 1.\n",
    "\n",
    "Complete the function below according to its docstring."
   ]
  },
  {
   "cell_type": "code",
   "execution_count": 2,
   "id": "d89a43d8",
   "metadata": {
    "execution": {
     "iopub.execute_input": "2022-09-19T14:13:00.244268Z",
     "iopub.status.busy": "2022-09-19T14:13:00.243296Z",
     "iopub.status.idle": "2022-09-19T14:13:00.259737Z",
     "shell.execute_reply": "2022-09-19T14:13:00.258158Z"
    },
    "papermill": {
     "duration": 0.025604,
     "end_time": "2022-09-19T14:13:00.261975",
     "exception": false,
     "start_time": "2022-09-19T14:13:00.236371",
     "status": "completed"
    },
    "tags": []
   },
   "outputs": [
    {
     "data": {
      "application/javascript": [
       "parent.postMessage({\"jupyterEvent\": \"custom.exercise_interaction\", \"data\": {\"outcomeType\": 1, \"valueTowardsCompletion\": 0.2, \"interactionType\": 1, \"questionType\": 2, \"questionId\": \"1_SelectSecondItem\", \"learnToolsVersion\": \"0.3.4\", \"failureMessage\": \"\", \"exceptionClass\": \"\", \"trace\": \"\"}}, \"*\")"
      ],
      "text/plain": [
       "<IPython.core.display.Javascript object>"
      ]
     },
     "metadata": {},
     "output_type": "display_data"
    },
    {
     "data": {
      "text/markdown": [
       "<span style=\"color:#33cc33\">Correct</span>"
      ],
      "text/plain": [
       "Correct"
      ]
     },
     "metadata": {},
     "output_type": "display_data"
    }
   ],
   "source": [
    "def select_second(L):\n",
    "    \"\"\"Return the second element of the given list. If the list has no second\n",
    "    element, return None.\n",
    "    \"\"\"\n",
    "    if len(L) > 1:\n",
    "        return L[1]\n",
    "    else:\n",
    "        return None\n",
    "\n",
    "# Check your answer\n",
    "q1.check()"
   ]
  },
  {
   "cell_type": "code",
   "execution_count": 3,
   "id": "908333fc",
   "metadata": {
    "execution": {
     "iopub.execute_input": "2022-09-19T14:13:00.276462Z",
     "iopub.status.busy": "2022-09-19T14:13:00.275275Z",
     "iopub.status.idle": "2022-09-19T14:13:00.280588Z",
     "shell.execute_reply": "2022-09-19T14:13:00.279437Z"
    },
    "papermill": {
     "duration": 0.01552,
     "end_time": "2022-09-19T14:13:00.283170",
     "exception": false,
     "start_time": "2022-09-19T14:13:00.267650",
     "status": "completed"
    },
    "tags": []
   },
   "outputs": [],
   "source": [
    "#q1.hint()\n",
    "#q1.solution()"
   ]
  },
  {
   "cell_type": "markdown",
   "id": "0dda1860",
   "metadata": {
    "papermill": {
     "duration": 0.005078,
     "end_time": "2022-09-19T14:13:00.293812",
     "exception": false,
     "start_time": "2022-09-19T14:13:00.288734",
     "status": "completed"
    },
    "tags": []
   },
   "source": [
    "# 2.\n",
    "\n",
    "You are analyzing sports teams.  Members of each team are stored in a list. The Coach is the first name in the list, the captain is the second name in the list, and other players are listed after that. \n",
    "These lists are stored in another list, which starts with the best team and proceeds through the list to the worst team last.  Complete the function below to select the **captain** of the worst team."
   ]
  },
  {
   "cell_type": "code",
   "execution_count": 4,
   "id": "3252e6a0",
   "metadata": {
    "execution": {
     "iopub.execute_input": "2022-09-19T14:13:00.308381Z",
     "iopub.status.busy": "2022-09-19T14:13:00.307180Z",
     "iopub.status.idle": "2022-09-19T14:13:00.320001Z",
     "shell.execute_reply": "2022-09-19T14:13:00.318093Z"
    },
    "papermill": {
     "duration": 0.023673,
     "end_time": "2022-09-19T14:13:00.323665",
     "exception": false,
     "start_time": "2022-09-19T14:13:00.299992",
     "status": "completed"
    },
    "tags": []
   },
   "outputs": [
    {
     "data": {
      "application/javascript": [
       "parent.postMessage({\"jupyterEvent\": \"custom.exercise_interaction\", \"data\": {\"outcomeType\": 1, \"valueTowardsCompletion\": 0.2, \"interactionType\": 1, \"questionType\": 2, \"questionId\": \"2_LosingTeamCaptain\", \"learnToolsVersion\": \"0.3.4\", \"failureMessage\": \"\", \"exceptionClass\": \"\", \"trace\": \"\"}}, \"*\")"
      ],
      "text/plain": [
       "<IPython.core.display.Javascript object>"
      ]
     },
     "metadata": {},
     "output_type": "display_data"
    },
    {
     "data": {
      "text/markdown": [
       "<span style=\"color:#33cc33\">Correct</span>"
      ],
      "text/plain": [
       "Correct"
      ]
     },
     "metadata": {},
     "output_type": "display_data"
    }
   ],
   "source": [
    "def losing_team_captain(teams):\n",
    "    \"\"\"Given a list of teams, where each team is a list of names, return the 2nd player (captain)\n",
    "    from the last listed team\n",
    "    \"\"\"\n",
    "    return teams[len(teams)-1][1]\n",
    "\n",
    "# Check your answer\n",
    "q2.check()"
   ]
  },
  {
   "cell_type": "code",
   "execution_count": 5,
   "id": "815b6641",
   "metadata": {
    "execution": {
     "iopub.execute_input": "2022-09-19T14:13:00.337880Z",
     "iopub.status.busy": "2022-09-19T14:13:00.337028Z",
     "iopub.status.idle": "2022-09-19T14:13:00.343136Z",
     "shell.execute_reply": "2022-09-19T14:13:00.341614Z"
    },
    "papermill": {
     "duration": 0.016019,
     "end_time": "2022-09-19T14:13:00.345780",
     "exception": false,
     "start_time": "2022-09-19T14:13:00.329761",
     "status": "completed"
    },
    "tags": []
   },
   "outputs": [],
   "source": [
    "#q2.hint()\n",
    "#q2.solution()"
   ]
  },
  {
   "cell_type": "markdown",
   "id": "35840128",
   "metadata": {
    "papermill": {
     "duration": 0.005352,
     "end_time": "2022-09-19T14:13:00.357918",
     "exception": false,
     "start_time": "2022-09-19T14:13:00.352566",
     "status": "completed"
    },
    "tags": []
   },
   "source": [
    "# 3.\n",
    "\n",
    "The next iteration of Mario Kart will feature an extra-infuriating new item, the *Purple Shell*. When used, it warps the last place racer into first place and the first place racer into last place. Complete the function below to implement the Purple Shell's effect."
   ]
  },
  {
   "cell_type": "code",
   "execution_count": 6,
   "id": "51962be6",
   "metadata": {
    "execution": {
     "iopub.execute_input": "2022-09-19T14:13:00.370986Z",
     "iopub.status.busy": "2022-09-19T14:13:00.370562Z",
     "iopub.status.idle": "2022-09-19T14:13:00.381256Z",
     "shell.execute_reply": "2022-09-19T14:13:00.380252Z"
    },
    "papermill": {
     "duration": 0.020125,
     "end_time": "2022-09-19T14:13:00.383694",
     "exception": false,
     "start_time": "2022-09-19T14:13:00.363569",
     "status": "completed"
    },
    "tags": []
   },
   "outputs": [
    {
     "data": {
      "application/javascript": [
       "parent.postMessage({\"jupyterEvent\": \"custom.exercise_interaction\", \"data\": {\"outcomeType\": 1, \"valueTowardsCompletion\": 0.2, \"interactionType\": 1, \"questionType\": 2, \"questionId\": \"3_PurpleShell\", \"learnToolsVersion\": \"0.3.4\", \"failureMessage\": \"\", \"exceptionClass\": \"\", \"trace\": \"\"}}, \"*\")"
      ],
      "text/plain": [
       "<IPython.core.display.Javascript object>"
      ]
     },
     "metadata": {},
     "output_type": "display_data"
    },
    {
     "data": {
      "text/markdown": [
       "<span style=\"color:#33cc33\">Correct</span>"
      ],
      "text/plain": [
       "Correct"
      ]
     },
     "metadata": {},
     "output_type": "display_data"
    }
   ],
   "source": [
    "def purple_shell(racers):\n",
    "    \"\"\"Given a list of racers, set the first place racer (at the front of the list) to last\n",
    "    place and vice versa.\n",
    "    \n",
    "    >>> r = [\"Mario\", \"Bowser\", \"Luigi\"]\n",
    "    >>> purple_shell(r)\n",
    "    >>> r\n",
    "    [\"Luigi\", \"Bowser\", \"Mario\"]\n",
    "    \"\"\"\n",
    "    racers[0], racers[(len(racers))-1] = racers[(len(racers))-1], racers[0]\n",
    "\n",
    "\n",
    "# Check your answer\n",
    "q3.check()"
   ]
  },
  {
   "cell_type": "code",
   "execution_count": 7,
   "id": "f001fc4e",
   "metadata": {
    "execution": {
     "iopub.execute_input": "2022-09-19T14:13:00.397149Z",
     "iopub.status.busy": "2022-09-19T14:13:00.396732Z",
     "iopub.status.idle": "2022-09-19T14:13:00.401353Z",
     "shell.execute_reply": "2022-09-19T14:13:00.400176Z"
    },
    "papermill": {
     "duration": 0.01415,
     "end_time": "2022-09-19T14:13:00.403748",
     "exception": false,
     "start_time": "2022-09-19T14:13:00.389598",
     "status": "completed"
    },
    "tags": []
   },
   "outputs": [],
   "source": [
    "#q3.hint()\n",
    "#q3.solution()"
   ]
  },
  {
   "cell_type": "markdown",
   "id": "85eee460",
   "metadata": {
    "papermill": {
     "duration": 0.006036,
     "end_time": "2022-09-19T14:13:00.415864",
     "exception": false,
     "start_time": "2022-09-19T14:13:00.409828",
     "status": "completed"
    },
    "tags": []
   },
   "source": [
    "# 4.\n",
    "\n",
    "What are the lengths of the following lists? Fill in the variable `lengths` with your predictions. (Try to make a prediction for each list *without* just calling `len()` on it.)"
   ]
  },
  {
   "cell_type": "code",
   "execution_count": 8,
   "id": "1bf1a466",
   "metadata": {
    "execution": {
     "iopub.execute_input": "2022-09-19T14:13:00.430864Z",
     "iopub.status.busy": "2022-09-19T14:13:00.430430Z",
     "iopub.status.idle": "2022-09-19T14:13:00.440693Z",
     "shell.execute_reply": "2022-09-19T14:13:00.439821Z"
    },
    "papermill": {
     "duration": 0.021049,
     "end_time": "2022-09-19T14:13:00.442894",
     "exception": false,
     "start_time": "2022-09-19T14:13:00.421845",
     "status": "completed"
    },
    "tags": []
   },
   "outputs": [
    {
     "data": {
      "application/javascript": [
       "parent.postMessage({\"jupyterEvent\": \"custom.exercise_interaction\", \"data\": {\"outcomeType\": 1, \"valueTowardsCompletion\": 0.2, \"interactionType\": 1, \"questionType\": 1, \"questionId\": \"4_UnderstandLen\", \"learnToolsVersion\": \"0.3.4\", \"failureMessage\": \"\", \"exceptionClass\": \"\", \"trace\": \"\"}}, \"*\")"
      ],
      "text/plain": [
       "<IPython.core.display.Javascript object>"
      ]
     },
     "metadata": {},
     "output_type": "display_data"
    },
    {
     "data": {
      "text/markdown": [
       "<span style=\"color:#33cc33\">Correct:</span> \n",
       "\n",
       "\n",
       "- a: There are three items in this list. Nothing tricky yet.\n",
       "- b: The list `[2, 3]` counts as a single item. It has one item before it. So we have 2 items in the list\n",
       "- c: The empty list has 0 items\n",
       "- d: The expression is the same as the list `[2, 3]`, which has length 2."
      ],
      "text/plain": [
       "Correct: \n",
       "\n",
       "\n",
       "- a: There are three items in this list. Nothing tricky yet.\n",
       "- b: The list `[2, 3]` counts as a single item. It has one item before it. So we have 2 items in the list\n",
       "- c: The empty list has 0 items\n",
       "- d: The expression is the same as the list `[2, 3]`, which has length 2."
      ]
     },
     "metadata": {},
     "output_type": "display_data"
    }
   ],
   "source": [
    "a = [1, 2, 3]\n",
    "b = [1, [2, 3]]\n",
    "c = []\n",
    "d = [1, 2, 3][1:]\n",
    "\n",
    "# Put your predictions in the list below. Lengths should contain 4 numbers, the\n",
    "# first being the length of a, the second being the length of b and so on.\n",
    "lengths = [3, 2, 0, 2]\n",
    "\n",
    "# Check your answer\n",
    "q4.check()"
   ]
  },
  {
   "cell_type": "code",
   "execution_count": 9,
   "id": "de8cbc61",
   "metadata": {
    "execution": {
     "iopub.execute_input": "2022-09-19T14:13:00.456763Z",
     "iopub.status.busy": "2022-09-19T14:13:00.456295Z",
     "iopub.status.idle": "2022-09-19T14:13:00.461160Z",
     "shell.execute_reply": "2022-09-19T14:13:00.460028Z"
    },
    "papermill": {
     "duration": 0.014917,
     "end_time": "2022-09-19T14:13:00.463818",
     "exception": false,
     "start_time": "2022-09-19T14:13:00.448901",
     "status": "completed"
    },
    "tags": []
   },
   "outputs": [],
   "source": [
    "# line below provides some explanation\n",
    "#q4.solution()"
   ]
  },
  {
   "cell_type": "markdown",
   "id": "458682e4",
   "metadata": {
    "papermill": {
     "duration": 0.005866,
     "end_time": "2022-09-19T14:13:00.475756",
     "exception": false,
     "start_time": "2022-09-19T14:13:00.469890",
     "status": "completed"
    },
    "tags": []
   },
   "source": [
    "# 5. <span title=\"A bit spicy\" style=\"color: darkgreen \">🌶️</span>\n",
    "\n",
    "We're using lists to record people who attended our party and what order they arrived in. For example, the following list represents a party with 7 guests, in which Adela showed up first and Ford was the last to arrive:\n",
    "\n",
    "    party_attendees = ['Adela', 'Fleda', 'Owen', 'May', 'Mona', 'Gilbert', 'Ford']\n",
    "\n",
    "A guest is considered 'fashionably late' if they arrived after at least half of the party's guests. However, they must not be the very last guest (that's taking it too far). In the above example, Mona and Gilbert are the only guests who were fashionably late.\n",
    "\n",
    "Complete the function below which takes a list of party attendees as well as a person, and tells us whether that person is fashionably late."
   ]
  },
  {
   "cell_type": "code",
   "execution_count": 10,
   "id": "5b895e0b",
   "metadata": {
    "execution": {
     "iopub.execute_input": "2022-09-19T14:13:00.489633Z",
     "iopub.status.busy": "2022-09-19T14:13:00.489200Z",
     "iopub.status.idle": "2022-09-19T14:13:00.500581Z",
     "shell.execute_reply": "2022-09-19T14:13:00.499666Z"
    },
    "papermill": {
     "duration": 0.020894,
     "end_time": "2022-09-19T14:13:00.502697",
     "exception": false,
     "start_time": "2022-09-19T14:13:00.481803",
     "status": "completed"
    },
    "tags": []
   },
   "outputs": [
    {
     "data": {
      "application/javascript": [
       "parent.postMessage({\"jupyterEvent\": \"custom.exercise_interaction\", \"data\": {\"outcomeType\": 3, \"exceptionClass\": \"TypeError\", \"trace\": \"  File \\\"/opt/conda/lib/python3.7/site-packages/learntools/core/problem.py\\\", line 239, in check\\n    actual = fn(*args)\\n\\n  File \\\"/tmp/ipykernel_19/717695016.py\\\", line 6, in fashionably_late\\n    if name not in arrivals[0:len(arrivals) / 2] and name != arrivals[len(arrivals)-1]:\\n\", \"failureMessage\": \"When calling your function with arguments `[['Adela', 'Fleda', 'Owen', 'May', 'Mona', 'Gilbert', 'Ford'], 'Adela']`, Python raised the following exception... **`TypeError: slice indices must be integers or None or have an __index__ method`**\", \"interactionType\": 1, \"questionType\": 2, \"questionId\": \"5_FashionablyLate\", \"learnToolsVersion\": \"0.3.4\", \"valueTowardsCompletion\": 0.0}}, \"*\")"
      ],
      "text/plain": [
       "<IPython.core.display.Javascript object>"
      ]
     },
     "metadata": {},
     "output_type": "display_data"
    },
    {
     "data": {
      "text/markdown": [
       "<span style=\"color:#cc3333\">Incorrect:</span> When calling your function with arguments `[['Adela', 'Fleda', 'Owen', 'May', 'Mona', 'Gilbert', 'Ford'], 'Adela']`, Python raised the following exception... **`TypeError: slice indices must be integers or None or have an __index__ method`**"
      ],
      "text/plain": [
       "Incorrect: When calling your function with arguments `[['Adela', 'Fleda', 'Owen', 'May', 'Mona', 'Gilbert', 'Ford'], 'Adela']`, Python raised the following exception... **`TypeError: slice indices must be integers or None or have an __index__ method`**"
      ]
     },
     "metadata": {},
     "output_type": "display_data"
    }
   ],
   "source": [
    "def fashionably_late(arrivals, name):\n",
    "    \"\"\"Given an ordered list of arrivals to the party and a name, return whether the guest with that\n",
    "    name was fashionably late.\n",
    "    \"\"\"\n",
    "    ans = False\n",
    "    if name not in arrivals[0:len(arrivals) / 2] and name != arrivals[len(arrivals)-1]:\n",
    "        ans = True\n",
    "    return ans\n",
    "\n",
    "# Check your answer\n",
    "q5.check()"
   ]
  },
  {
   "cell_type": "code",
   "execution_count": 11,
   "id": "8155f512",
   "metadata": {
    "execution": {
     "iopub.execute_input": "2022-09-19T14:13:00.517115Z",
     "iopub.status.busy": "2022-09-19T14:13:00.516704Z",
     "iopub.status.idle": "2022-09-19T14:13:00.528807Z",
     "shell.execute_reply": "2022-09-19T14:13:00.527644Z"
    },
    "papermill": {
     "duration": 0.022043,
     "end_time": "2022-09-19T14:13:00.531025",
     "exception": false,
     "start_time": "2022-09-19T14:13:00.508982",
     "status": "completed"
    },
    "tags": []
   },
   "outputs": [
    {
     "data": {
      "application/javascript": [
       "parent.postMessage({\"jupyterEvent\": \"custom.exercise_interaction\", \"data\": {\"interactionType\": 2, \"questionType\": 2, \"questionId\": \"5_FashionablyLate\", \"learnToolsVersion\": \"0.3.4\", \"valueTowardsCompletion\": 0.0, \"failureMessage\": \"\", \"exceptionClass\": \"\", \"trace\": \"\", \"outcomeType\": 4}}, \"*\")"
      ],
      "text/plain": [
       "<IPython.core.display.Javascript object>"
      ]
     },
     "metadata": {},
     "output_type": "display_data"
    },
    {
     "data": {
      "text/markdown": [
       "<span style=\"color:#3366cc\">Hint:</span> Use the index method to find when the person arrived. Check whether that is a fashionably late spot given the list length (`len`). Think about 0-indexing"
      ],
      "text/plain": [
       "Hint: Use the index method to find when the person arrived. Check whether that is a fashionably late spot given the list length (`len`). Think about 0-indexing"
      ]
     },
     "metadata": {},
     "output_type": "display_data"
    },
    {
     "data": {
      "application/javascript": [
       "parent.postMessage({\"jupyterEvent\": \"custom.exercise_interaction\", \"data\": {\"interactionType\": 3, \"questionType\": 2, \"questionId\": \"5_FashionablyLate\", \"learnToolsVersion\": \"0.3.4\", \"valueTowardsCompletion\": 0.0, \"failureMessage\": \"\", \"exceptionClass\": \"\", \"trace\": \"\", \"outcomeType\": 4}}, \"*\")"
      ],
      "text/plain": [
       "<IPython.core.display.Javascript object>"
      ]
     },
     "metadata": {},
     "output_type": "display_data"
    },
    {
     "data": {
      "text/markdown": [
       "<span style=\"color:#33cc99\">Solution:</span> \n",
       "```python\n",
       "def fashionably_late(arrivals, name):\n",
       "    order = arrivals.index(name)\n",
       "    return order >= len(arrivals) / 2 and order != len(arrivals) - 1\n",
       "```"
      ],
      "text/plain": [
       "Solution: \n",
       "```python\n",
       "def fashionably_late(arrivals, name):\n",
       "    order = arrivals.index(name)\n",
       "    return order >= len(arrivals) / 2 and order != len(arrivals) - 1\n",
       "```"
      ]
     },
     "metadata": {},
     "output_type": "display_data"
    }
   ],
   "source": [
    "q5.hint()\n",
    "q5.solution()"
   ]
  },
  {
   "cell_type": "markdown",
   "id": "3a09f62d",
   "metadata": {
    "papermill": {
     "duration": 0.006682,
     "end_time": "2022-09-19T14:13:00.544720",
     "exception": false,
     "start_time": "2022-09-19T14:13:00.538038",
     "status": "completed"
    },
    "tags": []
   },
   "source": [
    "# Keep Going\n",
    "\n",
    "That's it for lists and tuples! Now you have the baseline knowledge to **[learn about loops](https://www.kaggle.com/colinmorris/loops-and-list-comprehensions)**, which is where lists and tuples get really interesting. "
   ]
  },
  {
   "cell_type": "markdown",
   "id": "6082b516",
   "metadata": {
    "papermill": {
     "duration": 0.006349,
     "end_time": "2022-09-19T14:13:00.557813",
     "exception": false,
     "start_time": "2022-09-19T14:13:00.551464",
     "status": "completed"
    },
    "tags": []
   },
   "source": [
    "---\n",
    "\n",
    "\n",
    "\n",
    "\n",
    "*Have questions or comments? Visit the [course discussion forum](https://www.kaggle.com/learn/python/discussion) to chat with other learners.*"
   ]
  }
 ],
 "metadata": {
  "kernelspec": {
   "display_name": "Python 3",
   "language": "python",
   "name": "python3"
  },
  "language_info": {
   "codemirror_mode": {
    "name": "ipython",
    "version": 3
   },
   "file_extension": ".py",
   "mimetype": "text/x-python",
   "name": "python",
   "nbconvert_exporter": "python",
   "pygments_lexer": "ipython3",
   "version": "3.7.12"
  },
  "papermill": {
   "default_parameters": {},
   "duration": 10.666866,
   "end_time": "2022-09-19T14:13:01.290644",
   "environment_variables": {},
   "exception": null,
   "input_path": "__notebook__.ipynb",
   "output_path": "__notebook__.ipynb",
   "parameters": {},
   "start_time": "2022-09-19T14:12:50.623778",
   "version": "2.3.4"
  }
 },
 "nbformat": 4,
 "nbformat_minor": 5
}
