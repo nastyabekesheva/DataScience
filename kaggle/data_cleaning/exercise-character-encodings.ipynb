{
 "cells": [
  {
   "cell_type": "markdown",
   "id": "d7942390",
   "metadata": {
    "papermill": {
     "duration": 0.006349,
     "end_time": "2022-09-19T14:48:15.582817",
     "exception": false,
     "start_time": "2022-09-19T14:48:15.576468",
     "status": "completed"
    },
    "tags": []
   },
   "source": [
    "**This notebook is an exercise in the [Data Cleaning](https://www.kaggle.com/learn/data-cleaning) course.  You can reference the tutorial at [this link](https://www.kaggle.com/alexisbcook/character-encodings).**\n",
    "\n",
    "---\n"
   ]
  },
  {
   "cell_type": "markdown",
   "id": "65950824",
   "metadata": {
    "papermill": {
     "duration": 0.004369,
     "end_time": "2022-09-19T14:48:15.592152",
     "exception": false,
     "start_time": "2022-09-19T14:48:15.587783",
     "status": "completed"
    },
    "tags": []
   },
   "source": [
    "In this exercise, you'll apply what you learned in the **Character encodings** tutorial.\n",
    "\n",
    "# Setup\n",
    "\n",
    "The questions below will give you feedback on your work. Run the following cell to set up the feedback system."
   ]
  },
  {
   "cell_type": "code",
   "execution_count": 1,
   "id": "b15759aa",
   "metadata": {
    "execution": {
     "iopub.execute_input": "2022-09-19T14:48:15.603825Z",
     "iopub.status.busy": "2022-09-19T14:48:15.603326Z",
     "iopub.status.idle": "2022-09-19T14:48:15.706320Z",
     "shell.execute_reply": "2022-09-19T14:48:15.704924Z"
    },
    "papermill": {
     "duration": 0.112204,
     "end_time": "2022-09-19T14:48:15.709178",
     "exception": false,
     "start_time": "2022-09-19T14:48:15.596974",
     "status": "completed"
    },
    "tags": []
   },
   "outputs": [
    {
     "name": "stdout",
     "output_type": "stream",
     "text": [
      "Setup Complete\n"
     ]
    }
   ],
   "source": [
    "from learntools.core import binder\n",
    "binder.bind(globals())\n",
    "from learntools.data_cleaning.ex4 import *\n",
    "print(\"Setup Complete\")"
   ]
  },
  {
   "cell_type": "markdown",
   "id": "80cfb1a1",
   "metadata": {
    "papermill": {
     "duration": 0.004626,
     "end_time": "2022-09-19T14:48:15.718987",
     "exception": false,
     "start_time": "2022-09-19T14:48:15.714361",
     "status": "completed"
    },
    "tags": []
   },
   "source": [
    "# Get our environment set up\n",
    "\n",
    "The first thing we'll need to do is load in the libraries we'll be using."
   ]
  },
  {
   "cell_type": "code",
   "execution_count": 2,
   "id": "980ceadd",
   "metadata": {
    "execution": {
     "iopub.execute_input": "2022-09-19T14:48:15.730648Z",
     "iopub.status.busy": "2022-09-19T14:48:15.730239Z",
     "iopub.status.idle": "2022-09-19T14:48:15.735637Z",
     "shell.execute_reply": "2022-09-19T14:48:15.734298Z"
    },
    "papermill": {
     "duration": 0.014362,
     "end_time": "2022-09-19T14:48:15.738268",
     "exception": false,
     "start_time": "2022-09-19T14:48:15.723906",
     "status": "completed"
    },
    "tags": []
   },
   "outputs": [],
   "source": [
    "# modules we'll use\n",
    "import pandas as pd\n",
    "import numpy as np\n",
    "\n",
    "# helpful character encoding module\n",
    "import chardet\n",
    "\n",
    "# set seed for reproducibility\n",
    "np.random.seed(0)"
   ]
  },
  {
   "cell_type": "markdown",
   "id": "d2e08089",
   "metadata": {
    "papermill": {
     "duration": 0.004514,
     "end_time": "2022-09-19T14:48:15.747601",
     "exception": false,
     "start_time": "2022-09-19T14:48:15.743087",
     "status": "completed"
    },
    "tags": []
   },
   "source": [
    "# 1) What are encodings?\n",
    "\n",
    "You're working with a dataset composed of bytes.  Run the code cell below to print a sample entry."
   ]
  },
  {
   "cell_type": "code",
   "execution_count": 3,
   "id": "81d50d68",
   "metadata": {
    "execution": {
     "iopub.execute_input": "2022-09-19T14:48:15.759511Z",
     "iopub.status.busy": "2022-09-19T14:48:15.758663Z",
     "iopub.status.idle": "2022-09-19T14:48:15.765742Z",
     "shell.execute_reply": "2022-09-19T14:48:15.764311Z"
    },
    "papermill": {
     "duration": 0.016188,
     "end_time": "2022-09-19T14:48:15.768599",
     "exception": false,
     "start_time": "2022-09-19T14:48:15.752411",
     "status": "completed"
    },
    "tags": []
   },
   "outputs": [
    {
     "name": "stdout",
     "output_type": "stream",
     "text": [
      "b'\\xa7A\\xa6n'\n",
      "data type: <class 'bytes'>\n"
     ]
    }
   ],
   "source": [
    "sample_entry = b'\\xa7A\\xa6n'\n",
    "print(sample_entry)\n",
    "print('data type:', type(sample_entry))"
   ]
  },
  {
   "cell_type": "markdown",
   "id": "1a151a92",
   "metadata": {
    "papermill": {
     "duration": 0.004601,
     "end_time": "2022-09-19T14:48:15.778332",
     "exception": false,
     "start_time": "2022-09-19T14:48:15.773731",
     "status": "completed"
    },
    "tags": []
   },
   "source": [
    "You notice that it doesn't use the standard UTF-8 encoding. \n",
    "\n",
    "Use the next code cell to create a variable `new_entry` that changes the encoding from `\"big5-tw\"` to `\"utf-8\"`.  `new_entry` should have the bytes datatype."
   ]
  },
  {
   "cell_type": "code",
   "execution_count": 4,
   "id": "4493b4c4",
   "metadata": {
    "execution": {
     "iopub.execute_input": "2022-09-19T14:48:15.790233Z",
     "iopub.status.busy": "2022-09-19T14:48:15.789786Z",
     "iopub.status.idle": "2022-09-19T14:48:15.802033Z",
     "shell.execute_reply": "2022-09-19T14:48:15.800827Z"
    },
    "papermill": {
     "duration": 0.021213,
     "end_time": "2022-09-19T14:48:15.804494",
     "exception": false,
     "start_time": "2022-09-19T14:48:15.783281",
     "status": "completed"
    },
    "tags": []
   },
   "outputs": [
    {
     "data": {
      "application/javascript": [
       "parent.postMessage({\"jupyterEvent\": \"custom.exercise_interaction\", \"data\": {\"outcomeType\": 1, \"valueTowardsCompletion\": 0.3333333333333333, \"interactionType\": 1, \"questionType\": 1, \"questionId\": \"1_EncodingsIntro\", \"learnToolsVersion\": \"0.3.4\", \"failureMessage\": \"\", \"exceptionClass\": \"\", \"trace\": \"\"}}, \"*\")"
      ],
      "text/plain": [
       "<IPython.core.display.Javascript object>"
      ]
     },
     "metadata": {},
     "output_type": "display_data"
    },
    {
     "data": {
      "text/markdown": [
       "<span style=\"color:#33cc33\">Correct</span>"
      ],
      "text/plain": [
       "Correct"
      ]
     },
     "metadata": {},
     "output_type": "display_data"
    }
   ],
   "source": [
    "new_entry = (b'\\xa7A\\xa6n'.decode(\"big5-tw\")).encode(\"utf-8\")\n",
    "\n",
    "# Check your answer\n",
    "q1.check()"
   ]
  },
  {
   "cell_type": "code",
   "execution_count": 5,
   "id": "4edbb12d",
   "metadata": {
    "execution": {
     "iopub.execute_input": "2022-09-19T14:48:15.816755Z",
     "iopub.status.busy": "2022-09-19T14:48:15.816319Z",
     "iopub.status.idle": "2022-09-19T14:48:15.820758Z",
     "shell.execute_reply": "2022-09-19T14:48:15.819822Z"
    },
    "papermill": {
     "duration": 0.013204,
     "end_time": "2022-09-19T14:48:15.822922",
     "exception": false,
     "start_time": "2022-09-19T14:48:15.809718",
     "status": "completed"
    },
    "tags": []
   },
   "outputs": [],
   "source": [
    "# Lines below will give you a hint or solution code\n",
    "#q1.hint()\n",
    "#q1.solution()"
   ]
  },
  {
   "cell_type": "markdown",
   "id": "297822fa",
   "metadata": {
    "papermill": {
     "duration": 0.004788,
     "end_time": "2022-09-19T14:48:15.833385",
     "exception": false,
     "start_time": "2022-09-19T14:48:15.828597",
     "status": "completed"
    },
    "tags": []
   },
   "source": [
    "# 2) Reading in files with encoding problems\n",
    "\n",
    "Use the code cell below to read in this file at path `\"../input/fatal-police-shootings-in-the-us/PoliceKillingsUS.csv\"`.  \n",
    "\n",
    "Figure out what the correct encoding should be and read in the file to a DataFrame `police_killings`."
   ]
  },
  {
   "cell_type": "code",
   "execution_count": 6,
   "id": "a564a46f",
   "metadata": {
    "execution": {
     "iopub.execute_input": "2022-09-19T14:48:15.845950Z",
     "iopub.status.busy": "2022-09-19T14:48:15.844859Z",
     "iopub.status.idle": "2022-09-19T14:48:19.076885Z",
     "shell.execute_reply": "2022-09-19T14:48:19.075655Z"
    },
    "papermill": {
     "duration": 3.24131,
     "end_time": "2022-09-19T14:48:19.079772",
     "exception": false,
     "start_time": "2022-09-19T14:48:15.838462",
     "status": "completed"
    },
    "tags": []
   },
   "outputs": [
    {
     "name": "stdout",
     "output_type": "stream",
     "text": [
      "{'encoding': 'Windows-1252', 'confidence': 0.73, 'language': ''}\n"
     ]
    },
    {
     "data": {
      "application/javascript": [
       "parent.postMessage({\"jupyterEvent\": \"custom.exercise_interaction\", \"data\": {\"outcomeType\": 1, \"valueTowardsCompletion\": 0.3333333333333333, \"interactionType\": 1, \"questionType\": 1, \"questionId\": \"2_ReadIn\", \"learnToolsVersion\": \"0.3.4\", \"failureMessage\": \"\", \"exceptionClass\": \"\", \"trace\": \"\"}}, \"*\")"
      ],
      "text/plain": [
       "<IPython.core.display.Javascript object>"
      ]
     },
     "metadata": {},
     "output_type": "display_data"
    },
    {
     "data": {
      "text/markdown": [
       "<span style=\"color:#33cc33\">Correct</span>"
      ],
      "text/plain": [
       "Correct"
      ]
     },
     "metadata": {},
     "output_type": "display_data"
    }
   ],
   "source": [
    "# TODO: Load in the DataFrame correctly.\n",
    "with open(\"../input/fatal-police-shootings-in-the-us/PoliceKillingsUS.csv\", 'rb') as rawdata:\n",
    "    res = chardet.detect(rawdata.read(1000000))\n",
    "\n",
    "# check what the character encoding might be\n",
    "print(res)\n",
    "police_killings = pd.read_csv(\"../input/fatal-police-shootings-in-the-us/PoliceKillingsUS.csv\", encoding='Windows-1252')\n",
    "# Check your answer\n",
    "q2.check()"
   ]
  },
  {
   "cell_type": "markdown",
   "id": "6a8d1b20",
   "metadata": {
    "papermill": {
     "duration": 0.005307,
     "end_time": "2022-09-19T14:48:19.090771",
     "exception": false,
     "start_time": "2022-09-19T14:48:19.085464",
     "status": "completed"
    },
    "tags": []
   },
   "source": [
    "Feel free to use any additional code cells for supplemental work.  To get credit for finishing this question, you'll need to run `q2.check()` and get a result of **Correct**."
   ]
  },
  {
   "cell_type": "code",
   "execution_count": 7,
   "id": "a51d5320",
   "metadata": {
    "execution": {
     "iopub.execute_input": "2022-09-19T14:48:19.103196Z",
     "iopub.status.busy": "2022-09-19T14:48:19.102781Z",
     "iopub.status.idle": "2022-09-19T14:48:19.108049Z",
     "shell.execute_reply": "2022-09-19T14:48:19.106928Z"
    },
    "papermill": {
     "duration": 0.014328,
     "end_time": "2022-09-19T14:48:19.110439",
     "exception": false,
     "start_time": "2022-09-19T14:48:19.096111",
     "status": "completed"
    },
    "tags": []
   },
   "outputs": [],
   "source": [
    "# (Optional) Use this code cell for any additional work."
   ]
  },
  {
   "cell_type": "code",
   "execution_count": 8,
   "id": "9693e1f5",
   "metadata": {
    "execution": {
     "iopub.execute_input": "2022-09-19T14:48:19.124107Z",
     "iopub.status.busy": "2022-09-19T14:48:19.123717Z",
     "iopub.status.idle": "2022-09-19T14:48:19.128844Z",
     "shell.execute_reply": "2022-09-19T14:48:19.127543Z"
    },
    "papermill": {
     "duration": 0.015415,
     "end_time": "2022-09-19T14:48:19.131329",
     "exception": false,
     "start_time": "2022-09-19T14:48:19.115914",
     "status": "completed"
    },
    "tags": []
   },
   "outputs": [],
   "source": [
    "# Lines below will give you a hint or solution code\n",
    "#q2.hint()\n",
    "#q2.solution()"
   ]
  },
  {
   "cell_type": "markdown",
   "id": "cf126e09",
   "metadata": {
    "papermill": {
     "duration": 0.005175,
     "end_time": "2022-09-19T14:48:19.142287",
     "exception": false,
     "start_time": "2022-09-19T14:48:19.137112",
     "status": "completed"
    },
    "tags": []
   },
   "source": [
    "# 3) Saving your files with UTF-8 encoding\n",
    "\n",
    "Save a version of the police killings dataset to CSV with UTF-8 encoding.  Your answer will be marked correct after saving this file.  \n",
    "\n",
    "Note: When using the `to_csv()` method, supply only the name of the file (e.g., `\"my_file.csv\"`).  This saves the file at the filepath `\"/kaggle/working/my_file.csv\"`."
   ]
  },
  {
   "cell_type": "code",
   "execution_count": 9,
   "id": "10c918ae",
   "metadata": {
    "execution": {
     "iopub.execute_input": "2022-09-19T14:48:19.155306Z",
     "iopub.status.busy": "2022-09-19T14:48:19.154489Z",
     "iopub.status.idle": "2022-09-19T14:48:19.188277Z",
     "shell.execute_reply": "2022-09-19T14:48:19.187053Z"
    },
    "papermill": {
     "duration": 0.043099,
     "end_time": "2022-09-19T14:48:19.190871",
     "exception": false,
     "start_time": "2022-09-19T14:48:19.147772",
     "status": "completed"
    },
    "tags": []
   },
   "outputs": [
    {
     "data": {
      "application/javascript": [
       "parent.postMessage({\"jupyterEvent\": \"custom.exercise_interaction\", \"data\": {\"outcomeType\": 1, \"valueTowardsCompletion\": 0.3333333333333333, \"interactionType\": 1, \"questionType\": 2, \"questionId\": \"3_SaveCSV\", \"learnToolsVersion\": \"0.3.4\", \"failureMessage\": \"\", \"exceptionClass\": \"\", \"trace\": \"\"}}, \"*\")"
      ],
      "text/plain": [
       "<IPython.core.display.Javascript object>"
      ]
     },
     "metadata": {},
     "output_type": "display_data"
    },
    {
     "data": {
      "text/markdown": [
       "<span style=\"color:#33cc33\">Correct</span>"
      ],
      "text/plain": [
       "Correct"
      ]
     },
     "metadata": {},
     "output_type": "display_data"
    }
   ],
   "source": [
    "# TODO: Save the police killings dataset to CSV\n",
    "police_killings.to_csv(\"police_killings.csv\")\n",
    "\n",
    "# Check your answer\n",
    "q3.check()"
   ]
  },
  {
   "cell_type": "code",
   "execution_count": 10,
   "id": "d2a84564",
   "metadata": {
    "execution": {
     "iopub.execute_input": "2022-09-19T14:48:19.204152Z",
     "iopub.status.busy": "2022-09-19T14:48:19.203721Z",
     "iopub.status.idle": "2022-09-19T14:48:19.208860Z",
     "shell.execute_reply": "2022-09-19T14:48:19.207771Z"
    },
    "papermill": {
     "duration": 0.014672,
     "end_time": "2022-09-19T14:48:19.211338",
     "exception": false,
     "start_time": "2022-09-19T14:48:19.196666",
     "status": "completed"
    },
    "tags": []
   },
   "outputs": [],
   "source": [
    "# Lines below will give you a hint or solution code\n",
    "#q3.hint()\n",
    "#q3.solution()"
   ]
  },
  {
   "cell_type": "markdown",
   "id": "a8b470ea",
   "metadata": {
    "papermill": {
     "duration": 0.005361,
     "end_time": "2022-09-19T14:48:19.222421",
     "exception": false,
     "start_time": "2022-09-19T14:48:19.217060",
     "status": "completed"
    },
    "tags": []
   },
   "source": [
    "# (Optional) More practice\n",
    "\n",
    "Check out [this dataset of files in different character encodings](https://www.kaggle.com/rtatman/character-encoding-examples). Can you read in all the files with their original encodings and them save them out as UTF-8 files?\n",
    "\n",
    "If you have a file that's in UTF-8 but has just a couple of weird-looking characters in it, you can try out the [ftfy module](https://ftfy.readthedocs.io/en/latest/#) and see if it helps. \n",
    "\n",
    "# Keep going\n",
    "\n",
    "In the final lesson, learn how to [**clean up inconsistent text entries**](https://www.kaggle.com/alexisbcook/inconsistent-data-entry) in your dataset."
   ]
  },
  {
   "cell_type": "markdown",
   "id": "34095bc3",
   "metadata": {
    "papermill": {
     "duration": 0.005354,
     "end_time": "2022-09-19T14:48:19.233866",
     "exception": false,
     "start_time": "2022-09-19T14:48:19.228512",
     "status": "completed"
    },
    "tags": []
   },
   "source": [
    "---\n",
    "\n",
    "\n",
    "\n",
    "\n",
    "*Have questions or comments? Visit the [course discussion forum](https://www.kaggle.com/learn/data-cleaning/discussion) to chat with other learners.*"
   ]
  }
 ],
 "metadata": {
  "kernelspec": {
   "display_name": "Python 3",
   "language": "python",
   "name": "python3"
  },
  "language_info": {
   "codemirror_mode": {
    "name": "ipython",
    "version": 3
   },
   "file_extension": ".py",
   "mimetype": "text/x-python",
   "name": "python",
   "nbconvert_exporter": "python",
   "pygments_lexer": "ipython3",
   "version": "3.7.12"
  },
  "papermill": {
   "default_parameters": {},
   "duration": 14.240007,
   "end_time": "2022-09-19T14:48:19.962390",
   "environment_variables": {},
   "exception": null,
   "input_path": "__notebook__.ipynb",
   "output_path": "__notebook__.ipynb",
   "parameters": {},
   "start_time": "2022-09-19T14:48:05.722383",
   "version": "2.3.4"
  }
 },
 "nbformat": 4,
 "nbformat_minor": 5
}
