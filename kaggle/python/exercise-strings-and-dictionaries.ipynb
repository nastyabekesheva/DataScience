{
 "cells": [
  {
   "cell_type": "markdown",
   "id": "e00c557f",
   "metadata": {
    "papermill": {
     "duration": 0.00673,
     "end_time": "2022-09-19T14:14:24.790397",
     "exception": false,
     "start_time": "2022-09-19T14:14:24.783667",
     "status": "completed"
    },
    "tags": []
   },
   "source": [
    "**This notebook is an exercise in the [Python](https://www.kaggle.com/learn/python) course.  You can reference the tutorial at [this link](https://www.kaggle.com/colinmorris/strings-and-dictionaries).**\n",
    "\n",
    "---\n"
   ]
  },
  {
   "cell_type": "markdown",
   "id": "0ceed4dd",
   "metadata": {
    "papermill": {
     "duration": 0.005116,
     "end_time": "2022-09-19T14:14:24.801158",
     "exception": false,
     "start_time": "2022-09-19T14:14:24.796042",
     "status": "completed"
    },
    "tags": []
   },
   "source": [
    "You are almost done with the course. Nice job!\n",
    "\n",
    "We have a couple more interesting problems for you before you go. \n",
    "\n",
    "As always, run the setup code below before working on the questions."
   ]
  },
  {
   "cell_type": "code",
   "execution_count": 1,
   "id": "463df762",
   "metadata": {
    "execution": {
     "iopub.execute_input": "2022-09-19T14:14:24.813953Z",
     "iopub.status.busy": "2022-09-19T14:14:24.813506Z",
     "iopub.status.idle": "2022-09-19T14:14:24.883505Z",
     "shell.execute_reply": "2022-09-19T14:14:24.882304Z"
    },
    "papermill": {
     "duration": 0.079961,
     "end_time": "2022-09-19T14:14:24.886548",
     "exception": false,
     "start_time": "2022-09-19T14:14:24.806587",
     "status": "completed"
    },
    "tags": []
   },
   "outputs": [
    {
     "name": "stdout",
     "output_type": "stream",
     "text": [
      "Setup complete.\n"
     ]
    }
   ],
   "source": [
    "from learntools.core import binder; binder.bind(globals())\n",
    "from learntools.python.ex6 import *\n",
    "print('Setup complete.')"
   ]
  },
  {
   "cell_type": "markdown",
   "id": "04772d30",
   "metadata": {
    "papermill": {
     "duration": 0.006079,
     "end_time": "2022-09-19T14:14:24.898312",
     "exception": false,
     "start_time": "2022-09-19T14:14:24.892233",
     "status": "completed"
    },
    "tags": []
   },
   "source": [
    "Let's start with a string lightning round to warm up. What are the lengths of the strings below?\n",
    "\n",
    "For each of the five strings below, predict what `len()` would return when passed that string. Use the variable `length` to record your answer, then run the cell to check whether you were right.  \n",
    "\n",
    "# 0a."
   ]
  },
  {
   "cell_type": "code",
   "execution_count": 2,
   "id": "9aabdd8f",
   "metadata": {
    "execution": {
     "iopub.execute_input": "2022-09-19T14:14:24.911322Z",
     "iopub.status.busy": "2022-09-19T14:14:24.910574Z",
     "iopub.status.idle": "2022-09-19T14:14:24.920354Z",
     "shell.execute_reply": "2022-09-19T14:14:24.919466Z"
    },
    "papermill": {
     "duration": 0.018685,
     "end_time": "2022-09-19T14:14:24.922377",
     "exception": false,
     "start_time": "2022-09-19T14:14:24.903692",
     "status": "completed"
    },
    "tags": []
   },
   "outputs": [
    {
     "data": {
      "application/javascript": [
       "parent.postMessage({\"jupyterEvent\": \"custom.exercise_interaction\", \"data\": {\"outcomeType\": 1, \"valueTowardsCompletion\": 0.3333333333333333, \"interactionType\": 1, \"questionType\": 1, \"questionId\": \"0.1_ZA\", \"learnToolsVersion\": \"0.3.4\", \"failureMessage\": \"\", \"exceptionClass\": \"\", \"trace\": \"\"}}, \"*\")"
      ],
      "text/plain": [
       "<IPython.core.display.Javascript object>"
      ]
     },
     "metadata": {},
     "output_type": "display_data"
    },
    {
     "data": {
      "text/markdown": [
       "<span style=\"color:#33cc33\">Correct:</span> \n",
       "\n",
       "The empty string has length zero. Note that the empty string is also the only string that Python considers as False when converting to boolean."
      ],
      "text/plain": [
       "Correct: \n",
       "\n",
       "The empty string has length zero. Note that the empty string is also the only string that Python considers as False when converting to boolean."
      ]
     },
     "metadata": {},
     "output_type": "display_data"
    }
   ],
   "source": [
    "a = \"\"\n",
    "length = 0\n",
    "q0.a.check()"
   ]
  },
  {
   "cell_type": "markdown",
   "id": "c0515562",
   "metadata": {
    "papermill": {
     "duration": 0.005402,
     "end_time": "2022-09-19T14:14:24.933547",
     "exception": false,
     "start_time": "2022-09-19T14:14:24.928145",
     "status": "completed"
    },
    "tags": []
   },
   "source": [
    "# 0b."
   ]
  },
  {
   "cell_type": "code",
   "execution_count": 3,
   "id": "bbcec5ac",
   "metadata": {
    "execution": {
     "iopub.execute_input": "2022-09-19T14:14:24.946992Z",
     "iopub.status.busy": "2022-09-19T14:14:24.946237Z",
     "iopub.status.idle": "2022-09-19T14:14:24.956100Z",
     "shell.execute_reply": "2022-09-19T14:14:24.953992Z"
    },
    "papermill": {
     "duration": 0.019619,
     "end_time": "2022-09-19T14:14:24.958657",
     "exception": false,
     "start_time": "2022-09-19T14:14:24.939038",
     "status": "completed"
    },
    "tags": []
   },
   "outputs": [
    {
     "data": {
      "application/javascript": [
       "parent.postMessage({\"jupyterEvent\": \"custom.exercise_interaction\", \"data\": {\"outcomeType\": 1, \"valueTowardsCompletion\": 0.3333333333333333, \"interactionType\": 1, \"questionType\": 1, \"questionId\": \"0.2_ZB\", \"learnToolsVersion\": \"0.3.4\", \"failureMessage\": \"\", \"exceptionClass\": \"\", \"trace\": \"\"}}, \"*\")"
      ],
      "text/plain": [
       "<IPython.core.display.Javascript object>"
      ]
     },
     "metadata": {},
     "output_type": "display_data"
    },
    {
     "data": {
      "text/markdown": [
       "<span style=\"color:#33cc33\">Correct:</span> \n",
       "\n",
       "Keep in mind Python includes spaces (and punctuation) when counting string length."
      ],
      "text/plain": [
       "Correct: \n",
       "\n",
       "Keep in mind Python includes spaces (and punctuation) when counting string length."
      ]
     },
     "metadata": {},
     "output_type": "display_data"
    }
   ],
   "source": [
    "b = \"it's ok\"\n",
    "length = 7\n",
    "q0.b.check()"
   ]
  },
  {
   "cell_type": "markdown",
   "id": "b809b76e",
   "metadata": {
    "papermill": {
     "duration": 0.006329,
     "end_time": "2022-09-19T14:14:24.971181",
     "exception": false,
     "start_time": "2022-09-19T14:14:24.964852",
     "status": "completed"
    },
    "tags": []
   },
   "source": [
    "# 0c."
   ]
  },
  {
   "cell_type": "code",
   "execution_count": 4,
   "id": "abc5404c",
   "metadata": {
    "execution": {
     "iopub.execute_input": "2022-09-19T14:14:24.985369Z",
     "iopub.status.busy": "2022-09-19T14:14:24.984595Z",
     "iopub.status.idle": "2022-09-19T14:14:24.992667Z",
     "shell.execute_reply": "2022-09-19T14:14:24.991895Z"
    },
    "papermill": {
     "duration": 0.017412,
     "end_time": "2022-09-19T14:14:24.994672",
     "exception": false,
     "start_time": "2022-09-19T14:14:24.977260",
     "status": "completed"
    },
    "tags": []
   },
   "outputs": [
    {
     "data": {
      "application/javascript": [
       "parent.postMessage({\"jupyterEvent\": \"custom.exercise_interaction\", \"data\": {\"outcomeType\": 1, \"valueTowardsCompletion\": 0.3333333333333333, \"interactionType\": 1, \"questionType\": 1, \"questionId\": \"0.3_ZC\", \"learnToolsVersion\": \"0.3.4\", \"failureMessage\": \"\", \"exceptionClass\": \"\", \"trace\": \"\"}}, \"*\")"
      ],
      "text/plain": [
       "<IPython.core.display.Javascript object>"
      ]
     },
     "metadata": {},
     "output_type": "display_data"
    },
    {
     "data": {
      "text/markdown": [
       "<span style=\"color:#33cc33\">Correct:</span> \n",
       "\n",
       "Even though we use different syntax to create it, the string `c` is identical to `b`. In particular, note that the backslash is not part of the string, so it doesn't contribute to its length."
      ],
      "text/plain": [
       "Correct: \n",
       "\n",
       "Even though we use different syntax to create it, the string `c` is identical to `b`. In particular, note that the backslash is not part of the string, so it doesn't contribute to its length."
      ]
     },
     "metadata": {},
     "output_type": "display_data"
    }
   ],
   "source": [
    "c = 'it\\'s ok'\n",
    "length = 7\n",
    "q0.c.check()"
   ]
  },
  {
   "cell_type": "markdown",
   "id": "597b7ed0",
   "metadata": {
    "papermill": {
     "duration": 0.006126,
     "end_time": "2022-09-19T14:14:25.006858",
     "exception": false,
     "start_time": "2022-09-19T14:14:25.000732",
     "status": "completed"
    },
    "tags": []
   },
   "source": [
    "# 0d."
   ]
  },
  {
   "cell_type": "code",
   "execution_count": 5,
   "id": "27293e06",
   "metadata": {
    "execution": {
     "iopub.execute_input": "2022-09-19T14:14:25.022019Z",
     "iopub.status.busy": "2022-09-19T14:14:25.021061Z",
     "iopub.status.idle": "2022-09-19T14:14:25.029975Z",
     "shell.execute_reply": "2022-09-19T14:14:25.028787Z"
    },
    "papermill": {
     "duration": 0.019515,
     "end_time": "2022-09-19T14:14:25.032530",
     "exception": false,
     "start_time": "2022-09-19T14:14:25.013015",
     "status": "completed"
    },
    "tags": []
   },
   "outputs": [
    {
     "data": {
      "application/javascript": [
       "parent.postMessage({\"jupyterEvent\": \"custom.exercise_interaction\", \"data\": {\"outcomeType\": 1, \"valueTowardsCompletion\": 0.3333333333333333, \"interactionType\": 1, \"questionType\": 1, \"questionId\": \"0.4_ZD\", \"learnToolsVersion\": \"0.3.4\", \"failureMessage\": \"\", \"exceptionClass\": \"\", \"trace\": \"\"}}, \"*\")"
      ],
      "text/plain": [
       "<IPython.core.display.Javascript object>"
      ]
     },
     "metadata": {},
     "output_type": "display_data"
    },
    {
     "data": {
      "text/markdown": [
       "<span style=\"color:#33cc33\">Correct:</span> \n",
       "\n",
       "The fact that this string was created using triple-quote syntax doesn't make any difference in terms of its content or length. This string is exactly the same as `'hey'`."
      ],
      "text/plain": [
       "Correct: \n",
       "\n",
       "The fact that this string was created using triple-quote syntax doesn't make any difference in terms of its content or length. This string is exactly the same as `'hey'`."
      ]
     },
     "metadata": {},
     "output_type": "display_data"
    }
   ],
   "source": [
    "d = \"\"\"hey\"\"\"\n",
    "length = 3\n",
    "q0.d.check()"
   ]
  },
  {
   "cell_type": "markdown",
   "id": "3dd5fad4",
   "metadata": {
    "papermill": {
     "duration": 0.00779,
     "end_time": "2022-09-19T14:14:25.047332",
     "exception": false,
     "start_time": "2022-09-19T14:14:25.039542",
     "status": "completed"
    },
    "tags": []
   },
   "source": [
    "# 0e."
   ]
  },
  {
   "cell_type": "code",
   "execution_count": 6,
   "id": "0e20f46b",
   "metadata": {
    "execution": {
     "iopub.execute_input": "2022-09-19T14:14:25.063053Z",
     "iopub.status.busy": "2022-09-19T14:14:25.062169Z",
     "iopub.status.idle": "2022-09-19T14:14:25.071505Z",
     "shell.execute_reply": "2022-09-19T14:14:25.070178Z"
    },
    "papermill": {
     "duration": 0.019735,
     "end_time": "2022-09-19T14:14:25.073808",
     "exception": false,
     "start_time": "2022-09-19T14:14:25.054073",
     "status": "completed"
    },
    "tags": []
   },
   "outputs": [
    {
     "data": {
      "application/javascript": [
       "parent.postMessage({\"jupyterEvent\": \"custom.exercise_interaction\", \"data\": {\"outcomeType\": 1, \"valueTowardsCompletion\": 0.3333333333333333, \"interactionType\": 1, \"questionType\": 1, \"questionId\": \"0.5_ZE\", \"learnToolsVersion\": \"0.3.4\", \"failureMessage\": \"\", \"exceptionClass\": \"\", \"trace\": \"\"}}, \"*\")"
      ],
      "text/plain": [
       "<IPython.core.display.Javascript object>"
      ]
     },
     "metadata": {},
     "output_type": "display_data"
    },
    {
     "data": {
      "text/markdown": [
       "<span style=\"color:#33cc33\">Correct:</span> \n",
       "\n",
       "The newline character is just a single character! (Even though we represent it to Python using a combination of two characters.)"
      ],
      "text/plain": [
       "Correct: \n",
       "\n",
       "The newline character is just a single character! (Even though we represent it to Python using a combination of two characters.)"
      ]
     },
     "metadata": {},
     "output_type": "display_data"
    }
   ],
   "source": [
    "e = '\\n'\n",
    "length = 1\n",
    "q0.e.check()"
   ]
  },
  {
   "cell_type": "markdown",
   "id": "c7320175",
   "metadata": {
    "papermill": {
     "duration": 0.006925,
     "end_time": "2022-09-19T14:14:25.087464",
     "exception": false,
     "start_time": "2022-09-19T14:14:25.080539",
     "status": "completed"
    },
    "tags": []
   },
   "source": [
    "# 1.\n",
    "\n",
    "There is a saying that \"Data scientists spend 80% of their time cleaning data, and 20% of their time complaining about cleaning data.\" Let's see if you can write a function to help clean US zip code data. Given a string, it should return whether or not that string represents a valid zip code. For our purposes, a valid zip code is any string consisting of exactly 5 digits.\n",
    "\n",
    "HINT: `str` has a method that will be useful here. Use `help(str)` to review a list of string methods."
   ]
  },
  {
   "cell_type": "code",
   "execution_count": 7,
   "id": "acc9afa9",
   "metadata": {
    "execution": {
     "iopub.execute_input": "2022-09-19T14:14:25.102736Z",
     "iopub.status.busy": "2022-09-19T14:14:25.102339Z",
     "iopub.status.idle": "2022-09-19T14:14:25.112141Z",
     "shell.execute_reply": "2022-09-19T14:14:25.110560Z"
    },
    "papermill": {
     "duration": 0.020431,
     "end_time": "2022-09-19T14:14:25.114538",
     "exception": false,
     "start_time": "2022-09-19T14:14:25.094107",
     "status": "completed"
    },
    "tags": []
   },
   "outputs": [
    {
     "data": {
      "application/javascript": [
       "parent.postMessage({\"jupyterEvent\": \"custom.exercise_interaction\", \"data\": {\"outcomeType\": 1, \"valueTowardsCompletion\": 0.3333333333333333, \"interactionType\": 1, \"questionType\": 2, \"questionId\": \"1_ZipValidator\", \"learnToolsVersion\": \"0.3.4\", \"failureMessage\": \"\", \"exceptionClass\": \"\", \"trace\": \"\"}}, \"*\")"
      ],
      "text/plain": [
       "<IPython.core.display.Javascript object>"
      ]
     },
     "metadata": {},
     "output_type": "display_data"
    },
    {
     "data": {
      "text/markdown": [
       "<span style=\"color:#33cc33\">Correct</span>"
      ],
      "text/plain": [
       "Correct"
      ]
     },
     "metadata": {},
     "output_type": "display_data"
    }
   ],
   "source": [
    "def is_valid_zip(zip_code):\n",
    "    \"\"\"Returns whether the input string is a valid (5 digit) zip code\n",
    "    \"\"\"\n",
    "    return len(zip_code) == 5 and zip_code.isdigit()\n",
    "\n",
    "# Check your answer\n",
    "q1.check()"
   ]
  },
  {
   "cell_type": "code",
   "execution_count": 8,
   "id": "3212ee50",
   "metadata": {
    "execution": {
     "iopub.execute_input": "2022-09-19T14:14:25.130615Z",
     "iopub.status.busy": "2022-09-19T14:14:25.130182Z",
     "iopub.status.idle": "2022-09-19T14:14:25.139839Z",
     "shell.execute_reply": "2022-09-19T14:14:25.138744Z"
    },
    "papermill": {
     "duration": 0.020828,
     "end_time": "2022-09-19T14:14:25.142498",
     "exception": false,
     "start_time": "2022-09-19T14:14:25.121670",
     "status": "completed"
    },
    "tags": []
   },
   "outputs": [
    {
     "data": {
      "application/javascript": [
       "parent.postMessage({\"jupyterEvent\": \"custom.exercise_interaction\", \"data\": {\"interactionType\": 2, \"questionType\": 2, \"questionId\": \"1_ZipValidator\", \"learnToolsVersion\": \"0.3.4\", \"valueTowardsCompletion\": 0.0, \"failureMessage\": \"\", \"exceptionClass\": \"\", \"trace\": \"\", \"outcomeType\": 4}}, \"*\")"
      ],
      "text/plain": [
       "<IPython.core.display.Javascript object>"
      ]
     },
     "metadata": {},
     "output_type": "display_data"
    },
    {
     "data": {
      "text/markdown": [
       "<span style=\"color:#3366cc\">Hint:</span> Try looking up `help(str.isdigit)`"
      ],
      "text/plain": [
       "Hint: Try looking up `help(str.isdigit)`"
      ]
     },
     "metadata": {},
     "output_type": "display_data"
    }
   ],
   "source": [
    "q1.hint()\n",
    "#q1.solution()"
   ]
  },
  {
   "cell_type": "markdown",
   "id": "bf2aaede",
   "metadata": {
    "papermill": {
     "duration": 0.006981,
     "end_time": "2022-09-19T14:14:25.156660",
     "exception": false,
     "start_time": "2022-09-19T14:14:25.149679",
     "status": "completed"
    },
    "tags": []
   },
   "source": [
    "# 2.\n",
    "\n",
    "A researcher has gathered thousands of news articles. But she wants to focus her attention on articles including a specific word. Complete the function below to help her filter her list of articles.\n",
    "\n",
    "Your function should meet the following criteria:\n",
    "\n",
    "- Do not include documents where the keyword string shows up only as a part of a larger word. For example, if she were looking for the keyword “closed”, you would not include the string “enclosed.” \n",
    "- She does not want you to distinguish upper case from lower case letters. So the phrase “Closed the case.” would be included when the keyword is “closed”\n",
    "- Do not let periods or commas affect what is matched. “It is closed.” would be included when the keyword is “closed”. But you can assume there are no other types of punctuation."
   ]
  },
  {
   "cell_type": "code",
   "execution_count": 9,
   "id": "160226f9",
   "metadata": {
    "execution": {
     "iopub.execute_input": "2022-09-19T14:14:25.172896Z",
     "iopub.status.busy": "2022-09-19T14:14:25.172473Z",
     "iopub.status.idle": "2022-09-19T14:14:25.183737Z",
     "shell.execute_reply": "2022-09-19T14:14:25.182783Z"
    },
    "papermill": {
     "duration": 0.022348,
     "end_time": "2022-09-19T14:14:25.186104",
     "exception": false,
     "start_time": "2022-09-19T14:14:25.163756",
     "status": "completed"
    },
    "tags": []
   },
   "outputs": [
    {
     "data": {
      "application/javascript": [
       "parent.postMessage({\"jupyterEvent\": \"custom.exercise_interaction\", \"data\": {\"outcomeType\": 1, \"valueTowardsCompletion\": 0.3333333333333333, \"interactionType\": 1, \"questionType\": 2, \"questionId\": \"2_WordSearch\", \"learnToolsVersion\": \"0.3.4\", \"failureMessage\": \"\", \"exceptionClass\": \"\", \"trace\": \"\"}}, \"*\")"
      ],
      "text/plain": [
       "<IPython.core.display.Javascript object>"
      ]
     },
     "metadata": {},
     "output_type": "display_data"
    },
    {
     "data": {
      "text/markdown": [
       "<span style=\"color:#33cc33\">Correct</span>"
      ],
      "text/plain": [
       "Correct"
      ]
     },
     "metadata": {},
     "output_type": "display_data"
    }
   ],
   "source": [
    "def word_search(doc_list, keyword):\n",
    "    \"\"\"\n",
    "    Takes a list of documents (each document is a string) and a keyword. \n",
    "    Returns list of the index values into the original list for all documents \n",
    "    containing the keyword.\n",
    "\n",
    "    Example:\n",
    "    doc_list = [\"The Learn Python Challenge Casino.\", \"They bought a car\", \"Casinoville\"]\n",
    "    >>> word_search(doc_list, 'casino')\n",
    "    >>> [0]\n",
    "    \"\"\"\n",
    "    ind = []\n",
    "    for word in doc_list:\n",
    "        words = word.split()\n",
    "        for wor in words:\n",
    "            if keyword.lower() == wor.rstrip('.,').lower():\n",
    "                 ind.append(doc_list.index(word))\n",
    "    return list(set(ind))\n",
    "\n",
    "# Check your answer\n",
    "q2.check()"
   ]
  },
  {
   "cell_type": "code",
   "execution_count": 10,
   "id": "51a223d9",
   "metadata": {
    "execution": {
     "iopub.execute_input": "2022-09-19T14:14:25.202948Z",
     "iopub.status.busy": "2022-09-19T14:14:25.202444Z",
     "iopub.status.idle": "2022-09-19T14:14:25.207603Z",
     "shell.execute_reply": "2022-09-19T14:14:25.206340Z"
    },
    "papermill": {
     "duration": 0.016008,
     "end_time": "2022-09-19T14:14:25.209815",
     "exception": false,
     "start_time": "2022-09-19T14:14:25.193807",
     "status": "completed"
    },
    "tags": []
   },
   "outputs": [],
   "source": [
    "#q2.hint()\n",
    "#q2.solution()"
   ]
  },
  {
   "cell_type": "markdown",
   "id": "b9f81c53",
   "metadata": {
    "papermill": {
     "duration": 0.00738,
     "end_time": "2022-09-19T14:14:25.224837",
     "exception": false,
     "start_time": "2022-09-19T14:14:25.217457",
     "status": "completed"
    },
    "tags": []
   },
   "source": [
    "# 3.\n",
    "\n",
    "Now the researcher wants to supply multiple keywords to search for. Complete the function below to help her.\n",
    "\n",
    "(You're encouraged to use the `word_search` function you just wrote when implementing this function. Reusing code in this way makes your programs more robust and readable - and it saves typing!)"
   ]
  },
  {
   "cell_type": "code",
   "execution_count": 11,
   "id": "74af6846",
   "metadata": {
    "execution": {
     "iopub.execute_input": "2022-09-19T14:14:25.241375Z",
     "iopub.status.busy": "2022-09-19T14:14:25.240922Z",
     "iopub.status.idle": "2022-09-19T14:14:25.254350Z",
     "shell.execute_reply": "2022-09-19T14:14:25.252940Z"
    },
    "papermill": {
     "duration": 0.02447,
     "end_time": "2022-09-19T14:14:25.256736",
     "exception": false,
     "start_time": "2022-09-19T14:14:25.232266",
     "status": "completed"
    },
    "tags": []
   },
   "outputs": [
    {
     "data": {
      "application/javascript": [
       "parent.postMessage({\"jupyterEvent\": \"custom.exercise_interaction\", \"data\": {\"outcomeType\": 1, \"valueTowardsCompletion\": 0.3333333333333333, \"interactionType\": 1, \"questionType\": 2, \"questionId\": \"3_MultiWordSearch\", \"learnToolsVersion\": \"0.3.4\", \"failureMessage\": \"\", \"exceptionClass\": \"\", \"trace\": \"\"}}, \"*\")"
      ],
      "text/plain": [
       "<IPython.core.display.Javascript object>"
      ]
     },
     "metadata": {},
     "output_type": "display_data"
    },
    {
     "data": {
      "text/markdown": [
       "<span style=\"color:#33cc33\">Correct</span>"
      ],
      "text/plain": [
       "Correct"
      ]
     },
     "metadata": {},
     "output_type": "display_data"
    }
   ],
   "source": [
    "def word_search(doc_list, keyword):\n",
    "    \"\"\"\n",
    "    Takes a list of documents (each document is a string) and a keyword. \n",
    "    Returns list of the index values into the original list for all documents \n",
    "    containing the keyword.\n",
    "\n",
    "    Example:\n",
    "    doc_list = [\"The Learn Python Challenge Casino.\", \"They bought a car\", \"Casinoville\"]\n",
    "    >>> word_search(doc_list, 'casino')\n",
    "    >>> [0]\n",
    "    \"\"\"\n",
    "    ind = []\n",
    "    for word in doc_list:\n",
    "        words = word.split()\n",
    "        for wor in words:\n",
    "            if keyword.lower() == wor.rstrip('.,').lower():\n",
    "                 ind.append(doc_list.index(word))\n",
    "    return list(set(ind))\n",
    "\n",
    "def multi_word_search(doc_list, keywords):\n",
    "    \"\"\"\n",
    "    Takes list of documents (each document is a string) and a list of keywords.  \n",
    "    Returns a dictionary where each key is a keyword, and the value is a list of indices\n",
    "    (from doc_list) of the documents containing that keyword\n",
    "\n",
    "    >>> doc_list = [\"The Learn Python Challenge Casino.\", \"They bought a car and a casino\", \"Casinoville\"]\n",
    "    >>> keywords = ['casino', 'they']\n",
    "    >>> multi_word_search(doc_list, keywords)\n",
    "    {'casino': [0, 1], 'they': [1]}\n",
    "    \"\"\"\n",
    "    res = {}\n",
    "    for word in keywords:\n",
    "        res.update({word:word_search(doc_list, word)})\n",
    "    return res\n",
    "\n",
    "# Check your answer\n",
    "q3.check()"
   ]
  },
  {
   "cell_type": "code",
   "execution_count": 12,
   "id": "6ddd0680",
   "metadata": {
    "execution": {
     "iopub.execute_input": "2022-09-19T14:14:25.273888Z",
     "iopub.status.busy": "2022-09-19T14:14:25.273520Z",
     "iopub.status.idle": "2022-09-19T14:14:25.278289Z",
     "shell.execute_reply": "2022-09-19T14:14:25.277148Z"
    },
    "papermill": {
     "duration": 0.016288,
     "end_time": "2022-09-19T14:14:25.280670",
     "exception": false,
     "start_time": "2022-09-19T14:14:25.264382",
     "status": "completed"
    },
    "tags": []
   },
   "outputs": [],
   "source": [
    "#q3.solution()"
   ]
  },
  {
   "cell_type": "markdown",
   "id": "2ff82b7f",
   "metadata": {
    "papermill": {
     "duration": 0.007139,
     "end_time": "2022-09-19T14:14:25.295431",
     "exception": false,
     "start_time": "2022-09-19T14:14:25.288292",
     "status": "completed"
    },
    "tags": []
   },
   "source": [
    "# Keep Going\n",
    "\n",
    "You've learned a lot. But even the best programmers rely heavily on \"libraries\" of code from other programmers. You'll learn about that in **[the last lesson](https://www.kaggle.com/colinmorris/working-with-external-libraries)**.\n"
   ]
  },
  {
   "cell_type": "markdown",
   "id": "b9a068f0",
   "metadata": {
    "papermill": {
     "duration": 0.007676,
     "end_time": "2022-09-19T14:14:25.310629",
     "exception": false,
     "start_time": "2022-09-19T14:14:25.302953",
     "status": "completed"
    },
    "tags": []
   },
   "source": [
    "---\n",
    "\n",
    "\n",
    "\n",
    "\n",
    "*Have questions or comments? Visit the [course discussion forum](https://www.kaggle.com/learn/python/discussion) to chat with other learners.*"
   ]
  }
 ],
 "metadata": {
  "kernelspec": {
   "display_name": "Python 3",
   "language": "python",
   "name": "python3"
  },
  "language_info": {
   "codemirror_mode": {
    "name": "ipython",
    "version": 3
   },
   "file_extension": ".py",
   "mimetype": "text/x-python",
   "name": "python",
   "nbconvert_exporter": "python",
   "pygments_lexer": "ipython3",
   "version": "3.7.12"
  },
  "papermill": {
   "default_parameters": {},
   "duration": 10.614931,
   "end_time": "2022-09-19T14:14:25.940710",
   "environment_variables": {},
   "exception": null,
   "input_path": "__notebook__.ipynb",
   "output_path": "__notebook__.ipynb",
   "parameters": {},
   "start_time": "2022-09-19T14:14:15.325779",
   "version": "2.3.4"
  }
 },
 "nbformat": 4,
 "nbformat_minor": 5
}
