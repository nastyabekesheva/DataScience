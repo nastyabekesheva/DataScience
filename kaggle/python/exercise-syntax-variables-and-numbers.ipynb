{
 "cells": [
  {
   "cell_type": "markdown",
   "id": "abc5cc35",
   "metadata": {
    "papermill": {
     "duration": 0.007997,
     "end_time": "2022-09-19T13:51:36.885095",
     "exception": false,
     "start_time": "2022-09-19T13:51:36.877098",
     "status": "completed"
    },
    "tags": []
   },
   "source": [
    "**This notebook is an exercise in the [Python](https://www.kaggle.com/learn/python) course.  You can reference the tutorial at [this link](https://www.kaggle.com/colinmorris/hello-python).**\n",
    "\n",
    "---\n"
   ]
  },
  {
   "cell_type": "markdown",
   "id": "230882d2",
   "metadata": {
    "papermill": {
     "duration": 0.006425,
     "end_time": "2022-09-19T13:51:36.898419",
     "exception": false,
     "start_time": "2022-09-19T13:51:36.891994",
     "status": "completed"
    },
    "tags": []
   },
   "source": [
    "Welcome to your first set of Python coding problems.  If this is your first time using Kaggle Notebooks, welcome! \n",
    "\n",
    "Notebooks are composed of blocks (called \"cells\") of text and code. Each of these is editable, though you'll mainly be editing the code cells to answer some questions.\n",
    "\n",
    "To get started, try running the code cell below (by pressing the ► button, or clicking on the cell and pressing ctrl+enter on your keyboard)."
   ]
  },
  {
   "cell_type": "code",
   "execution_count": 1,
   "id": "96be599f",
   "metadata": {
    "execution": {
     "iopub.execute_input": "2022-09-19T13:51:36.914689Z",
     "iopub.status.busy": "2022-09-19T13:51:36.913678Z",
     "iopub.status.idle": "2022-09-19T13:51:36.926942Z",
     "shell.execute_reply": "2022-09-19T13:51:36.926003Z"
    },
    "papermill": {
     "duration": 0.024313,
     "end_time": "2022-09-19T13:51:36.929321",
     "exception": false,
     "start_time": "2022-09-19T13:51:36.905008",
     "status": "completed"
    },
    "tags": []
   },
   "outputs": [
    {
     "name": "stdout",
     "output_type": "stream",
     "text": [
      "You've successfully run some Python code\n",
      "Congratulations!\n"
     ]
    }
   ],
   "source": [
    "print(\"You've successfully run some Python code\")\n",
    "print(\"Congratulations!\")"
   ]
  },
  {
   "cell_type": "markdown",
   "id": "5e444b33",
   "metadata": {
    "papermill": {
     "duration": 0.006641,
     "end_time": "2022-09-19T13:51:36.943006",
     "exception": false,
     "start_time": "2022-09-19T13:51:36.936365",
     "status": "completed"
    },
    "tags": []
   },
   "source": [
    "Try adding another line of code in the cell above and re-running it. \n",
    "\n",
    "Now let's get a little fancier:  Add a new code cell by clicking on an existing code cell, hitting the escape key, and then hitting the `a` or `b` key.  The `a` key will add a cell above the current cell, and `b` adds a cell below.\n",
    "\n",
    "Great! Now you know how to use Notebooks.\n",
    "\n",
    "Each hands-on exercise starts by setting up our feedback and code checking mechanism. Run the code cell below to do that. Then you'll be ready to move on to question 0."
   ]
  },
  {
   "cell_type": "code",
   "execution_count": 2,
   "id": "e9ad4452",
   "metadata": {
    "_kg_hide-input": true,
    "_kg_hide-output": true,
    "execution": {
     "iopub.execute_input": "2022-09-19T13:51:36.958265Z",
     "iopub.status.busy": "2022-09-19T13:51:36.957829Z",
     "iopub.status.idle": "2022-09-19T13:51:37.001351Z",
     "shell.execute_reply": "2022-09-19T13:51:37.000131Z"
    },
    "papermill": {
     "duration": 0.054117,
     "end_time": "2022-09-19T13:51:37.003915",
     "exception": false,
     "start_time": "2022-09-19T13:51:36.949798",
     "status": "completed"
    },
    "tags": []
   },
   "outputs": [
    {
     "name": "stdout",
     "output_type": "stream",
     "text": [
      "Setup complete! You're ready to start question 0.\n"
     ]
    }
   ],
   "source": [
    "from learntools.core import binder; binder.bind(globals())\n",
    "from learntools.python.ex1 import *\n",
    "print(\"Setup complete! You're ready to start question 0.\")"
   ]
  },
  {
   "cell_type": "markdown",
   "id": "cdbaae4b",
   "metadata": {
    "papermill": {
     "duration": 0.006582,
     "end_time": "2022-09-19T13:51:37.017210",
     "exception": false,
     "start_time": "2022-09-19T13:51:37.010628",
     "status": "completed"
    },
    "tags": []
   },
   "source": [
    "# 0.\n",
    "\n",
    "*This is a silly question intended as an introduction to the format we use for hands-on exercises throughout all Kaggle courses.*\n",
    "\n",
    "**What is your favorite color? **\n",
    "\n",
    "To complete this question, create a variable called `color` in the cell below with an appropriate value. The function call `q0.check()` (which we've already provided in the cell below) will check your answer."
   ]
  },
  {
   "cell_type": "code",
   "execution_count": 3,
   "id": "885f99dd",
   "metadata": {
    "execution": {
     "iopub.execute_input": "2022-09-19T13:51:37.032592Z",
     "iopub.status.busy": "2022-09-19T13:51:37.031825Z",
     "iopub.status.idle": "2022-09-19T13:51:37.043616Z",
     "shell.execute_reply": "2022-09-19T13:51:37.042532Z"
    },
    "papermill": {
     "duration": 0.021935,
     "end_time": "2022-09-19T13:51:37.045847",
     "exception": false,
     "start_time": "2022-09-19T13:51:37.023912",
     "status": "completed"
    },
    "tags": []
   },
   "outputs": [
    {
     "data": {
      "application/javascript": [
       "parent.postMessage({\"jupyterEvent\": \"custom.exercise_interaction\", \"data\": {\"outcomeType\": 1, \"valueTowardsCompletion\": 0.25, \"interactionType\": 1, \"questionType\": 2, \"questionId\": \"0_ExerciseFormatTutorial\", \"learnToolsVersion\": \"0.3.4\", \"failureMessage\": \"\", \"exceptionClass\": \"\", \"trace\": \"\"}}, \"*\")"
      ],
      "text/plain": [
       "<IPython.core.display.Javascript object>"
      ]
     },
     "metadata": {},
     "output_type": "display_data"
    },
    {
     "data": {
      "text/markdown": [
       "<span style=\"color:#33cc33\">Correct:</span> What?! You got it right without needing a hint or anything? Drats. Well hey, you should still continue to the next step to get some practice asking for a hint and checking solutions. (Even though you obviously don't need any help here.)"
      ],
      "text/plain": [
       "Correct: What?! You got it right without needing a hint or anything? Drats. Well hey, you should still continue to the next step to get some practice asking for a hint and checking solutions. (Even though you obviously don't need any help here.)"
      ]
     },
     "metadata": {},
     "output_type": "display_data"
    }
   ],
   "source": [
    "# create a variable called color with an appropriate value on the line below\n",
    "# (Remember, strings in Python must be enclosed in 'single' or \"double\" quotes)\n",
    "color = \"blue\"\n",
    "# Check your answer\n",
    "\n",
    "q0.check()"
   ]
  },
  {
   "cell_type": "markdown",
   "id": "c0d48074",
   "metadata": {
    "papermill": {
     "duration": 0.007009,
     "end_time": "2022-09-19T13:51:37.060048",
     "exception": false,
     "start_time": "2022-09-19T13:51:37.053039",
     "status": "completed"
    },
    "tags": []
   },
   "source": [
    "Didn't get the right answer? How do you not even know your own favorite color?!\n",
    "\n",
    "Delete the `#` in the line below to make one of the lines run. You can choose between getting a hint or the full answer by choosing which line to remove the `#` from. \n",
    "\n",
    "Removing the `#` is called uncommenting, because it changes that line from a \"comment\" which Python doesn't run to code, which Python does run."
   ]
  },
  {
   "cell_type": "code",
   "execution_count": 4,
   "id": "26cb41b4",
   "metadata": {
    "execution": {
     "iopub.execute_input": "2022-09-19T13:51:37.075509Z",
     "iopub.status.busy": "2022-09-19T13:51:37.075093Z",
     "iopub.status.idle": "2022-09-19T13:51:37.084118Z",
     "shell.execute_reply": "2022-09-19T13:51:37.082890Z"
    },
    "papermill": {
     "duration": 0.019293,
     "end_time": "2022-09-19T13:51:37.086365",
     "exception": false,
     "start_time": "2022-09-19T13:51:37.067072",
     "status": "completed"
    },
    "tags": []
   },
   "outputs": [
    {
     "data": {
      "application/javascript": [
       "parent.postMessage({\"jupyterEvent\": \"custom.exercise_interaction\", \"data\": {\"interactionType\": 2, \"questionType\": 2, \"questionId\": \"0_ExerciseFormatTutorial\", \"learnToolsVersion\": \"0.3.4\", \"valueTowardsCompletion\": 0.0, \"failureMessage\": \"\", \"exceptionClass\": \"\", \"trace\": \"\", \"outcomeType\": 4}}, \"*\")"
      ],
      "text/plain": [
       "<IPython.core.display.Javascript object>"
      ]
     },
     "metadata": {},
     "output_type": "display_data"
    },
    {
     "data": {
      "text/markdown": [
       "<span style=\"color:#3366cc\">Hint:</span> Your favorite color rhymes with *glue*."
      ],
      "text/plain": [
       "Hint: Your favorite color rhymes with *glue*."
      ]
     },
     "metadata": {},
     "output_type": "display_data"
    }
   ],
   "source": [
    "q0.hint()\n",
    "#q0.solution()"
   ]
  },
  {
   "cell_type": "markdown",
   "id": "f22cc1db",
   "metadata": {
    "papermill": {
     "duration": 0.007955,
     "end_time": "2022-09-19T13:51:37.101434",
     "exception": false,
     "start_time": "2022-09-19T13:51:37.093479",
     "status": "completed"
    },
    "tags": []
   },
   "source": [
    "The upcoming questions work the same way. The only thing that will change are the question numbers. For the next question, you'll call `q1.check()`, `q1.hint()`, `q1.solution()`, for question 2, you'll call `q2.check()`, and so on."
   ]
  },
  {
   "cell_type": "markdown",
   "id": "076c7136",
   "metadata": {
    "papermill": {
     "duration": 0.006745,
     "end_time": "2022-09-19T13:51:37.115288",
     "exception": false,
     "start_time": "2022-09-19T13:51:37.108543",
     "status": "completed"
    },
    "tags": []
   },
   "source": [
    "<hr/>\n",
    "\n",
    "# 1.\n",
    "\n",
    "Complete the code below. In case it's helpful, here is the table of available arithmetic operations:\n",
    "\n",
    "\n",
    "\n",
    "| Operator     | Name           | Description                                            |\n",
    "|--------------|----------------|--------------------------------------------------------|\n",
    "| ``a + b``    | Addition       | Sum of ``a`` and ``b``                                 |\n",
    "| ``a - b``    | Subtraction    | Difference of ``a`` and ``b``                          |\n",
    "| ``a * b``    | Multiplication | Product of ``a`` and ``b``                             |\n",
    "| ``a / b``    | True division  | Quotient of ``a`` and ``b``                            |\n",
    "| ``a // b``   | Floor division | Quotient of ``a`` and ``b``, removing fractional parts |\n",
    "| ``a % b``    | Modulus        | Integer remainder after division of ``a`` by ``b``     |\n",
    "| ``a ** b``   | Exponentiation | ``a`` raised to the power of ``b``                     |\n",
    "| ``-a``       | Negation       | The negative of ``a``                                  |\n",
    "\n",
    "<span style=\"display:none\"></span>\n"
   ]
  },
  {
   "cell_type": "code",
   "execution_count": 5,
   "id": "56cd5cdc",
   "metadata": {
    "execution": {
     "iopub.execute_input": "2022-09-19T13:51:37.131365Z",
     "iopub.status.busy": "2022-09-19T13:51:37.130884Z",
     "iopub.status.idle": "2022-09-19T13:51:37.138970Z",
     "shell.execute_reply": "2022-09-19T13:51:37.138204Z"
    },
    "papermill": {
     "duration": 0.018371,
     "end_time": "2022-09-19T13:51:37.140921",
     "exception": false,
     "start_time": "2022-09-19T13:51:37.122550",
     "status": "completed"
    },
    "tags": []
   },
   "outputs": [
    {
     "data": {
      "application/javascript": [
       "parent.postMessage({\"jupyterEvent\": \"custom.exercise_interaction\", \"data\": {\"outcomeType\": 1, \"valueTowardsCompletion\": 0.25, \"interactionType\": 1, \"questionType\": 1, \"questionId\": \"1_CircleArea\", \"learnToolsVersion\": \"0.3.4\", \"failureMessage\": \"\", \"exceptionClass\": \"\", \"trace\": \"\"}}, \"*\")"
      ],
      "text/plain": [
       "<IPython.core.display.Javascript object>"
      ]
     },
     "metadata": {},
     "output_type": "display_data"
    },
    {
     "data": {
      "text/markdown": [
       "<span style=\"color:#33cc33\">Correct</span>"
      ],
      "text/plain": [
       "Correct"
      ]
     },
     "metadata": {},
     "output_type": "display_data"
    }
   ],
   "source": [
    "pi = 3.14159 # approximate\n",
    "diameter = 3\n",
    "\n",
    "# Create a variable called 'radius' equal to half the diameter\n",
    "radius = diameter/2\n",
    "\n",
    "# Create a variable called 'area', using the formula for the area of a circle: pi times the radius squared\n",
    "area = pi*radius**2\n",
    "\n",
    "# Check your answer\n",
    "q1.check()"
   ]
  },
  {
   "cell_type": "code",
   "execution_count": 6,
   "id": "b32984a4",
   "metadata": {
    "execution": {
     "iopub.execute_input": "2022-09-19T13:51:37.157209Z",
     "iopub.status.busy": "2022-09-19T13:51:37.156554Z",
     "iopub.status.idle": "2022-09-19T13:51:37.160290Z",
     "shell.execute_reply": "2022-09-19T13:51:37.159519Z"
    },
    "papermill": {
     "duration": 0.014098,
     "end_time": "2022-09-19T13:51:37.162238",
     "exception": false,
     "start_time": "2022-09-19T13:51:37.148140",
     "status": "completed"
    },
    "tags": []
   },
   "outputs": [],
   "source": [
    "# Uncomment and run the lines below if you need help.\n",
    "#q1.hint()\n",
    "#q1.solution()"
   ]
  },
  {
   "cell_type": "markdown",
   "id": "8aa8604f",
   "metadata": {
    "papermill": {
     "duration": 0.006894,
     "end_time": "2022-09-19T13:51:37.176423",
     "exception": false,
     "start_time": "2022-09-19T13:51:37.169529",
     "status": "completed"
    },
    "tags": []
   },
   "source": [
    "<hr/>\n",
    "\n",
    "# 2.\n",
    "\n",
    "Add code to the following cell to swap variables `a` and `b` (so that `a` refers to the object previously referred to by `b` and vice versa)."
   ]
  },
  {
   "cell_type": "code",
   "execution_count": 7,
   "id": "9b9845fc",
   "metadata": {
    "execution": {
     "iopub.execute_input": "2022-09-19T13:51:37.192661Z",
     "iopub.status.busy": "2022-09-19T13:51:37.191826Z",
     "iopub.status.idle": "2022-09-19T13:51:37.200788Z",
     "shell.execute_reply": "2022-09-19T13:51:37.199805Z"
    },
    "papermill": {
     "duration": 0.019415,
     "end_time": "2022-09-19T13:51:37.202911",
     "exception": false,
     "start_time": "2022-09-19T13:51:37.183496",
     "status": "completed"
    },
    "tags": []
   },
   "outputs": [
    {
     "data": {
      "application/javascript": [
       "parent.postMessage({\"jupyterEvent\": \"custom.exercise_interaction\", \"data\": {\"outcomeType\": 1, \"valueTowardsCompletion\": 0.25, \"interactionType\": 1, \"questionType\": 2, \"questionId\": \"2_VariableSwap\", \"learnToolsVersion\": \"0.3.4\", \"failureMessage\": \"\", \"exceptionClass\": \"\", \"trace\": \"\"}}, \"*\")"
      ],
      "text/plain": [
       "<IPython.core.display.Javascript object>"
      ]
     },
     "metadata": {},
     "output_type": "display_data"
    },
    {
     "data": {
      "text/markdown": [
       "<span style=\"color:#33cc33\">Correct:</span> \n",
       "\n",
       "The most straightforward solution is to use a third variable to temporarily store one of the old values. e.g.:\n",
       "\n",
       "    tmp = a\n",
       "    a = b\n",
       "    b = tmp\n",
       "\n",
       "If you've read lots of Python code, you might have seen the following trick to swap two variables in one line:\n",
       "\n",
       "    a, b = b, a\n",
       "\n",
       "We'll demystify this bit of Python magic later when we talk about *tuples*."
      ],
      "text/plain": [
       "Correct: \n",
       "\n",
       "The most straightforward solution is to use a third variable to temporarily store one of the old values. e.g.:\n",
       "\n",
       "    tmp = a\n",
       "    a = b\n",
       "    b = tmp\n",
       "\n",
       "If you've read lots of Python code, you might have seen the following trick to swap two variables in one line:\n",
       "\n",
       "    a, b = b, a\n",
       "\n",
       "We'll demystify this bit of Python magic later when we talk about *tuples*."
      ]
     },
     "metadata": {},
     "output_type": "display_data"
    }
   ],
   "source": [
    "########### Setup code - don't touch this part ######################\n",
    "# If you're curious, these are examples of lists. We'll talk about \n",
    "# them in depth a few lessons from now. For now, just know that they're\n",
    "# yet another type of Python object, like int or float.\n",
    "a = [1, 2, 3]\n",
    "b = [3, 2, 1]\n",
    "q2.store_original_ids()\n",
    "######################################################################\n",
    "\n",
    "a, b = b, a\n",
    "\n",
    "######################################################################\n",
    "\n",
    "# Check your answer\n",
    "q2.check()"
   ]
  },
  {
   "cell_type": "code",
   "execution_count": 8,
   "id": "a28da222",
   "metadata": {
    "execution": {
     "iopub.execute_input": "2022-09-19T13:51:37.220072Z",
     "iopub.status.busy": "2022-09-19T13:51:37.219687Z",
     "iopub.status.idle": "2022-09-19T13:51:37.224224Z",
     "shell.execute_reply": "2022-09-19T13:51:37.223159Z"
    },
    "papermill": {
     "duration": 0.015743,
     "end_time": "2022-09-19T13:51:37.226345",
     "exception": false,
     "start_time": "2022-09-19T13:51:37.210602",
     "status": "completed"
    },
    "tags": []
   },
   "outputs": [],
   "source": [
    "#q2.hint()"
   ]
  },
  {
   "cell_type": "code",
   "execution_count": 9,
   "id": "147e2793",
   "metadata": {
    "execution": {
     "iopub.execute_input": "2022-09-19T13:51:37.243797Z",
     "iopub.status.busy": "2022-09-19T13:51:37.243092Z",
     "iopub.status.idle": "2022-09-19T13:51:37.246908Z",
     "shell.execute_reply": "2022-09-19T13:51:37.246145Z"
    },
    "papermill": {
     "duration": 0.014954,
     "end_time": "2022-09-19T13:51:37.248891",
     "exception": false,
     "start_time": "2022-09-19T13:51:37.233937",
     "status": "completed"
    },
    "tags": []
   },
   "outputs": [],
   "source": [
    "#q2.solution()"
   ]
  },
  {
   "cell_type": "markdown",
   "id": "d38b8ff9",
   "metadata": {
    "papermill": {
     "duration": 0.007408,
     "end_time": "2022-09-19T13:51:37.264127",
     "exception": false,
     "start_time": "2022-09-19T13:51:37.256719",
     "status": "completed"
    },
    "tags": []
   },
   "source": [
    "<hr/>\n",
    "\n",
    "# 3a.\n",
    "\n",
    "Add parentheses to the following expression so that it evaluates to 1."
   ]
  },
  {
   "cell_type": "code",
   "execution_count": 10,
   "id": "d5336667",
   "metadata": {
    "execution": {
     "iopub.execute_input": "2022-09-19T13:51:37.281074Z",
     "iopub.status.busy": "2022-09-19T13:51:37.280662Z",
     "iopub.status.idle": "2022-09-19T13:51:37.287252Z",
     "shell.execute_reply": "2022-09-19T13:51:37.286210Z"
    },
    "papermill": {
     "duration": 0.017427,
     "end_time": "2022-09-19T13:51:37.289298",
     "exception": false,
     "start_time": "2022-09-19T13:51:37.271871",
     "status": "completed"
    },
    "tags": []
   },
   "outputs": [
    {
     "data": {
      "text/plain": [
       "1"
      ]
     },
     "execution_count": 10,
     "metadata": {},
     "output_type": "execute_result"
    }
   ],
   "source": [
    "(5 - 3) // 2"
   ]
  },
  {
   "cell_type": "code",
   "execution_count": 11,
   "id": "7245bcab",
   "metadata": {
    "execution": {
     "iopub.execute_input": "2022-09-19T13:51:37.306714Z",
     "iopub.status.busy": "2022-09-19T13:51:37.305989Z",
     "iopub.status.idle": "2022-09-19T13:51:37.310131Z",
     "shell.execute_reply": "2022-09-19T13:51:37.309426Z"
    },
    "papermill": {
     "duration": 0.014861,
     "end_time": "2022-09-19T13:51:37.312026",
     "exception": false,
     "start_time": "2022-09-19T13:51:37.297165",
     "status": "completed"
    },
    "tags": []
   },
   "outputs": [],
   "source": [
    "#q3.a.hint()"
   ]
  },
  {
   "cell_type": "code",
   "execution_count": 12,
   "id": "e704153e",
   "metadata": {
    "execution": {
     "iopub.execute_input": "2022-09-19T13:51:37.329673Z",
     "iopub.status.busy": "2022-09-19T13:51:37.328526Z",
     "iopub.status.idle": "2022-09-19T13:51:37.337594Z",
     "shell.execute_reply": "2022-09-19T13:51:37.336729Z"
    },
    "papermill": {
     "duration": 0.020007,
     "end_time": "2022-09-19T13:51:37.339696",
     "exception": false,
     "start_time": "2022-09-19T13:51:37.319689",
     "status": "completed"
    },
    "tags": []
   },
   "outputs": [
    {
     "data": {
      "application/javascript": [
       "parent.postMessage({\"jupyterEvent\": \"custom.exercise_interaction\", \"data\": {\"interactionType\": 3, \"questionType\": 4, \"questionId\": \"3.1_ArithmeticParensEasy\", \"learnToolsVersion\": \"0.3.4\", \"valueTowardsCompletion\": 0.0, \"failureMessage\": \"\", \"exceptionClass\": \"\", \"trace\": \"\", \"outcomeType\": 4}}, \"*\")"
      ],
      "text/plain": [
       "<IPython.core.display.Javascript object>"
      ]
     },
     "metadata": {},
     "output_type": "display_data"
    },
    {
     "data": {
      "text/markdown": [
       "<span style=\"color:#33cc99\">Solution:</span> \n",
       "```python\n",
       "(5 - 3) // 2\n",
       "```"
      ],
      "text/plain": [
       "Solution: \n",
       "```python\n",
       "(5 - 3) // 2\n",
       "```"
      ]
     },
     "metadata": {},
     "output_type": "display_data"
    }
   ],
   "source": [
    "# Check your answer (Run this code cell to receive credit!)\n",
    "q3.a.solution()"
   ]
  },
  {
   "cell_type": "markdown",
   "id": "e4e589bb",
   "metadata": {
    "papermill": {
     "duration": 0.007559,
     "end_time": "2022-09-19T13:51:37.355266",
     "exception": false,
     "start_time": "2022-09-19T13:51:37.347707",
     "status": "completed"
    },
    "tags": []
   },
   "source": [
    "# 3b.  <span title=\"A bit spicy\" style=\"color: darkgreen \">🌶️</span>\n",
    "\n",
    "<small>Questions, like this one, marked a spicy pepper are a bit harder.</small>\n",
    "\n",
    "Add parentheses to the following expression so that it evaluates to 0."
   ]
  },
  {
   "cell_type": "code",
   "execution_count": 13,
   "id": "bd8697cc",
   "metadata": {
    "execution": {
     "iopub.execute_input": "2022-09-19T13:51:37.373405Z",
     "iopub.status.busy": "2022-09-19T13:51:37.372639Z",
     "iopub.status.idle": "2022-09-19T13:51:37.379472Z",
     "shell.execute_reply": "2022-09-19T13:51:37.378618Z"
    },
    "papermill": {
     "duration": 0.018398,
     "end_time": "2022-09-19T13:51:37.381631",
     "exception": false,
     "start_time": "2022-09-19T13:51:37.363233",
     "status": "completed"
    },
    "tags": []
   },
   "outputs": [
    {
     "data": {
      "text/plain": [
       "0"
      ]
     },
     "execution_count": 13,
     "metadata": {},
     "output_type": "execute_result"
    }
   ],
   "source": [
    "(8 - 3) * (2 - (1 + 1))"
   ]
  },
  {
   "cell_type": "code",
   "execution_count": 14,
   "id": "4fb0b7c9",
   "metadata": {
    "execution": {
     "iopub.execute_input": "2022-09-19T13:51:37.399900Z",
     "iopub.status.busy": "2022-09-19T13:51:37.399121Z",
     "iopub.status.idle": "2022-09-19T13:51:37.403751Z",
     "shell.execute_reply": "2022-09-19T13:51:37.402994Z"
    },
    "papermill": {
     "duration": 0.016171,
     "end_time": "2022-09-19T13:51:37.405869",
     "exception": false,
     "start_time": "2022-09-19T13:51:37.389698",
     "status": "completed"
    },
    "tags": []
   },
   "outputs": [],
   "source": [
    "#q3.b.hint()"
   ]
  },
  {
   "cell_type": "code",
   "execution_count": 15,
   "id": "22f56bf4",
   "metadata": {
    "execution": {
     "iopub.execute_input": "2022-09-19T13:51:37.424132Z",
     "iopub.status.busy": "2022-09-19T13:51:37.423384Z",
     "iopub.status.idle": "2022-09-19T13:51:37.432397Z",
     "shell.execute_reply": "2022-09-19T13:51:37.431521Z"
    },
    "papermill": {
     "duration": 0.020702,
     "end_time": "2022-09-19T13:51:37.434691",
     "exception": false,
     "start_time": "2022-09-19T13:51:37.413989",
     "status": "completed"
    },
    "tags": []
   },
   "outputs": [
    {
     "data": {
      "application/javascript": [
       "parent.postMessage({\"jupyterEvent\": \"custom.exercise_interaction\", \"data\": {\"interactionType\": 3, \"questionType\": 4, \"questionId\": \"3.2_ArithmeticParensHard\", \"learnToolsVersion\": \"0.3.4\", \"valueTowardsCompletion\": 0.0, \"failureMessage\": \"\", \"exceptionClass\": \"\", \"trace\": \"\", \"outcomeType\": 4}}, \"*\")"
      ],
      "text/plain": [
       "<IPython.core.display.Javascript object>"
      ]
     },
     "metadata": {},
     "output_type": "display_data"
    },
    {
     "data": {
      "text/markdown": [
       "<span style=\"color:#33cc99\">Solution:</span> `(8 - 3) * (2 - (1 + 1))` is one solution. There may be others."
      ],
      "text/plain": [
       "Solution: `(8 - 3) * (2 - (1 + 1))` is one solution. There may be others."
      ]
     },
     "metadata": {},
     "output_type": "display_data"
    }
   ],
   "source": [
    "# Check your answer (Run this code cell to receive credit!)\n",
    "q3.b.solution()"
   ]
  },
  {
   "cell_type": "markdown",
   "id": "546e2e19",
   "metadata": {
    "papermill": {
     "duration": 0.008342,
     "end_time": "2022-09-19T13:51:37.452051",
     "exception": false,
     "start_time": "2022-09-19T13:51:37.443709",
     "status": "completed"
    },
    "tags": []
   },
   "source": [
    "<hr/>\n",
    "\n",
    "# 4. \n",
    "Alice, Bob and Carol have agreed to pool their Halloween candy and split it evenly among themselves.\n",
    "For the sake of their friendship, any candies left over will be smashed. For example, if they collectively\n",
    "bring home 91 candies, they'll take 30 each and smash 1.\n",
    "\n",
    "Write an arithmetic expression below to calculate how many candies they must smash for a given haul."
   ]
  },
  {
   "cell_type": "code",
   "execution_count": 16,
   "id": "0068946c",
   "metadata": {
    "execution": {
     "iopub.execute_input": "2022-09-19T13:51:37.470909Z",
     "iopub.status.busy": "2022-09-19T13:51:37.470116Z",
     "iopub.status.idle": "2022-09-19T13:51:37.479962Z",
     "shell.execute_reply": "2022-09-19T13:51:37.479110Z"
    },
    "papermill": {
     "duration": 0.021476,
     "end_time": "2022-09-19T13:51:37.481977",
     "exception": false,
     "start_time": "2022-09-19T13:51:37.460501",
     "status": "completed"
    },
    "tags": []
   },
   "outputs": [
    {
     "data": {
      "application/javascript": [
       "parent.postMessage({\"jupyterEvent\": \"custom.exercise_interaction\", \"data\": {\"outcomeType\": 1, \"valueTowardsCompletion\": 0.25, \"interactionType\": 1, \"questionType\": 1, \"questionId\": \"4_CandySplitting\", \"learnToolsVersion\": \"0.3.4\", \"failureMessage\": \"\", \"exceptionClass\": \"\", \"trace\": \"\"}}, \"*\")"
      ],
      "text/plain": [
       "<IPython.core.display.Javascript object>"
      ]
     },
     "metadata": {},
     "output_type": "display_data"
    },
    {
     "data": {
      "text/markdown": [
       "<span style=\"color:#33cc33\">Correct</span>"
      ],
      "text/plain": [
       "Correct"
      ]
     },
     "metadata": {},
     "output_type": "display_data"
    }
   ],
   "source": [
    "# Variables representing the number of candies collected by alice, bob, and carol\n",
    "alice_candies = 121\n",
    "bob_candies = 77\n",
    "carol_candies = 109\n",
    "to_smash = (alice_candies + bob_candies + carol_candies) % 3\n",
    "# Your code goes here! Replace the right-hand side of this assignment with an expression\n",
    "# involving alice_candies, bob_candies, and carol_candies\n",
    "\n",
    "\n",
    "# Check your answer\n",
    "q4.check()"
   ]
  },
  {
   "cell_type": "code",
   "execution_count": 17,
   "id": "a04fec5e",
   "metadata": {
    "execution": {
     "iopub.execute_input": "2022-09-19T13:51:37.501347Z",
     "iopub.status.busy": "2022-09-19T13:51:37.500635Z",
     "iopub.status.idle": "2022-09-19T13:51:37.505513Z",
     "shell.execute_reply": "2022-09-19T13:51:37.504313Z"
    },
    "papermill": {
     "duration": 0.017261,
     "end_time": "2022-09-19T13:51:37.507925",
     "exception": false,
     "start_time": "2022-09-19T13:51:37.490664",
     "status": "completed"
    },
    "tags": []
   },
   "outputs": [],
   "source": [
    "#q4.hint()\n",
    "#q4.solution()"
   ]
  },
  {
   "cell_type": "markdown",
   "id": "9f60125b",
   "metadata": {
    "papermill": {
     "duration": 0.008396,
     "end_time": "2022-09-19T13:51:37.524958",
     "exception": false,
     "start_time": "2022-09-19T13:51:37.516562",
     "status": "completed"
    },
    "tags": []
   },
   "source": [
    "# Keep Going\n",
    "\n",
    "Next up, you'll **[learn to write new functions and understand functions others write](https://www.kaggle.com/colinmorris/functions-and-getting-help)**. This will make you at least 10 times more productive as a Python programmer. "
   ]
  },
  {
   "cell_type": "markdown",
   "id": "5b632976",
   "metadata": {
    "papermill": {
     "duration": 0.008254,
     "end_time": "2022-09-19T13:51:37.541690",
     "exception": false,
     "start_time": "2022-09-19T13:51:37.533436",
     "status": "completed"
    },
    "tags": []
   },
   "source": [
    "---\n",
    "\n",
    "\n",
    "\n",
    "\n",
    "*Have questions or comments? Visit the [course discussion forum](https://www.kaggle.com/learn/python/discussion) to chat with other learners.*"
   ]
  }
 ],
 "metadata": {
  "kernelspec": {
   "display_name": "Python 3",
   "language": "python",
   "name": "python3"
  },
  "language_info": {
   "codemirror_mode": {
    "name": "ipython",
    "version": 3
   },
   "file_extension": ".py",
   "mimetype": "text/x-python",
   "name": "python",
   "nbconvert_exporter": "python",
   "pygments_lexer": "ipython3",
   "version": "3.7.12"
  },
  "papermill": {
   "default_parameters": {},
   "duration": 10.020464,
   "end_time": "2022-09-19T13:51:38.171205",
   "environment_variables": {},
   "exception": null,
   "input_path": "__notebook__.ipynb",
   "output_path": "__notebook__.ipynb",
   "parameters": {},
   "start_time": "2022-09-19T13:51:28.150741",
   "version": "2.3.4"
  }
 },
 "nbformat": 4,
 "nbformat_minor": 5
}
