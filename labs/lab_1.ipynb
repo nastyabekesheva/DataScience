{
  "nbformat": 4,
  "nbformat_minor": 0,
  "metadata": {
    "colab": {
      "provenance": [],
      "authorship_tag": "ABX9TyM6IbyB81yK1qnYWdvblr+C",
      "include_colab_link": true
    },
    "kernelspec": {
      "name": "python3",
      "display_name": "Python 3"
    },
    "language_info": {
      "name": "python"
    }
  },
  "cells": [
    {
      "cell_type": "markdown",
      "metadata": {
        "id": "view-in-github",
        "colab_type": "text"
      },
      "source": [
        "<a href=\"https://colab.research.google.com/github/nastyabekesheva/DataScience/blob/main/labs/lab_1.ipynb\" target=\"_parent\"><img src=\"https://colab.research.google.com/assets/colab-badge.svg\" alt=\"Open In Colab\"/></a>"
      ]
    },
    {
      "cell_type": "code",
      "source": [
        "import pandas as pd\n",
        "import urllib.request\n",
        "from datetime import datetime\n",
        "import numpy as np\n"
      ],
      "metadata": {
        "id": "ttbnGB3Ib4lN"
      },
      "execution_count": 35,
      "outputs": []
    },
    {
      "cell_type": "code",
      "source": [
        "NOAAIndex = {\n",
        "        1:24,\n",
        "        2:25,\n",
        "        3:5,\n",
        "        4:6,\n",
        "        5:27,\n",
        "        6:23,\n",
        "        7:26,\n",
        "        8:7,\n",
        "        9:11,\n",
        "        10:13,\n",
        "        11:14,\n",
        "        12:15,\n",
        "        13:16,\n",
        "        14:17,\n",
        "        15:18,\n",
        "        16:19,\n",
        "        17:21,\n",
        "        18:22,\n",
        "        19:8,\n",
        "        20:9,\n",
        "        21:10,\n",
        "        22:1,\n",
        "        23:3,\n",
        "        24:2,\n",
        "        25:4, \n",
        "        26:12,\n",
        "        27:20 \n",
        "}"
      ],
      "metadata": {
        "id": "4yLjWe33dSv6"
      },
      "execution_count": 36,
      "outputs": []
    },
    {
      "cell_type": "code",
      "source": [
        "def download_data(index, min_year=1991, max_year=2022): \n",
        "    time = f\"{datetime.now().month}-{datetime.now().day}-{datetime.now().year}--{datetime.now().hour}:{datetime.now().minute}\"\n",
        "    url = f\"https://www.star.nesdis.noaa.gov/smcd/emb/vci/VH/get_TS_admin.php?country=UKR&provinceID={NOAAIndex[index]}&year1={min_year}&year2={max_year}&type=Mean\"\n",
        "    path = f\"vhi_{index}--{time}.csv\"\n",
        "    urllib.request.urlretrieve(url, path)\n",
        "    print(f\"File {path} downloaded successfully\")\n",
        "    \n",
        "for i in range(1,28):\n",
        "    download_data(i)"
      ],
      "metadata": {
        "id": "d_wUIRrsQkVk",
        "colab": {
          "base_uri": "https://localhost:8080/"
        },
        "outputId": "865d1923-c765-43c8-f655-009164e2f897"
      },
      "execution_count": 38,
      "outputs": [
        {
          "output_type": "stream",
          "name": "stdout",
          "text": [
            "File vhi_1--10-4-2022--20:8.csv downloaded successfully\n",
            "File vhi_2--10-4-2022--20:8.csv downloaded successfully\n",
            "File vhi_3--10-4-2022--20:8.csv downloaded successfully\n",
            "File vhi_4--10-4-2022--20:8.csv downloaded successfully\n",
            "File vhi_5--10-4-2022--20:8.csv downloaded successfully\n",
            "File vhi_6--10-4-2022--20:8.csv downloaded successfully\n",
            "File vhi_7--10-4-2022--20:8.csv downloaded successfully\n",
            "File vhi_8--10-4-2022--20:8.csv downloaded successfully\n",
            "File vhi_9--10-4-2022--20:8.csv downloaded successfully\n",
            "File vhi_10--10-4-2022--20:8.csv downloaded successfully\n",
            "File vhi_11--10-4-2022--20:8.csv downloaded successfully\n",
            "File vhi_12--10-4-2022--20:8.csv downloaded successfully\n",
            "File vhi_13--10-4-2022--20:8.csv downloaded successfully\n",
            "File vhi_14--10-4-2022--20:8.csv downloaded successfully\n",
            "File vhi_15--10-4-2022--20:8.csv downloaded successfully\n",
            "File vhi_16--10-4-2022--20:8.csv downloaded successfully\n",
            "File vhi_17--10-4-2022--20:8.csv downloaded successfully\n",
            "File vhi_18--10-4-2022--20:8.csv downloaded successfully\n",
            "File vhi_19--10-4-2022--20:8.csv downloaded successfully\n",
            "File vhi_20--10-4-2022--20:8.csv downloaded successfully\n",
            "File vhi_21--10-4-2022--20:8.csv downloaded successfully\n",
            "File vhi_22--10-4-2022--20:8.csv downloaded successfully\n",
            "File vhi_23--10-4-2022--20:8.csv downloaded successfully\n",
            "File vhi_24--10-4-2022--20:8.csv downloaded successfully\n",
            "File vhi_25--10-4-2022--20:8.csv downloaded successfully\n",
            "File vhi_26--10-4-2022--20:8.csv downloaded successfully\n",
            "File vhi_27--10-4-2022--20:8.csv downloaded successfully\n"
          ]
        }
      ]
    },
    {
      "cell_type": "code",
      "source": [
        "def load_data_to_df(index):\n",
        "  columns = ['Year', 'Week', 'SMN', 'SMT', 'VCI', 'TCI', 'VHI']\n",
        "  df = pd.read_csv(f\"vhi_{index}--10-4-2022--19:43.csv\", names = columns)\n",
        "  df = df.dropna()\n",
        "  df.drop(index=df.index[0], \n",
        "        axis=0, \n",
        "        inplace=True)\n",
        "  df['Region'] = np.repeat(str(index), len(df['Week']))\n",
        "  \n",
        "  return df"
      ],
      "metadata": {
        "id": "UKvrt064lMTY"
      },
      "execution_count": 77,
      "outputs": []
    },
    {
      "cell_type": "code",
      "source": [
        "def merge_df(data):\n",
        "  df = pd.concat(data, ignore_index = True)\n",
        "  df.reset_index()\n",
        "\n",
        "  return df"
      ],
      "metadata": {
        "id": "NjBhh7UKnHLw"
      },
      "execution_count": 78,
      "outputs": []
    },
    {
      "cell_type": "code",
      "source": [
        "def max_vhi(df, year, region):\n",
        "  df = df.loc[(df['Year'] == year) & (df['Region'] == region)]\n",
        "\n",
        "  return df.loc[df['VHI'].idxmax()]"
      ],
      "metadata": {
        "id": "Y2kjVAng0CTn"
      },
      "execution_count": 87,
      "outputs": []
    },
    {
      "cell_type": "code",
      "source": [
        "def min_vhi(df, year, region):\n",
        "  df = df.loc[(df['Year'] == year) & (df['Region'] == region)]\n",
        "\n",
        "  return df.loc[df['VHI'].idxmin()]"
      ],
      "metadata": {
        "id": "vxFFomvE5e2B"
      },
      "execution_count": 93,
      "outputs": []
    },
    {
      "cell_type": "code",
      "source": [
        "def extreme_vhi(df, region):\n",
        "  df = df.loc[df['Region'] == region]\n",
        "\n",
        "  return df.loc[df['VHI'] < 15]"
      ],
      "metadata": {
        "id": "Ojc5i9uA5x9r"
      },
      "execution_count": 108,
      "outputs": []
    },
    {
      "cell_type": "code",
      "source": [
        "def moderate_vhi(df, region):\n",
        "  df = df.loc[df['Region'] == region]\n",
        "\n",
        "  return df.loc[(df['VHI'] > 15) & (df['VHI'] < 35)]"
      ],
      "metadata": {
        "id": "WmB-AXG17aP5"
      },
      "execution_count": 110,
      "outputs": []
    },
    {
      "cell_type": "code",
      "source": [
        "data = []\n",
        "for i in range(1, 28):\n",
        "  data.append(load_data_to_df(i))\n",
        "\n",
        "df = merge_df(data)\n",
        "df['VHI'] = pd.to_numeric(df['VHI'])\n",
        "pd.DataFrame.from_dict(max_vhi(df, '1999', '1'))\n",
        "#pd.DataFrame.from_dict(min_vhi(df, '1999', '1'))\n",
        "#pd.DataFrame.from_dict(extreme_vhi(df, '1'))\n",
        "#pd.DataFrame.from_dict(moderate_vhi(df, '1'))"
      ],
      "metadata": {
        "colab": {
          "base_uri": "https://localhost:8080/",
          "height": 297
        },
        "id": "IJOYnXlyndRg",
        "outputId": "e0c5b37e-6a27-47d2-bd6a-6aa925a45f03"
      },
      "execution_count": 112,
      "outputs": [
        {
          "output_type": "execute_result",
          "data": {
            "text/plain": [
              "           435\n",
              "Year      1999\n",
              "Week        20\n",
              "SMN      0.432\n",
              "SMT     295.11\n",
              "VCI      83.11\n",
              "TCI      41.62\n",
              "VHI      62.36\n",
              "Region       1"
            ],
            "text/html": [
              "\n",
              "  <div id=\"df-181f7666-34d6-4c28-a1d0-6ed729e125fb\">\n",
              "    <div class=\"colab-df-container\">\n",
              "      <div>\n",
              "<style scoped>\n",
              "    .dataframe tbody tr th:only-of-type {\n",
              "        vertical-align: middle;\n",
              "    }\n",
              "\n",
              "    .dataframe tbody tr th {\n",
              "        vertical-align: top;\n",
              "    }\n",
              "\n",
              "    .dataframe thead th {\n",
              "        text-align: right;\n",
              "    }\n",
              "</style>\n",
              "<table border=\"1\" class=\"dataframe\">\n",
              "  <thead>\n",
              "    <tr style=\"text-align: right;\">\n",
              "      <th></th>\n",
              "      <th>435</th>\n",
              "    </tr>\n",
              "  </thead>\n",
              "  <tbody>\n",
              "    <tr>\n",
              "      <th>Year</th>\n",
              "      <td>1999</td>\n",
              "    </tr>\n",
              "    <tr>\n",
              "      <th>Week</th>\n",
              "      <td>20</td>\n",
              "    </tr>\n",
              "    <tr>\n",
              "      <th>SMN</th>\n",
              "      <td>0.432</td>\n",
              "    </tr>\n",
              "    <tr>\n",
              "      <th>SMT</th>\n",
              "      <td>295.11</td>\n",
              "    </tr>\n",
              "    <tr>\n",
              "      <th>VCI</th>\n",
              "      <td>83.11</td>\n",
              "    </tr>\n",
              "    <tr>\n",
              "      <th>TCI</th>\n",
              "      <td>41.62</td>\n",
              "    </tr>\n",
              "    <tr>\n",
              "      <th>VHI</th>\n",
              "      <td>62.36</td>\n",
              "    </tr>\n",
              "    <tr>\n",
              "      <th>Region</th>\n",
              "      <td>1</td>\n",
              "    </tr>\n",
              "  </tbody>\n",
              "</table>\n",
              "</div>\n",
              "      <button class=\"colab-df-convert\" onclick=\"convertToInteractive('df-181f7666-34d6-4c28-a1d0-6ed729e125fb')\"\n",
              "              title=\"Convert this dataframe to an interactive table.\"\n",
              "              style=\"display:none;\">\n",
              "        \n",
              "  <svg xmlns=\"http://www.w3.org/2000/svg\" height=\"24px\"viewBox=\"0 0 24 24\"\n",
              "       width=\"24px\">\n",
              "    <path d=\"M0 0h24v24H0V0z\" fill=\"none\"/>\n",
              "    <path d=\"M18.56 5.44l.94 2.06.94-2.06 2.06-.94-2.06-.94-.94-2.06-.94 2.06-2.06.94zm-11 1L8.5 8.5l.94-2.06 2.06-.94-2.06-.94L8.5 2.5l-.94 2.06-2.06.94zm10 10l.94 2.06.94-2.06 2.06-.94-2.06-.94-.94-2.06-.94 2.06-2.06.94z\"/><path d=\"M17.41 7.96l-1.37-1.37c-.4-.4-.92-.59-1.43-.59-.52 0-1.04.2-1.43.59L10.3 9.45l-7.72 7.72c-.78.78-.78 2.05 0 2.83L4 21.41c.39.39.9.59 1.41.59.51 0 1.02-.2 1.41-.59l7.78-7.78 2.81-2.81c.8-.78.8-2.07 0-2.86zM5.41 20L4 18.59l7.72-7.72 1.47 1.35L5.41 20z\"/>\n",
              "  </svg>\n",
              "      </button>\n",
              "      \n",
              "  <style>\n",
              "    .colab-df-container {\n",
              "      display:flex;\n",
              "      flex-wrap:wrap;\n",
              "      gap: 12px;\n",
              "    }\n",
              "\n",
              "    .colab-df-convert {\n",
              "      background-color: #E8F0FE;\n",
              "      border: none;\n",
              "      border-radius: 50%;\n",
              "      cursor: pointer;\n",
              "      display: none;\n",
              "      fill: #1967D2;\n",
              "      height: 32px;\n",
              "      padding: 0 0 0 0;\n",
              "      width: 32px;\n",
              "    }\n",
              "\n",
              "    .colab-df-convert:hover {\n",
              "      background-color: #E2EBFA;\n",
              "      box-shadow: 0px 1px 2px rgba(60, 64, 67, 0.3), 0px 1px 3px 1px rgba(60, 64, 67, 0.15);\n",
              "      fill: #174EA6;\n",
              "    }\n",
              "\n",
              "    [theme=dark] .colab-df-convert {\n",
              "      background-color: #3B4455;\n",
              "      fill: #D2E3FC;\n",
              "    }\n",
              "\n",
              "    [theme=dark] .colab-df-convert:hover {\n",
              "      background-color: #434B5C;\n",
              "      box-shadow: 0px 1px 3px 1px rgba(0, 0, 0, 0.15);\n",
              "      filter: drop-shadow(0px 1px 2px rgba(0, 0, 0, 0.3));\n",
              "      fill: #FFFFFF;\n",
              "    }\n",
              "  </style>\n",
              "\n",
              "      <script>\n",
              "        const buttonEl =\n",
              "          document.querySelector('#df-181f7666-34d6-4c28-a1d0-6ed729e125fb button.colab-df-convert');\n",
              "        buttonEl.style.display =\n",
              "          google.colab.kernel.accessAllowed ? 'block' : 'none';\n",
              "\n",
              "        async function convertToInteractive(key) {\n",
              "          const element = document.querySelector('#df-181f7666-34d6-4c28-a1d0-6ed729e125fb');\n",
              "          const dataTable =\n",
              "            await google.colab.kernel.invokeFunction('convertToInteractive',\n",
              "                                                     [key], {});\n",
              "          if (!dataTable) return;\n",
              "\n",
              "          const docLinkHtml = 'Like what you see? Visit the ' +\n",
              "            '<a target=\"_blank\" href=https://colab.research.google.com/notebooks/data_table.ipynb>data table notebook</a>'\n",
              "            + ' to learn more about interactive tables.';\n",
              "          element.innerHTML = '';\n",
              "          dataTable['output_type'] = 'display_data';\n",
              "          await google.colab.output.renderOutput(dataTable, element);\n",
              "          const docLink = document.createElement('div');\n",
              "          docLink.innerHTML = docLinkHtml;\n",
              "          element.appendChild(docLink);\n",
              "        }\n",
              "      </script>\n",
              "    </div>\n",
              "  </div>\n",
              "  "
            ]
          },
          "metadata": {},
          "execution_count": 112
        }
      ]
    }
  ]
}