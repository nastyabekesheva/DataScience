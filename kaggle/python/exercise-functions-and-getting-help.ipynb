{
 "cells": [
  {
   "cell_type": "markdown",
   "id": "e6bb033e",
   "metadata": {
    "papermill": {
     "duration": 0.006059,
     "end_time": "2022-09-19T14:08:39.503650",
     "exception": false,
     "start_time": "2022-09-19T14:08:39.497591",
     "status": "completed"
    },
    "tags": []
   },
   "source": [
    "**This notebook is an exercise in the [Python](https://www.kaggle.com/learn/python) course.  You can reference the tutorial at [this link](https://www.kaggle.com/colinmorris/functions-and-getting-help).**\n",
    "\n",
    "---\n"
   ]
  },
  {
   "cell_type": "markdown",
   "id": "979cb0be",
   "metadata": {
    "papermill": {
     "duration": 0.004541,
     "end_time": "2022-09-19T14:08:39.513336",
     "exception": false,
     "start_time": "2022-09-19T14:08:39.508795",
     "status": "completed"
    },
    "tags": []
   },
   "source": [
    "Functions are powerful. Try writing some yourself.\n",
    "\n",
    "As before, don't forget to run the setup code below before jumping into question 1."
   ]
  },
  {
   "cell_type": "code",
   "execution_count": 1,
   "id": "c940111a",
   "metadata": {
    "_kg_hide-input": true,
    "_kg_hide-output": true,
    "execution": {
     "iopub.execute_input": "2022-09-19T14:08:39.526669Z",
     "iopub.status.busy": "2022-09-19T14:08:39.525253Z",
     "iopub.status.idle": "2022-09-19T14:08:39.586330Z",
     "shell.execute_reply": "2022-09-19T14:08:39.584985Z"
    },
    "papermill": {
     "duration": 0.071444,
     "end_time": "2022-09-19T14:08:39.590066",
     "exception": false,
     "start_time": "2022-09-19T14:08:39.518622",
     "status": "completed"
    },
    "tags": []
   },
   "outputs": [
    {
     "name": "stdout",
     "output_type": "stream",
     "text": [
      "Setup complete.\n"
     ]
    }
   ],
   "source": [
    "# SETUP. You don't need to worry for now about what this code does or how it works.\n",
    "from learntools.core import binder; binder.bind(globals())\n",
    "from learntools.python.ex2 import *\n",
    "print('Setup complete.')"
   ]
  },
  {
   "cell_type": "markdown",
   "id": "024160d6",
   "metadata": {
    "papermill": {
     "duration": 0.004786,
     "end_time": "2022-09-19T14:08:39.599948",
     "exception": false,
     "start_time": "2022-09-19T14:08:39.595162",
     "status": "completed"
    },
    "tags": []
   },
   "source": [
    "# 1.\n",
    "\n",
    "Complete the body of the following function according to its docstring.\n",
    "\n",
    "HINT: Python has a built-in function `round`."
   ]
  },
  {
   "cell_type": "code",
   "execution_count": 2,
   "id": "4886eac4",
   "metadata": {
    "execution": {
     "iopub.execute_input": "2022-09-19T14:08:39.612263Z",
     "iopub.status.busy": "2022-09-19T14:08:39.611634Z",
     "iopub.status.idle": "2022-09-19T14:08:39.623642Z",
     "shell.execute_reply": "2022-09-19T14:08:39.622502Z"
    },
    "papermill": {
     "duration": 0.020654,
     "end_time": "2022-09-19T14:08:39.625740",
     "exception": false,
     "start_time": "2022-09-19T14:08:39.605086",
     "status": "completed"
    },
    "tags": []
   },
   "outputs": [
    {
     "data": {
      "application/javascript": [
       "parent.postMessage({\"jupyterEvent\": \"custom.exercise_interaction\", \"data\": {\"outcomeType\": 1, \"valueTowardsCompletion\": 0.16666666666666666, \"interactionType\": 1, \"questionType\": 2, \"questionId\": \"1_RoundFunctionProblem\", \"learnToolsVersion\": \"0.3.4\", \"failureMessage\": \"\", \"exceptionClass\": \"\", \"trace\": \"\"}}, \"*\")"
      ],
      "text/plain": [
       "<IPython.core.display.Javascript object>"
      ]
     },
     "metadata": {},
     "output_type": "display_data"
    },
    {
     "data": {
      "text/markdown": [
       "<span style=\"color:#33cc33\">Correct</span>"
      ],
      "text/plain": [
       "Correct"
      ]
     },
     "metadata": {},
     "output_type": "display_data"
    }
   ],
   "source": [
    "def round_to_two_places(num):\n",
    "    \"\"\"Return the given number rounded to two decimal places. \n",
    "    \n",
    "    >>> round_to_two_places(3.14159)\n",
    "    3.14\n",
    "    \"\"\"\n",
    "    # Replace this body with your own code.\n",
    "    # (\"pass\" is a keyword that does literally nothing. We used it as a placeholder\n",
    "    # because after we begin a code block, Python requires at least one line of code)\n",
    "    num = round(num, 2)\n",
    "    return num\n",
    "\n",
    "# Check your answer\n",
    "q1.check()"
   ]
  },
  {
   "cell_type": "code",
   "execution_count": 3,
   "id": "a1441507",
   "metadata": {
    "execution": {
     "iopub.execute_input": "2022-09-19T14:08:39.637912Z",
     "iopub.status.busy": "2022-09-19T14:08:39.637526Z",
     "iopub.status.idle": "2022-09-19T14:08:39.642639Z",
     "shell.execute_reply": "2022-09-19T14:08:39.641227Z"
    },
    "papermill": {
     "duration": 0.014033,
     "end_time": "2022-09-19T14:08:39.645016",
     "exception": false,
     "start_time": "2022-09-19T14:08:39.630983",
     "status": "completed"
    },
    "tags": []
   },
   "outputs": [],
   "source": [
    "# Uncomment the following for a hint\n",
    "#q1.hint()\n",
    "# Or uncomment the following to peek at the solution\n",
    "#q1.solution()"
   ]
  },
  {
   "cell_type": "markdown",
   "id": "59b331cf",
   "metadata": {
    "papermill": {
     "duration": 0.005054,
     "end_time": "2022-09-19T14:08:39.655717",
     "exception": false,
     "start_time": "2022-09-19T14:08:39.650663",
     "status": "completed"
    },
    "tags": []
   },
   "source": [
    "# 2.\n",
    "The help for `round` says that `ndigits` (the second argument) may be negative.\n",
    "What do you think will happen when it is? Try some examples in the following cell."
   ]
  },
  {
   "cell_type": "code",
   "execution_count": 4,
   "id": "6c46e205",
   "metadata": {
    "execution": {
     "iopub.execute_input": "2022-09-19T14:08:39.668263Z",
     "iopub.status.busy": "2022-09-19T14:08:39.667879Z",
     "iopub.status.idle": "2022-09-19T14:08:39.675166Z",
     "shell.execute_reply": "2022-09-19T14:08:39.673892Z"
    },
    "papermill": {
     "duration": 0.016622,
     "end_time": "2022-09-19T14:08:39.677647",
     "exception": false,
     "start_time": "2022-09-19T14:08:39.661025",
     "status": "completed"
    },
    "tags": []
   },
   "outputs": [
    {
     "data": {
      "text/plain": [
       "20.0"
      ]
     },
     "execution_count": 4,
     "metadata": {},
     "output_type": "execute_result"
    }
   ],
   "source": [
    "# Put your test code here\n",
    "round(17.4729, -1)"
   ]
  },
  {
   "cell_type": "markdown",
   "id": "83a79245",
   "metadata": {
    "papermill": {
     "duration": 0.005086,
     "end_time": "2022-09-19T14:08:39.688215",
     "exception": false,
     "start_time": "2022-09-19T14:08:39.683129",
     "status": "completed"
    },
    "tags": []
   },
   "source": []
  },
  {
   "cell_type": "markdown",
   "id": "1ffbf3df",
   "metadata": {
    "papermill": {
     "duration": 0.004976,
     "end_time": "2022-09-19T14:08:39.698548",
     "exception": false,
     "start_time": "2022-09-19T14:08:39.693572",
     "status": "completed"
    },
    "tags": []
   },
   "source": [
    "Can you think of a case where this would be useful?  Once you're ready, run the code cell below to see the answer and to receive credit for completing the problem."
   ]
  },
  {
   "cell_type": "code",
   "execution_count": 5,
   "id": "8bac3f69",
   "metadata": {
    "execution": {
     "iopub.execute_input": "2022-09-19T14:08:39.710964Z",
     "iopub.status.busy": "2022-09-19T14:08:39.710590Z",
     "iopub.status.idle": "2022-09-19T14:08:39.719361Z",
     "shell.execute_reply": "2022-09-19T14:08:39.718303Z"
    },
    "papermill": {
     "duration": 0.017809,
     "end_time": "2022-09-19T14:08:39.721732",
     "exception": false,
     "start_time": "2022-09-19T14:08:39.703923",
     "status": "completed"
    },
    "tags": []
   },
   "outputs": [
    {
     "data": {
      "application/javascript": [
       "parent.postMessage({\"jupyterEvent\": \"custom.exercise_interaction\", \"data\": {\"interactionType\": 3, \"questionType\": 4, \"questionId\": \"2_RoundNdigitsProblem\", \"learnToolsVersion\": \"0.3.4\", \"valueTowardsCompletion\": 0.0, \"failureMessage\": \"\", \"exceptionClass\": \"\", \"trace\": \"\", \"outcomeType\": 4}}, \"*\")"
      ],
      "text/plain": [
       "<IPython.core.display.Javascript object>"
      ]
     },
     "metadata": {},
     "output_type": "display_data"
    },
    {
     "data": {
      "text/markdown": [
       "<span style=\"color:#33cc99\">Solution:</span> As you've seen, `ndigits=-1` rounds to the nearest 10, `ndigits=-2` rounds to the nearest 100 and so on. Where might this be useful? Suppose we're dealing with large numbers:\n",
       "\n",
       "> The area of Finland is 338,424 km²  \n",
       "> The area of Greenland is 2,166,086 km²\n",
       "\n",
       "We probably don't care whether it's really 338,424, or 338,425, or 338,177. All those digits of accuracy are just distracting. We can chop them off by calling `round()` with `ndigits=-3`:\n",
       "\n",
       "> The area of Finland is 338,000 km²  \n",
       "> The area of Greenland is 2,166,000 km²\n",
       "\n",
       "(We'll talk about how we would get the commas later when we talk about string formatting :))\n"
      ],
      "text/plain": [
       "Solution: As you've seen, `ndigits=-1` rounds to the nearest 10, `ndigits=-2` rounds to the nearest 100 and so on. Where might this be useful? Suppose we're dealing with large numbers:\n",
       "\n",
       "> The area of Finland is 338,424 km²  \n",
       "> The area of Greenland is 2,166,086 km²\n",
       "\n",
       "We probably don't care whether it's really 338,424, or 338,425, or 338,177. All those digits of accuracy are just distracting. We can chop them off by calling `round()` with `ndigits=-3`:\n",
       "\n",
       "> The area of Finland is 338,000 km²  \n",
       "> The area of Greenland is 2,166,000 km²\n",
       "\n",
       "(We'll talk about how we would get the commas later when we talk about string formatting :))"
      ]
     },
     "metadata": {},
     "output_type": "display_data"
    }
   ],
   "source": [
    "# Check your answer (Run this code cell to receive credit!)\n",
    "q2.solution()"
   ]
  },
  {
   "cell_type": "markdown",
   "id": "07c32429",
   "metadata": {
    "papermill": {
     "duration": 0.00537,
     "end_time": "2022-09-19T14:08:39.732808",
     "exception": false,
     "start_time": "2022-09-19T14:08:39.727438",
     "status": "completed"
    },
    "tags": []
   },
   "source": [
    "# 3.\n",
    "\n",
    "In the previous exercise, the candy-sharing friends Alice, Bob and Carol tried to split candies evenly. For the sake of their friendship, any candies left over would be smashed. For example, if they collectively bring home 91 candies, they'll take 30 each and smash 1.\n",
    "\n",
    "Below is a simple function that will calculate the number of candies to smash for *any* number of total candies.\n",
    "\n",
    "Modify it so that it optionally takes a second argument representing the number of friends the candies are being split between. If no second argument is provided, it should assume 3 friends, as before.\n",
    "\n",
    "Update the docstring to reflect this new behaviour."
   ]
  },
  {
   "cell_type": "code",
   "execution_count": 6,
   "id": "8c8d2d0e",
   "metadata": {
    "execution": {
     "iopub.execute_input": "2022-09-19T14:08:39.746906Z",
     "iopub.status.busy": "2022-09-19T14:08:39.746529Z",
     "iopub.status.idle": "2022-09-19T14:08:39.754245Z",
     "shell.execute_reply": "2022-09-19T14:08:39.753490Z"
    },
    "papermill": {
     "duration": 0.017783,
     "end_time": "2022-09-19T14:08:39.756446",
     "exception": false,
     "start_time": "2022-09-19T14:08:39.738663",
     "status": "completed"
    },
    "tags": []
   },
   "outputs": [
    {
     "data": {
      "application/javascript": [
       "parent.postMessage({\"jupyterEvent\": \"custom.exercise_interaction\", \"data\": {\"outcomeType\": 1, \"valueTowardsCompletion\": 0.16666666666666666, \"interactionType\": 1, \"questionType\": 2, \"questionId\": \"3_CandySmashingFunctionProblem\", \"learnToolsVersion\": \"0.3.4\", \"failureMessage\": \"\", \"exceptionClass\": \"\", \"trace\": \"\"}}, \"*\")"
      ],
      "text/plain": [
       "<IPython.core.display.Javascript object>"
      ]
     },
     "metadata": {},
     "output_type": "display_data"
    },
    {
     "data": {
      "text/markdown": [
       "<span style=\"color:#33cc33\">Correct</span>"
      ],
      "text/plain": [
       "Correct"
      ]
     },
     "metadata": {},
     "output_type": "display_data"
    }
   ],
   "source": [
    "def to_smash(total_candies, n = 3):\n",
    "    \"\"\"Return the number of leftover candies that must be smashed after distributing\n",
    "    the given number of candies evenly between 3 friends.\n",
    "    \n",
    "    >>> to_smash(91)\n",
    "    1\n",
    "    \"\"\"\n",
    "    return total_candies % n\n",
    "\n",
    "# Check your answer\n",
    "q3.check()"
   ]
  },
  {
   "cell_type": "code",
   "execution_count": 7,
   "id": "0fc52f41",
   "metadata": {
    "execution": {
     "iopub.execute_input": "2022-09-19T14:08:39.769611Z",
     "iopub.status.busy": "2022-09-19T14:08:39.769232Z",
     "iopub.status.idle": "2022-09-19T14:08:39.774153Z",
     "shell.execute_reply": "2022-09-19T14:08:39.772993Z"
    },
    "papermill": {
     "duration": 0.01414,
     "end_time": "2022-09-19T14:08:39.776373",
     "exception": false,
     "start_time": "2022-09-19T14:08:39.762233",
     "status": "completed"
    },
    "tags": []
   },
   "outputs": [],
   "source": [
    "#q3.hint()"
   ]
  },
  {
   "cell_type": "code",
   "execution_count": 8,
   "id": "aea8d117",
   "metadata": {
    "execution": {
     "iopub.execute_input": "2022-09-19T14:08:39.789864Z",
     "iopub.status.busy": "2022-09-19T14:08:39.789131Z",
     "iopub.status.idle": "2022-09-19T14:08:39.793937Z",
     "shell.execute_reply": "2022-09-19T14:08:39.792807Z"
    },
    "papermill": {
     "duration": 0.013961,
     "end_time": "2022-09-19T14:08:39.796126",
     "exception": false,
     "start_time": "2022-09-19T14:08:39.782165",
     "status": "completed"
    },
    "tags": []
   },
   "outputs": [],
   "source": [
    "#q3.solution()"
   ]
  },
  {
   "cell_type": "markdown",
   "id": "ea31cde1",
   "metadata": {
    "papermill": {
     "duration": 0.005474,
     "end_time": "2022-09-19T14:08:39.807547",
     "exception": false,
     "start_time": "2022-09-19T14:08:39.802073",
     "status": "completed"
    },
    "tags": []
   },
   "source": [
    "# 4. (Optional)\n",
    "\n",
    "It may not be fun, but reading and understanding error messages will be an important part of your Python career.\n",
    "\n",
    "Each code cell below contains some commented buggy code. For each cell...\n",
    "\n",
    "1. Read the code and predict what you think will happen when it's run.\n",
    "2. Then uncomment the code and run it to see what happens. (**Tip**: In the kernel editor, you can highlight several lines and press `ctrl`+`/` to toggle commenting.)\n",
    "3. Fix the code (so that it accomplishes its intended purpose without throwing an exception)\n",
    "\n",
    "<!-- TODO: should this be autochecked? Delta is probably pretty small. -->"
   ]
  },
  {
   "cell_type": "code",
   "execution_count": 9,
   "id": "331f7f0c",
   "metadata": {
    "execution": {
     "iopub.execute_input": "2022-09-19T14:08:39.820800Z",
     "iopub.status.busy": "2022-09-19T14:08:39.820383Z",
     "iopub.status.idle": "2022-09-19T14:08:39.827491Z",
     "shell.execute_reply": "2022-09-19T14:08:39.826344Z"
    },
    "papermill": {
     "duration": 0.016342,
     "end_time": "2022-09-19T14:08:39.829667",
     "exception": false,
     "start_time": "2022-09-19T14:08:39.813325",
     "status": "completed"
    },
    "tags": []
   },
   "outputs": [
    {
     "data": {
      "text/plain": [
       "10.0"
      ]
     },
     "execution_count": 9,
     "metadata": {},
     "output_type": "execute_result"
    }
   ],
   "source": [
    " round_to_two_places(9.9999)"
   ]
  },
  {
   "cell_type": "code",
   "execution_count": 10,
   "id": "8f4c017f",
   "metadata": {
    "execution": {
     "iopub.execute_input": "2022-09-19T14:08:39.843518Z",
     "iopub.status.busy": "2022-09-19T14:08:39.843095Z",
     "iopub.status.idle": "2022-09-19T14:08:39.847962Z",
     "shell.execute_reply": "2022-09-19T14:08:39.846939Z"
    },
    "papermill": {
     "duration": 0.015124,
     "end_time": "2022-09-19T14:08:39.850770",
     "exception": false,
     "start_time": "2022-09-19T14:08:39.835646",
     "status": "completed"
    },
    "tags": []
   },
   "outputs": [],
   "source": [
    "x = -10\n",
    "y = 5\n",
    " # Which of the two variables above has the smallest absolute value?\n",
    "smallest_abs = min(abs(x), abs(y))"
   ]
  },
  {
   "cell_type": "code",
   "execution_count": 11,
   "id": "854cead4",
   "metadata": {
    "execution": {
     "iopub.execute_input": "2022-09-19T14:08:39.864875Z",
     "iopub.status.busy": "2022-09-19T14:08:39.864468Z",
     "iopub.status.idle": "2022-09-19T14:08:39.869694Z",
     "shell.execute_reply": "2022-09-19T14:08:39.868926Z"
    },
    "papermill": {
     "duration": 0.015432,
     "end_time": "2022-09-19T14:08:39.872279",
     "exception": false,
     "start_time": "2022-09-19T14:08:39.856847",
     "status": "completed"
    },
    "tags": []
   },
   "outputs": [
    {
     "name": "stdout",
     "output_type": "stream",
     "text": [
      "5\n"
     ]
    }
   ],
   "source": [
    "def f(x):\n",
    "    y = abs(x)\n",
    "    return y\n",
    "\n",
    "print(f(5))"
   ]
  },
  {
   "cell_type": "markdown",
   "id": "9ef3679b",
   "metadata": {
    "papermill": {
     "duration": 0.007621,
     "end_time": "2022-09-19T14:08:39.885812",
     "exception": false,
     "start_time": "2022-09-19T14:08:39.878191",
     "status": "completed"
    },
    "tags": []
   },
   "source": [
    "# Keep Going\n",
    "\n",
    "Nice job with the code. Next up, you'll learn about *conditionals*, which you'll need to **[write interesting programs](https://www.kaggle.com/colinmorris/booleans-and-conditionals)**. "
   ]
  },
  {
   "cell_type": "markdown",
   "id": "5676b87a",
   "metadata": {
    "papermill": {
     "duration": 0.005773,
     "end_time": "2022-09-19T14:08:39.897745",
     "exception": false,
     "start_time": "2022-09-19T14:08:39.891972",
     "status": "completed"
    },
    "tags": []
   },
   "source": [
    "---\n",
    "\n",
    "\n",
    "\n",
    "\n",
    "*Have questions or comments? Visit the [course discussion forum](https://www.kaggle.com/learn/python/discussion) to chat with other learners.*"
   ]
  }
 ],
 "metadata": {
  "kernelspec": {
   "display_name": "Python 3",
   "language": "python",
   "name": "python3"
  },
  "language_info": {
   "codemirror_mode": {
    "name": "ipython",
    "version": 3
   },
   "file_extension": ".py",
   "mimetype": "text/x-python",
   "name": "python",
   "nbconvert_exporter": "python",
   "pygments_lexer": "ipython3",
   "version": "3.7.12"
  },
  "papermill": {
   "default_parameters": {},
   "duration": 10.565,
   "end_time": "2022-09-19T14:08:40.624666",
   "environment_variables": {},
   "exception": null,
   "input_path": "__notebook__.ipynb",
   "output_path": "__notebook__.ipynb",
   "parameters": {},
   "start_time": "2022-09-19T14:08:30.059666",
   "version": "2.3.4"
  }
 },
 "nbformat": 4,
 "nbformat_minor": 5
}
